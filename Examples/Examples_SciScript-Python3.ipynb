{
 "cells": [
  {
   "cell_type": "code",
   "execution_count": 1,
   "metadata": {
    "collapsed": false,
    "scrolled": true
   },
   "outputs": [],
   "source": [
    "import SciServer\n",
    "from SciServer import Authentication, LoginPortal, Config, CasJobs, SkyQuery, SciDrive, SkyServer\n",
    "import os;\n",
    "import pandas;\n",
    "import sys;\n",
    "import json;\n",
    "from io import StringIO\n",
    "from io import BytesIO\n",
    "#from PIL import Image\n",
    "import numpy as np\n",
    "import matplotlib.pyplot as plt\n",
    "\n",
    "# Define login Name and password before running these examples\n",
    "Authentication_loginName = '***';\n",
    "Authentication_loginPassword = '***'"
   ]
  },
  {
   "cell_type": "code",
   "execution_count": 2,
   "metadata": {
    "collapsed": false
   },
   "outputs": [],
   "source": [
    "#help(SciServer)"
   ]
  },
  {
   "cell_type": "code",
   "execution_count": 3,
   "metadata": {
    "collapsed": true
   },
   "outputs": [],
   "source": [
    "# *******************************************************************************************************\n",
    "# Authentication section\n",
    "# *******************************************************************************************************"
   ]
  },
  {
   "cell_type": "code",
   "execution_count": 4,
   "metadata": {
    "collapsed": false
   },
   "outputs": [],
   "source": [
    "#help(Authentication)"
   ]
  },
  {
   "cell_type": "code",
   "execution_count": 5,
   "metadata": {
    "collapsed": false
   },
   "outputs": [
    {
     "name": "stdout",
     "output_type": "stream",
     "text": [
      "token1=73d48dd7d1b44b4aaa58a7c161413645\n",
      "token2=73d48dd7d1b44b4aaa58a7c161413645\n",
      "token3=73d48dd7d1b44b4aaa58a7c161413645\n",
      "token4=73d48dd7d1b44b4aaa58a7c161413645\n"
     ]
    },
    {
     "name": "stderr",
     "output_type": "stream",
     "text": [
      "/usr/local/lib/python2.7/dist-packages/ipykernel/__main__.py:5: DeprecationWarning: Using SciServer.Authentication.getKeystoneToken is deprecated. Use SciServer.Authentication.getToken instead.\n"
     ]
    }
   ],
   "source": [
    "#logging in and getting current token from different ways\n",
    "\n",
    "token1 = Authentication.login(Authentication_loginName, Authentication_loginPassword);\n",
    "token2 = Authentication.getToken()\n",
    "token3 = Authentication.getKeystoneToken()\n",
    "token4 = Authentication.token.value\n",
    "print(\"token1=\" + token1)#\n",
    "print(\"token2=\" + token2)#\n",
    "print(\"token3=\" + token3)#\n",
    "print(\"token4=\" + token4)#"
   ]
  },
  {
   "cell_type": "code",
   "execution_count": 6,
   "metadata": {
    "collapsed": false
   },
   "outputs": [
    {
     "name": "stdout",
     "output_type": "stream",
     "text": [
      "userName=manu9\n",
      "id=868755edf5c94e8e840ce1d2b26bd63b\n",
      "ident=--ident=\n"
     ]
    }
   ],
   "source": [
    "#getting curent user info\n",
    "\n",
    "user = Authentication.getKeystoneUserWithToken(token1)\n",
    "print(\"userName=\" + user.userName)\n",
    "print(\"id=\" + user.id)\n",
    "iden = Authentication.identArgIdentifier()\n",
    "print(\"ident=\"+iden)"
   ]
  },
  {
   "cell_type": "code",
   "execution_count": 7,
   "metadata": {
    "collapsed": false
   },
   "outputs": [
    {
     "name": "stdout",
     "output_type": "stream",
     "text": [
      "token5=myToken1\n",
      "token6=myToken2\n"
     ]
    },
    {
     "name": "stderr",
     "output_type": "stream",
     "text": [
      "/usr/local/lib/python2.7/dist-packages/ipykernel/__main__.py:5: DeprecationWarning: Using SciServer.Authentication.setKeystoneToken is deprecated. Use SciServer.Authentication.setToken instead.\n",
      "/usr/local/lib/python2.7/dist-packages/ipykernel/__main__.py:6: DeprecationWarning: Using SciServer.Authentication.getKeystoneToken is deprecated. Use SciServer.Authentication.getToken instead.\n"
     ]
    }
   ],
   "source": [
    "#reseting the current token to another value:\n",
    "\n",
    "Authentication.setToken(\"myToken1\")\n",
    "token5 = Authentication.getToken()\n",
    "Authentication.setKeystoneToken(\"myToken2\")\n",
    "token6 = Authentication.getKeystoneToken()\n",
    "\n",
    "print(\"token5=\" + token5)\n",
    "print(\"token6=\" + token6)"
   ]
  },
  {
   "cell_type": "code",
   "execution_count": 8,
   "metadata": {
    "collapsed": true
   },
   "outputs": [],
   "source": [
    "#logging-in again\n",
    "\n",
    "token1 = Authentication.login(Authentication_loginName, Authentication_loginPassword);"
   ]
  },
  {
   "cell_type": "code",
   "execution_count": 9,
   "metadata": {
    "collapsed": true
   },
   "outputs": [],
   "source": [
    "# *******************************************************************************************************\n",
    "# LoginPortal section:\n",
    "# *******************************************************************************************************"
   ]
  },
  {
   "cell_type": "code",
   "execution_count": 10,
   "metadata": {
    "collapsed": true
   },
   "outputs": [],
   "source": [
    "#help(LoginPortal)"
   ]
  },
  {
   "cell_type": "code",
   "execution_count": 11,
   "metadata": {
    "collapsed": false
   },
   "outputs": [
    {
     "name": "stderr",
     "output_type": "stream",
     "text": [
      "/usr/local/lib/python2.7/dist-packages/ipykernel/__main__.py:3: DeprecationWarning: Using SciServer.LoginPortal.login is deprecated. Use SciServer.Authentication.login instead.\n",
      "  app.launch_new_instance()\n"
     ]
    },
    {
     "name": "stdout",
     "output_type": "stream",
     "text": [
      "token1=66c040d1ad5d48df966b5615ea2053c0\n",
      "token2=66c040d1ad5d48df966b5615ea2053c0\n",
      "token3=66c040d1ad5d48df966b5615ea2053c0\n"
     ]
    },
    {
     "name": "stderr",
     "output_type": "stream",
     "text": [
      "/usr/local/lib/python2.7/dist-packages/ipykernel/__main__.py:4: DeprecationWarning: Using SciServer.LoginPortal.getToken is deprecated. Use SciServer.Authentication.getToken instead.\n",
      "/usr/local/lib/python2.7/dist-packages/ipykernel/__main__.py:5: DeprecationWarning: Using SciServer.LoginPortal.getKeystoneToken is deprecated. Use SciServer.Authentication.getToken instead.\n"
     ]
    }
   ],
   "source": [
    "#logging in and getting current token from different ways\n",
    "\n",
    "token1 = LoginPortal.login(Authentication_loginName, Authentication_loginPassword);\n",
    "token2 = LoginPortal.getToken()\n",
    "token3 = LoginPortal.getKeystoneToken()\n",
    "print(\"token1=\" + token1)#\n",
    "print(\"token2=\" + token2)#\n",
    "print(\"token3=\" + token3)#"
   ]
  },
  {
   "cell_type": "code",
   "execution_count": 12,
   "metadata": {
    "collapsed": false
   },
   "outputs": [
    {
     "name": "stdout",
     "output_type": "stream",
     "text": [
      "userName=manu9\n",
      "id=868755edf5c94e8e840ce1d2b26bd63b\n",
      "ident=--ident=\n"
     ]
    },
    {
     "name": "stderr",
     "output_type": "stream",
     "text": [
      "/usr/local/lib/python2.7/dist-packages/ipykernel/__main__.py:3: DeprecationWarning: Using SciServer.LoginPortal.getKeystoneUserWithToken is deprecated. Use SciServer.Authentication.getKeystoneUserWithToken instead.\n",
      "  app.launch_new_instance()\n",
      "/usr/local/lib/python2.7/dist-packages/ipykernel/__main__.py:6: DeprecationWarning: Using SciServer.Authentication.identArgIdentifier is deprecated. Use SciServer.Authentication.identArgIdentifier instead.\n"
     ]
    }
   ],
   "source": [
    "#getting curent user info\n",
    "\n",
    "user = LoginPortal.getKeystoneUserWithToken(token1)\n",
    "print(\"userName=\" + user.userName)\n",
    "print(\"id=\" + user.id)#\n",
    "iden = LoginPortal.identArgIdentifier()\n",
    "print(\"ident=\"+iden)#"
   ]
  },
  {
   "cell_type": "code",
   "execution_count": 13,
   "metadata": {
    "collapsed": false
   },
   "outputs": [
    {
     "name": "stdout",
     "output_type": "stream",
     "text": [
      "token6=myToken2\n"
     ]
    },
    {
     "name": "stderr",
     "output_type": "stream",
     "text": [
      "/usr/local/lib/python2.7/dist-packages/ipykernel/__main__.py:3: DeprecationWarning: Using SciServer.LoginPortal.getKeystoneToken is deprecated. Use SciServer.Authentication.setToken instead.\n",
      "  app.launch_new_instance()\n",
      "/usr/local/lib/python2.7/dist-packages/ipykernel/__main__.py:4: DeprecationWarning: Using SciServer.LoginPortal.getKeystoneToken is deprecated. Use SciServer.Authentication.getToken instead.\n"
     ]
    }
   ],
   "source": [
    "#reseting the current token to another value:\n",
    "\n",
    "LoginPortal.setKeystoneToken(\"myToken2\")\n",
    "token6 = LoginPortal.getKeystoneToken()\n",
    "print(\"token6=\" + token6)"
   ]
  },
  {
   "cell_type": "code",
   "execution_count": 14,
   "metadata": {
    "collapsed": false
   },
   "outputs": [
    {
     "name": "stderr",
     "output_type": "stream",
     "text": [
      "/usr/local/lib/python2.7/dist-packages/ipykernel/__main__.py:3: DeprecationWarning: Using SciServer.LoginPortal.login is deprecated. Use SciServer.Authentication.login instead.\n",
      "  app.launch_new_instance()\n"
     ]
    }
   ],
   "source": [
    "#logging-in again\n",
    "\n",
    "token1 = LoginPortal.login(Authentication_loginName, Authentication_loginPassword);"
   ]
  },
  {
   "cell_type": "code",
   "execution_count": 15,
   "metadata": {
    "collapsed": false
   },
   "outputs": [],
   "source": [
    "# *******************************************************************************************************\n",
    "# CasJobs section:\n",
    "# *******************************************************************************************************"
   ]
  },
  {
   "cell_type": "code",
   "execution_count": 16,
   "metadata": {
    "collapsed": true
   },
   "outputs": [],
   "source": [
    "#help(CasJobs)"
   ]
  },
  {
   "cell_type": "code",
   "execution_count": 17,
   "metadata": {
    "collapsed": true
   },
   "outputs": [],
   "source": [
    "#Defining databse context and query, and other variables\n",
    "\n",
    "CasJobs_TestDatabase = \"MyDB\"\n",
    "CasJobs_TestQuery = \"select 4 as Column1, 5 as Column2 \"\n",
    "CasJobs_TestTableName1 = \"MyNewtable1\"\n",
    "CasJobs_TestTableName2 = \"MyNewtable2\"\n",
    "CasJobs_TestTableCSV = u\"Column1,Column2\\n4,5\\n\"\n",
    "CasJobs_TestFitsFile = \"SciScriptTestFile.fits\"\n",
    "CasJobs_TestCSVFile = \"SciScriptTestFile.csv\""
   ]
  },
  {
   "cell_type": "code",
   "execution_count": 18,
   "metadata": {
    "collapsed": false
   },
   "outputs": [
    {
     "name": "stdout",
     "output_type": "stream",
     "text": [
      "wsid_1727612173\n"
     ]
    }
   ],
   "source": [
    "#get user schema info\n",
    "\n",
    "casJobsId = CasJobs.getSchemaName()\n",
    "print(casJobsId)"
   ]
  },
  {
   "cell_type": "code",
   "execution_count": 19,
   "metadata": {
    "collapsed": false
   },
   "outputs": [
    {
     "name": "stdout",
     "output_type": "stream",
     "text": [
      "[{u'Date': 636040847485630000, u'Rows': 10, u'Name': u'MyTable', u'Size': 16}, {u'Date': 636040853136800000, u'Rows': 1, u'Name': u'MyTable_0', u'Size': 16}, {u'Date': 636060161371030000, u'Rows': 10, u'Name': u'Table_20160805_174712_079', u'Size': 16}, {u'Date': 636060163130770000, u'Rows': 10, u'Name': u'Table_20160805_175010_984', u'Size': 16}, {u'Date': 636063304632930000, u'Rows': 10, u'Name': u'swdewwe3', u'Size': 16}, {u'Date': 636063305765900000, u'Rows': 1, u'Name': u'Table_20160809_090936_735', u'Size': 16}, {u'Date': 636172281264900000, u'Rows': 1000, u'Name': u'crossid', u'Size': 136}, {u'Date': 636186098474400000, u'Rows': 20, u'Name': u'sdssObjects', u'Size': 16}, {u'Date': 636200678722770000, u'Rows': 10, u'Name': u'MyTable_1', u'Size': 16}, {u'Date': 636201980630600000, u'Rows': 1, u'Name': u'MyTable_2', u'Size': 16}, {u'Date': 636213835055300000, u'Rows': 10, u'Name': u'rad', u'Size': 16}, {u'Date': 636215579527400000, u'Rows': 19793, u'Name': u'twowayxmatch', u'Size': 2064}, {u'Date': 636234445290570000, u'Rows': 10, u'Name': u'MyTable_3', u'Size': 24}, {u'Date': 636235472128030000, u'Rows': 10, u'Name': u'dwderf', u'Size': 16}, {u'Date': 636235478774900000, u'Rows': 10, u'Name': u'MyNewtable3', u'Size': 16}, {u'Date': 636237857560130000, u'Rows': 4, u'Name': u'MyCsvTable3', u'Size': 16}, {u'Date': 636239703899430000, u'Rows': 0, u'Name': u'MyTB', u'Size': 0}, {u'Date': 636239704235530000, u'Rows': 10, u'Name': u'MyTB1', u'Size': 16}, {u'Date': 636239706099930000, u'Rows': 20, u'Name': u'MyNewTable55', u'Size': 16}, {u'Date': 636239706508670000, u'Rows': 10, u'Name': u'MyNewTable56', u'Size': 16}, {u'Date': 636244200572900000, u'Rows': 2, u'Name': u'NewTableFromDataFrame', u'Size': 16}, {u'Date': 636244207543270000, u'Rows': 10, u'Name': u'NewTableFromDataFrame2', u'Size': 16}, {u'Date': 636244207849670000, u'Rows': 10, u'Name': u'NewTableFromDataFrame4', u'Size': 16}, {u'Date': 636244210077500000, u'Rows': 1, u'Name': u'tt1', u'Size': 16}, {u'Date': 636244215729030000, u'Rows': 10, u'Name': u'NewTableFromDataFrame22', u'Size': 16}, {u'Date': 636244216009930000, u'Rows': 10, u'Name': u'NewTableFromDataFrame23', u'Size': 16}, {u'Date': 636247632453800000, u'Rows': 10, u'Name': u'qsded', u'Size': 16}, {u'Date': 636250155745070000, u'Rows': 1, u'Name': u'myTestTable', u'Size': 16}, {u'Date': 636250177431900000, u'Rows': 1, u'Name': u'mnmn', u'Size': 16}, {u'Date': 636250178237730000, u'Rows': 10, u'Name': u'mnmn2', u'Size': 16}, {u'Date': 636250196616170000, u'Rows': 1, u'Name': u'NewTableFromDataFrame256', u'Size': 16}, {u'Date': 636250236079900000, u'Rows': 1, u'Name': u'mmj2', u'Size': 16}, {u'Date': 636250254189000000, u'Rows': 1, u'Name': u'SkyQueryUploadTable', u'Size': 80}, {u'Date': 636250265806130000, u'Rows': 1, u'Name': u'myTable212221', u'Size': 80}, {u'Date': 636250266280870000, u'Rows': 1, u'Name': u'myTable2', u'Size': 80}, {u'Date': 636250266498070000, u'Rows': 1, u'Name': u'myTable21', u'Size': 80}, {u'Date': 636250821099630000, u'Rows': 1, u'Name': u'myTablez3', u'Size': 80}, {u'Date': 636250822413130000, u'Rows': 1, u'Name': u'myTablez2', u'Size': 80}, {u'Date': 636250822813300000, u'Rows': 1, u'Name': u'myTablez243', u'Size': 80}, {u'Date': 636250823328700000, u'Rows': 1, u'Name': u'myTable21ZZ', u'Size': 80}, {u'Date': 636250823885630000, u'Rows': 1, u'Name': u'myTablez244', u'Size': 80}, {u'Date': 636250824626430000, u'Rows': 1, u'Name': u'myTablez245', u'Size': 80}, {u'Date': 636250826101630000, u'Rows': 2, u'Name': u'skcsv1', u'Size': 80}, {u'Date': 636250826647500000, u'Rows': 2, u'Name': u'ss1', u'Size': 80}, {u'Date': 636250827295500000, u'Rows': 2, u'Name': u'myTablez246', u'Size': 80}, {u'Date': 636250830292300000, u'Rows': 2, u'Name': u'myTablez247', u'Size': 80}, {u'Date': 636250831788470000, u'Rows': 1, u'Name': u'myTable21ZA', u'Size': 80}, {u'Date': 636250858290930000, u'Rows': 1, u'Name': u'myTablecdcc', u'Size': 80}, {u'Date': 636251178141600000, u'Rows': 1, u'Name': u'testTable1', u'Size': 16}, {u'Date': 636251178701070000, u'Rows': 1, u'Name': u'testTable2', u'Size': 16}, {u'Date': 636251180597800000, u'Rows': 1, u'Name': u'testTable3', u'Size': 16}, {u'Date': 636252845688770000, u'Rows': 1, u'Name': u'Results', u'Size': 24}, {u'Date': 636252862493400000, u'Rows': 1, u'Name': u'Results_1', u'Size': 80}, {u'Date': 636252864622430000, u'Rows': 1, u'Name': u'Results_2', u'Size': 80}, {u'Date': 636252869032330000, u'Rows': 1, u'Name': u'Results_3', u'Size': 80}, {u'Date': 636252871139800000, u'Rows': 1, u'Name': u'myTabledsdd', u'Size': 80}, {u'Date': 636252873323200000, u'Rows': 1, u'Name': u'TestTableSciScriptR', u'Size': 80}, {u'Date': 636252873573770000, u'Rows': 1, u'Name': u'TestTableSciScriptR2', u'Size': 80}, {u'Date': 636252990714200000, u'Rows': 1, u'Name': u'Results_4', u'Size': 80}, {u'Date': 636253824279870000, u'Rows': 1, u'Name': u'Results_5', u'Size': 80}, {u'Date': 636255113185000000, u'Rows': 1, u'Name': u'Results_6', u'Size': 80}, {u'Date': 636255479491700000, u'Rows': 2, u'Name': u'MyNewTable87', u'Size': 16}, {u'Date': 636255519049170000, u'Rows': 1, u'Name': u'csvT2', u'Size': 16}, {u'Date': 636255532093800000, u'Rows': 3, u'Name': u'csvT3', u'Size': 16}, {u'Date': 636255532380670000, u'Rows': 3, u'Name': u'csvT4', u'Size': 16}, {u'Date': 636255532673400000, u'Rows': 1, u'Name': u'csvT5', u'Size': 16}, {u'Date': 636256912408500000, u'Rows': 1, u'Name': u'dw1', u'Size': 16}, {u'Date': 636258032314330000, u'Rows': 1, u'Name': u'QuickResults', u'Size': 80}, {u'Date': 636258034382500000, u'Rows': 1, u'Name': u'MyNewtable2', u'Size': 16}]\n"
     ]
    }
   ],
   "source": [
    "#get info about tables inside MyDB database context:\n",
    "\n",
    "tables = CasJobs.getTables(context=\"MyDB\")\n",
    "print(tables)"
   ]
  },
  {
   "cell_type": "code",
   "execution_count": 20,
   "metadata": {
    "collapsed": false
   },
   "outputs": [
    {
     "name": "stdout",
     "output_type": "stream",
     "text": [
      "   Column1  Column2\n",
      "0        4        5\n"
     ]
    }
   ],
   "source": [
    "#execute a quick SQL query:\n",
    "\n",
    "df = CasJobs.executeQuery(sql=CasJobs_TestQuery, context=CasJobs_TestDatabase, format=\"pandas\")\n",
    "print(df)"
   ]
  },
  {
   "cell_type": "code",
   "execution_count": 21,
   "metadata": {
    "collapsed": false
   },
   "outputs": [
    {
     "name": "stdout",
     "output_type": "stream",
     "text": [
      "25185934\n",
      "{u'Status': 5, u'TimeStart': u'2017-03-22T18:17:51.943', u'Rows': 1, u'Target': u'MyDB', u'SendEmail': 0, u'Message': u'Query Complete', u'ModifiedQuery': u'select 4 as Column1, 5 as Column2  /*CASJOBS_INTO_TABLE:[sdss3q].mydb_1727612173.webuser.MyNewtable1*/', u'Created_Table': u'MyNewtable1', u'TimeEnd': u'2017-03-22T18:17:52.257', u'JobID': 25185934, u'WebServicesID': 1727612173, u'TimeSubmit': u'2017-03-22T18:17:21.41', u'Params': u'', u'HostIP': u'SQL001DBHost   ', u'Query': u'select 4 as Column1, 5 as Column2  into MyDB.MyNewtable1', u'Estimate': 500, u'OutputType': u'QUERY', u'TaskName': u'SciScript-Python.CasJobs.submitJob', u'OutputLoc': u'', u'AutoComplete': 0}\n"
     ]
    }
   ],
   "source": [
    "#submit a job, which inserts the query results into a table in the MyDB database context. \n",
    "#Wait until the job is done and get its status.\n",
    "\n",
    "jobId = CasJobs.submitJob(sql=CasJobs_TestQuery + \" into MyDB.\" + CasJobs_TestTableName1, context=\"MyDB\")\n",
    "jobDescription = CasJobs.waitForJob(jobId=jobId, verbose=False)\n",
    "print(jobId)\n",
    "print(jobDescription)"
   ]
  },
  {
   "cell_type": "code",
   "execution_count": 22,
   "metadata": {
    "collapsed": false
   },
   "outputs": [
    {
     "name": "stdout",
     "output_type": "stream",
     "text": [
      "   Rows Affected\n",
      "0              0\n"
     ]
    }
   ],
   "source": [
    "# drop or delete table in MyDB database context\n",
    "\n",
    "df = CasJobs.executeQuery(sql=\"DROP TABLE \" + CasJobs_TestTableName1, context=\"MyDB\", format=\"pandas\")\n",
    "print(df)"
   ]
  },
  {
   "cell_type": "code",
   "execution_count": 23,
   "metadata": {
    "collapsed": false
   },
   "outputs": [
    {
     "name": "stdout",
     "output_type": "stream",
     "text": [
      "25186076\n",
      "{u'Status': 0, u'TimeStart': None, u'Rows': None, u'Target': u'MyDB', u'SendEmail': 0, u'Message': u'', u'ModifiedQuery': u'select 4 as Column1, 5 as Column2', u'Created_Table': u'', u'TimeEnd': None, u'JobID': 25186076, u'WebServicesID': 1727612173, u'TimeSubmit': u'2017-03-22T18:17:54.583', u'Params': u'', u'HostIP': u'               ', u'Query': u'select 4 as Column1, 5 as Column2 ', u'Estimate': 500, u'OutputType': u'QUERY', u'TaskName': u'SciScript-Python.CasJobs.submitJob', u'OutputLoc': u'', u'AutoComplete': 0}\n"
     ]
    }
   ],
   "source": [
    "#get job status\n",
    "\n",
    "jobId = CasJobs.submitJob(sql=CasJobs_TestQuery, context=CasJobs_TestDatabase)\n",
    "jobDescription = CasJobs.getJobStatus(jobId)\n",
    "print(jobId)\n",
    "print(jobDescription)"
   ]
  },
  {
   "cell_type": "code",
   "execution_count": 24,
   "metadata": {
    "collapsed": false
   },
   "outputs": [
    {
     "name": "stdout",
     "output_type": "stream",
     "text": [
      "25186080\n",
      "True\n"
     ]
    }
   ],
   "source": [
    "#cancel a job\n",
    "\n",
    "jobId = CasJobs.submitJob(sql=CasJobs_TestQuery, context=CasJobs_TestDatabase)\n",
    "jobDescription = CasJobs.cancelJob(jobId=jobId)\n",
    "print(jobId)\n",
    "print(jobDescription)"
   ]
  },
  {
   "cell_type": "code",
   "execution_count": 25,
   "metadata": {
    "collapsed": false
   },
   "outputs": [
    {
     "name": "stdout",
     "output_type": "stream",
     "text": [
      "True\n"
     ]
    }
   ],
   "source": [
    "#execute a query and write a local Fits file containing the query results:\n",
    "\n",
    "result = CasJobs.writeFitsFileFromQuery(fileName=CasJobs_TestFitsFile, queryString=CasJobs_TestQuery, context=\"MyDB\")\n",
    "print(result)"
   ]
  },
  {
   "cell_type": "code",
   "execution_count": 26,
   "metadata": {
    "collapsed": false
   },
   "outputs": [
    {
     "data": {
      "text/plain": [
       "0"
      ]
     },
     "execution_count": 26,
     "metadata": {},
     "output_type": "execute_result"
    }
   ],
   "source": [
    "#delete local FITS file just created:\n",
    "\n",
    "os.system(\"rm \" + CasJobs_TestFitsFile)"
   ]
  },
  {
   "cell_type": "code",
   "execution_count": 27,
   "metadata": {
    "collapsed": false
   },
   "outputs": [
    {
     "name": "stdout",
     "output_type": "stream",
     "text": [
      "   Column1  Column2\n",
      "0        4        5\n"
     ]
    }
   ],
   "source": [
    "#get a Pandas dataframe containing the results of a query\n",
    "\n",
    "df = CasJobs.getPandasDataFrameFromQuery(queryString=CasJobs_TestQuery, context=CasJobs_TestDatabase)\n",
    "print(df)"
   ]
  },
  {
   "cell_type": "code",
   "execution_count": 28,
   "metadata": {
    "collapsed": false
   },
   "outputs": [
    {
     "name": "stdout",
     "output_type": "stream",
     "text": [
      "[[4 5]]\n"
     ]
    }
   ],
   "source": [
    "# get numpy array containing the results of a query\n",
    "\n",
    "array = CasJobs.getNumpyArrayFromQuery(queryString=CasJobs_TestQuery, context=CasJobs_TestDatabase)\n",
    "print(array)"
   ]
  },
  {
   "cell_type": "code",
   "execution_count": 29,
   "metadata": {
    "collapsed": false
   },
   "outputs": [
    {
     "name": "stdout",
     "output_type": "stream",
     "text": [
      "True\n",
      "   Column1  Column2\n",
      "0        4        5\n"
     ]
    }
   ],
   "source": [
    "#uploads a Pandas dataframe into a Database table\n",
    "\n",
    "df = pandas.read_csv(StringIO(CasJobs_TestTableCSV), index_col=None)\n",
    "result = CasJobs.uploadPandasDataFrameToTable(dataFrame=df, tableName=CasJobs_TestTableName2, context=\"MyDB\")\n",
    "table = CasJobs.executeQuery(sql=\"select * from \" + CasJobs_TestTableName2, context=\"MyDB\", format=\"pandas\")\n",
    "print(result)\n",
    "print(table)"
   ]
  },
  {
   "cell_type": "code",
   "execution_count": 30,
   "metadata": {
    "collapsed": false
   },
   "outputs": [
    {
     "name": "stdout",
     "output_type": "stream",
     "text": [
      "   Rows Affected\n",
      "0              0\n"
     ]
    }
   ],
   "source": [
    "# drop or delete table just created:\n",
    "\n",
    "result2 = CasJobs.executeQuery(sql=\"DROP TABLE \" + CasJobs_TestTableName2, context=CasJobs_TestDatabase, format=\"pandas\")\n",
    "print(result2)"
   ]
  },
  {
   "cell_type": "code",
   "execution_count": 31,
   "metadata": {
    "collapsed": false
   },
   "outputs": [
    {
     "name": "stdout",
     "output_type": "stream",
     "text": [
      "True\n",
      "   Column1  Column2\n",
      "0        4        5\n"
     ]
    }
   ],
   "source": [
    "#upload csv data string into a database table:\n",
    "\n",
    "result3 = CasJobs.uploadCSVDataToTable(csvData=CasJobs_TestTableCSV, tableName=CasJobs_TestTableName2, context=\"MyDB\")\n",
    "df2 = CasJobs.executeQuery(sql=\"select * from \" + CasJobs_TestTableName2, context=\"MyDB\", format=\"pandas\")\n",
    "print(result3)\n",
    "print(df2)"
   ]
  },
  {
   "cell_type": "code",
   "execution_count": 32,
   "metadata": {
    "collapsed": false
   },
   "outputs": [
    {
     "name": "stdout",
     "output_type": "stream",
     "text": [
      "   Rows Affected\n",
      "0              0\n"
     ]
    }
   ],
   "source": [
    "# drop or delete table just created:\n",
    "\n",
    "result4 = CasJobs.executeQuery(sql=\"DROP TABLE \" + CasJobs_TestTableName2, context=CasJobs_TestDatabase, format=\"pandas\")\n",
    "print(result4)"
   ]
  },
  {
   "cell_type": "code",
   "execution_count": 33,
   "metadata": {
    "collapsed": true
   },
   "outputs": [],
   "source": [
    "# *******************************************************************************************************\n",
    "#  SkyServer section:\n",
    "# *******************************************************************************************************"
   ]
  },
  {
   "cell_type": "code",
   "execution_count": 34,
   "metadata": {
    "collapsed": false
   },
   "outputs": [],
   "source": [
    "#help(SkyServer)"
   ]
  },
  {
   "cell_type": "code",
   "execution_count": 35,
   "metadata": {
    "collapsed": true
   },
   "outputs": [],
   "source": [
    "#defining sql query and SDSS data relelease:\n",
    "\n",
    "SkyServer_TestQuery = \"select top 1 specobjid, ra, dec from specobj order by specobjid\"\n",
    "SkyServer_DataRelease = \"DR13\""
   ]
  },
  {
   "cell_type": "code",
   "execution_count": 36,
   "metadata": {
    "collapsed": false
   },
   "outputs": [
    {
     "name": "stdout",
     "output_type": "stream",
     "text": [
      "            specobjid         ra       dec\n",
      "0  299489677444933632  146.71421 -1.041304\n"
     ]
    }
   ],
   "source": [
    "#Exectute sql query\n",
    "\n",
    "df = SkyServer.sqlSearch(sql=SkyServer_TestQuery, dataRelease=SkyServer_DataRelease)\n",
    "print(df)"
   ]
  },
  {
   "cell_type": "code",
   "execution_count": 37,
   "metadata": {
    "collapsed": false
   },
   "outputs": [
    {
     "data": {
      "text/plain": [
       "<matplotlib.image.AxesImage at 0x7f488a253990>"
      ]
     },
     "execution_count": 37,
     "metadata": {},
     "output_type": "execute_result"
    }
   ],
   "source": [
    "#get an image cutout\n",
    "\n",
    "img = SkyServer.getJpegImgCutout(ra=197.614455642896, dec=18.438168853724, width=2, height=2, scale=0.4, \n",
    "                                 dataRelease=SkyServer_DataRelease,opt=\"OG\",\n",
    "                                 query=\"SELECT TOP 100 p.objID, p.ra, p.dec, p.r FROM fGetObjFromRectEq(197.6,18.4,197.7,18.5) n, PhotoPrimary p WHERE n.objID=p.objID\")\n",
    "plt.imshow(img)"
   ]
  },
  {
   "cell_type": "code",
   "execution_count": 38,
   "metadata": {
    "collapsed": false
   },
   "outputs": [
    {
     "name": "stdout",
     "output_type": "stream",
     "text": [
      "                 objid   run  rerun  camcol  field  obj  type          ra  \\\n",
      "0  1237671939804561654  6162    301       3    133  246     3  258.250804   \n",
      "\n",
      "         dec         u        g         r         i         z     Err_u  \\\n",
      "0  64.051445  23.33982  22.3194  21.41105  21.11971  20.84277  0.664019   \n",
      "\n",
      "      Err_g    Err_r     Err_i     Err_z  \n",
      "0  0.116986  0.07641  0.080523  0.238198  \n"
     ]
    }
   ],
   "source": [
    "# do a radial search of objects:\n",
    "\n",
    "df = SkyServer.radialSearch(ra=258.25, dec=64.05, radius=0.1, dataRelease=SkyServer_DataRelease)\n",
    "print(df)"
   ]
  },
  {
   "cell_type": "code",
   "execution_count": 39,
   "metadata": {
    "collapsed": false
   },
   "outputs": [
    {
     "name": "stdout",
     "output_type": "stream",
     "text": [
      "                 objid   run  rerun  camcol  field   obj  type          ra  \\\n",
      "0  1237671939804628290  6162    301       3    134  1346     6  258.304721   \n",
      "\n",
      "         dec        u         g        r         i         z     Err_u  \\\n",
      "0  64.006203  25.0008  24.50057  22.4854  21.10345  20.14999  0.995208   \n",
      "\n",
      "      Err_g     Err_r     Err_i     Err_z  \n",
      "0  0.565456  0.166184  0.071836  0.124986  \n"
     ]
    }
   ],
   "source": [
    "#do rectangular search of objects:\n",
    "\n",
    "df = SkyServer.rectangularSearch(min_ra=258.3, max_ra=258.31, min_dec=64,max_dec=64.01, dataRelease=SkyServer_DataRelease)\n",
    "print(df)"
   ]
  },
  {
   "cell_type": "code",
   "execution_count": 40,
   "metadata": {
    "collapsed": false
   },
   "outputs": [
    {
     "name": "stdout",
     "output_type": "stream",
     "text": [
      "[{u'Rows': [{u'specId': None, u'name': u'', u'apid': u'', u'objId': u'0x112d1812608500f6', u'specObjId': u'', u'id': 1237671939804561654}], u'TableName': u'objectInfo'}, {u'Rows': [{u'mjd': 53879, u'camcol': 3, u'run': 6162, u'specObjId': None, u'objid': 1237671939804561654, u'field': 133, u'otype': u'GALAXY', u'survey': u'', u'ra': 258.250803912329, u'clean': 0, u'rerun': 301, u'obj': 246, u'dec': 64.0514446092202, u'mode': 1}], u'TableName': u'MetaData'}, {u'Rows': [{u'parentID': 1237671939804561638, u'GalaxyZoo_Morph': u'-', u'nChild': 0, u'camcol': 3, u'mjdNum': 53879, u'otype': u'GALAXY', u'field': 133, u'ra': 258.250803912329, u'u': 23.33982, u'run': 6162, u'petrorad_r': u'     1.51 &plusmn      0.161', u'photoZ_KD': u'  0.369 &plusmn   0.1088', u'objId': u'0x112d1812608500f6', u'fieldId': u'0x112d181260850000', u'err_u': 0.6640186, u'Other observations': 1, u'z': 20.84277, u'g': 22.3194, u'err_r': 0.07641038, u'i': 21.11971, u'err_z': 0.2381976, u'err_g': 0.1169861, u'r': 21.41105, u'flags': u'DEBLEND_NOPEAK DEBLENDED_AT_EDGE STATIONARY BINNED1 DEBLENDED_AS_PSF NOTCHECKED INTERP COSMIC_RAY NOPETRO NODEBLEND CHILD BLENDED EDGE ', u'mode': u'PRIMARY', u'clean': 0, u'rerun': 301, u'extinction_r': u'   0.06', u'dec': 64.0514446092202, u'err_i': 0.08052275}], u'TableName': u'ImagingData'}, {u'Rows': [{u'tablename': u'PhotoObjAll', u'name': u'err_g', u'unit': u'mag'}, {u'tablename': u'PhotoObjAll', u'name': u'err_i', u'unit': u'mag'}, {u'tablename': u'PhotoObjAll', u'name': u'err_r', u'unit': u'mag'}, {u'tablename': u'PhotoObjAll', u'name': u'err_u', u'unit': u'mag'}, {u'tablename': u'PhotoObjAll', u'name': u'err_z', u'unit': u'mag'}, {u'tablename': u'PhotoObjAll', u'name': u'extinction_r', u'unit': u'mag'}, {u'tablename': u'PhotoObjAll', u'name': u'g', u'unit': u'mag'}, {u'tablename': u'PhotoObjAll', u'name': u'i', u'unit': u'mag'}, {u'tablename': u'PhotoObjAll', u'name': u'mjd', u'unit': u'days'}, {u'tablename': u'PhotoObjAll', u'name': u'mode', u'unit': u''}, {u'tablename': u'PhotoObjAll', u'name': u'nChild', u'unit': u''}, {u'tablename': u'PhotoObjAll', u'name': u'nDetect', u'unit': u''}, {u'tablename': u'PhotoObjAll', u'name': u'parentID', u'unit': u''}, {u'tablename': u'PhotoObjAll', u'name': u'petroRad_r', u'unit': u'arcsec'}, {u'tablename': u'PhotoObjAll', u'name': u'r', u'unit': u'mag'}, {u'tablename': u'PhotoObjAll', u'name': u'u', u'unit': u'mag'}, {u'tablename': u'PhotoObjAll', u'name': u'z', u'unit': u'mag'}], u'TableName': u'ImagingDataUnits'}, {u'Rows': [], u'TableName': u'CrossId_USNO'}, {u'Rows': [{u'Minor axis (arcsec)': 0, u'Catalog': u'FIRST', u'Major axis (arcsec)': 0, u'Peak flux (mJy)': u'    0.00 &plusmn;     0.00'}], u'TableName': u'CrossId_FIRST'}, {u'Rows': [], u'TableName': u'CrossId_ROSAT'}, {u'Rows': [], u'TableName': u'CrossId_RC3'}, {u'Rows': [], u'TableName': u'CrossId_WISE'}, {u'Rows': [], u'TableName': u'CrossId_TWOMASS'}, {u'Rows': [{u'redshift': None, u'spectralClass': u'', u'fiberid': None, u'dec': 64.0514446092202, u'plateId': u'', u'otype': u'GALAXY', u'field': 133, u'ra': 258.250803912329, u'specObjId': u'', u'flags': u'DEBLEND_NOPEAK DEBLENDED_AT_EDGE STATIONARY BINNED1 DEBLENDED_AS_PSF NOTCHECKED INTERP COSMIC_RAY NOPETRO NODEBLEND CHILD BLENDED EDGE ', u'plate': None, u'run': 6162, u'run2d': u'', u'err_u': u'   0.66', u'fieldId': u'0x112d181260850000', u'mjd': None, u'z': u'  20.84', u'g': u'  22.32', u'err_r': u'   0.08', u'i': u'  21.12', u'err_z': u'   0.24', u'err_g': u'   0.12', u'r': u'  21.41', u'u': u'  23.34', u'rerun': 301, u'camcol': 3, u'err_i': u'   0.08', u'objId': u'0x112d1812608500f6'}], u'TableName': u'QuickLookMetaData'}, {u'Rows': [], u'TableName': u'SpectralData'}, {u'Rows': [], u'TableName': u'ApogeeData'}, {u'Rows': [], u'TableName': u'ApogeeVisits'}, {u'Rows': [], u'TableName': u'MangaData'}]\n"
     ]
    }
   ],
   "source": [
    "#do an object search based on RA,Dec coordinates:\n",
    "\n",
    "object = SkyServer.objectSearch(ra=258.25, dec=64.05, dataRelease=SkyServer_DataRelease)\n",
    "print(object)"
   ]
  },
  {
   "cell_type": "code",
   "execution_count": 41,
   "metadata": {
    "collapsed": true
   },
   "outputs": [],
   "source": [
    "# *******************************************************************************************************\n",
    "# SciDrive section:\n",
    "# *******************************************************************************************************"
   ]
  },
  {
   "cell_type": "code",
   "execution_count": 42,
   "metadata": {
    "collapsed": true
   },
   "outputs": [],
   "source": [
    "#help(SciDrive)"
   ]
  },
  {
   "cell_type": "code",
   "execution_count": 43,
   "metadata": {
    "collapsed": true
   },
   "outputs": [],
   "source": [
    "#define name of directory to be created in SciDrive:\n",
    "SciDrive_Directory = \"SciScriptPython\"\n",
    "#define name, path and content of a file to be first created and then uploaded into SciDrive:\n",
    "SciDrive_FileName = \"TestFile.csv\"\n",
    "SciDrive_FilePath = \"./TestFile.csv\"\n",
    "SciDrive_FileContent = \"Column1,Column2\\n4.5,5.5\\n\""
   ]
  },
  {
   "cell_type": "code",
   "execution_count": 44,
   "metadata": {
    "collapsed": false
   },
   "outputs": [
    {
     "name": "stdout",
     "output_type": "stream",
     "text": [
      "{u'hash': u'8uG+8Yevhk7uzqi6717T9g==', u'rev': 0, u'thumb_exists': False, u'bytes': 0, u'modified': u'Thu, 18 Aug 2016 10:12:22 -0400', u'items': 9, u'path': u'', u'is_dir': True, u'icon': u'folder_public', u'root': u'dropbox', u'contents': [{u'rev': 0, u'thumb_exists': False, u'bytes': 132411, u'modified': u'Sat, 31 Dec 2016 11:04:36 -0500', u'path': u'/first_container', u'is_dir': True, u'icon': u'folder_public', u'root': u'dropbox', u'size': u'129.3 KB'}, {u'rev': 0, u'thumb_exists': False, u'bytes': 0, u'modified': u'Wed, 18 Jan 2017 13:44:13 -0500', u'path': u'/Gluseen', u'is_dir': True, u'icon': u'folder_public', u'root': u'dropbox', u'size': u'0 B'}, {u'rev': 0, u'thumb_exists': False, u'bytes': 27, u'modified': u'Sat, 18 Mar 2017 19:03:31 -0400', u'path': u'/MyDirectory', u'is_dir': True, u'icon': u'folder_public', u'root': u'dropbox', u'size': u'27 B'}, {u'rev': 0, u'thumb_exists': False, u'bytes': 13616, u'modified': u'Wed, 01 Mar 2017 14:01:46 -0500', u'path': u'/MyDirectory2', u'is_dir': True, u'icon': u'folder_public', u'root': u'dropbox', u'size': u'13.3 KB'}, {u'rev': 0, u'thumb_exists': False, u'bytes': 0, u'modified': u'Fri, 17 Mar 2017 21:53:25 -0400', u'path': u'/MyDirectory22', u'is_dir': True, u'icon': u'folder_public', u'root': u'dropbox', u'size': u'0 B'}, {u'rev': 0, u'thumb_exists': False, u'bytes': 402784, u'modified': u'Tue, 14 Mar 2017 21:12:14 -0400', u'path': u'/MyDirectory3', u'is_dir': True, u'icon': u'folder_public', u'root': u'dropbox', u'size': u'393.3 KB'}, {u'rev': 0, u'thumb_exists': False, u'bytes': 1169052, u'modified': u'Wed, 22 Mar 2017 17:12:30 -0400', u'path': u'/new', u'is_dir': True, u'icon': u'folder_public', u'root': u'dropbox', u'size': u'1.1 MB'}, {u'rev': 0, u'thumb_exists': False, u'bytes': 16, u'modified': u'Sat, 18 Mar 2017 19:48:19 -0400', u'path': u'/new2', u'is_dir': True, u'icon': u'folder_public', u'root': u'dropbox', u'size': u'16 B'}, {u'rev': 0, u'thumb_exists': False, u'bytes': 0, u'modified': u'Sat, 18 Mar 2017 19:47:47 -0400', u'path': u'/new3', u'is_dir': True, u'icon': u'folder_public', u'root': u'dropbox', u'size': u'0 B'}], u'size': u'0 B'}\n"
     ]
    }
   ],
   "source": [
    "#list content and metadata of top level directory in SciDrive\n",
    "\n",
    "dirList = SciDrive.directoryList(\"\")\n",
    "print(dirList)"
   ]
  },
  {
   "cell_type": "code",
   "execution_count": 45,
   "metadata": {
    "collapsed": false
   },
   "outputs": [
    {
     "name": "stdout",
     "output_type": "stream",
     "text": [
      "True\n"
     ]
    }
   ],
   "source": [
    "#create a folder or container in SciDrive\n",
    "\n",
    "responseCreate = SciDrive.createContainer(SciDrive_Directory)\n",
    "print(responseCreate)"
   ]
  },
  {
   "cell_type": "code",
   "execution_count": 46,
   "metadata": {
    "collapsed": false
   },
   "outputs": [
    {
     "name": "stdout",
     "output_type": "stream",
     "text": [
      "https://www.scidrive.org/vospace-2.0/data/9aefbb4d-6b4a-49db-bd67-11850bb15ddc\n"
     ]
    }
   ],
   "source": [
    "#get the public url to access the directory content in SciDrive\n",
    "\n",
    "url = SciDrive.publicUrl(SciDrive_Directory)\n",
    "print(url)"
   ]
  },
  {
   "cell_type": "code",
   "execution_count": 47,
   "metadata": {
    "collapsed": false
   },
   "outputs": [
    {
     "name": "stdout",
     "output_type": "stream",
     "text": [
      "True\n"
     ]
    }
   ],
   "source": [
    "#Delete folder or container in SciDrive:\n",
    "\n",
    "responseDelete = SciDrive.delete(SciDrive_Directory)\n",
    "print(responseDelete)"
   ]
  },
  {
   "cell_type": "code",
   "execution_count": 48,
   "metadata": {
    "collapsed": false
   },
   "outputs": [],
   "source": [
    "#create a local file:\n",
    "\n",
    "file = open(SciDrive_FileName, \"w\")\n",
    "file.write(SciDrive_FileContent)\n",
    "file.close()"
   ]
  },
  {
   "cell_type": "code",
   "execution_count": 49,
   "metadata": {
    "collapsed": false
   },
   "outputs": [
    {
     "name": "stdout",
     "output_type": "stream",
     "text": [
      "{u'rev': 1, u'thumb_exists': False, u'bytes': 24, u'modified': u'Wed, 22 Mar 2017 18:18:09 -0400', u'path': u'/SciScriptPython/TestFile.csv', u'is_dir': False, u'icon': u'file', u'root': u'dropbox', u'mime_type': u'application/file', u'size': u'24 B'}\n"
     ]
    }
   ],
   "source": [
    "#uploading a file to SciDrive:\n",
    "\n",
    "responseUpload = SciDrive.upload(path=SciDrive_Directory + \"/\" + SciDrive_FileName, localFilePath=SciDrive_FilePath)\n",
    "print(responseUpload)"
   ]
  },
  {
   "cell_type": "code",
   "execution_count": 50,
   "metadata": {
    "collapsed": false
   },
   "outputs": [
    {
     "name": "stdout",
     "output_type": "stream",
     "text": [
      "Column1,Column2\n",
      "4.5,5.5\n",
      "\n"
     ]
    }
   ],
   "source": [
    "#download file:\n",
    "\n",
    "stringio = SciDrive.download(path=SciDrive_Directory + \"/\" + SciDrive_FileName, format=\"StringIO\")\n",
    "fileContent = stringio.read()\n",
    "print(fileContent)"
   ]
  },
  {
   "cell_type": "code",
   "execution_count": 51,
   "metadata": {
    "collapsed": false
   },
   "outputs": [
    {
     "name": "stdout",
     "output_type": "stream",
     "text": [
      "Column1,Column2\n",
      "4.5,5.5\n",
      "\n"
     ]
    }
   ],
   "source": [
    "#upload string data:\n",
    "\n",
    "responseUpload = SciDrive.upload(path=SciDrive_Directory + \"/\" + SciDrive_FileName, data=SciDrive_FileContent)\n",
    "fileContent = SciDrive.download(path=SciDrive_Directory + \"/\" + SciDrive_FileName, format=\"text\")\n",
    "print(fileContent)"
   ]
  },
  {
   "cell_type": "code",
   "execution_count": 52,
   "metadata": {
    "collapsed": false
   },
   "outputs": [
    {
     "name": "stdout",
     "output_type": "stream",
     "text": [
      "True\n"
     ]
    }
   ],
   "source": [
    "#delete folder in SciDrive:\n",
    "\n",
    "responseDelete = SciDrive.delete(SciDrive_Directory)\n",
    "print(responseDelete)"
   ]
  },
  {
   "cell_type": "code",
   "execution_count": 53,
   "metadata": {
    "collapsed": false
   },
   "outputs": [
    {
     "data": {
      "text/plain": [
       "0"
      ]
     },
     "execution_count": 53,
     "metadata": {},
     "output_type": "execute_result"
    }
   ],
   "source": [
    "#delete local file:\n",
    "\n",
    "os.system(\"rm \" + SciDrive_FilePath)"
   ]
  },
  {
   "cell_type": "code",
   "execution_count": 54,
   "metadata": {
    "collapsed": true
   },
   "outputs": [],
   "source": [
    "# *******************************************************************************************************\n",
    "# SkyQuery section:\n",
    "# *******************************************************************************************************"
   ]
  },
  {
   "cell_type": "code",
   "execution_count": 55,
   "metadata": {
    "collapsed": true
   },
   "outputs": [],
   "source": [
    "#help(SkyQuery)"
   ]
  },
  {
   "cell_type": "code",
   "execution_count": 56,
   "metadata": {
    "collapsed": false
   },
   "outputs": [
    {
     "name": "stdout",
     "output_type": "stream",
     "text": [
      "[{u'name': u'SDSSDR7', u'isMutable': False}, {u'name': u'MYDB', u'isMutable': True}, {u'name': u'PSCz', u'isMutable': False}, {u'name': u'FUSE', u'isMutable': False}, {u'name': u'TwoDF', u'isMutable': False}, {u'name': u'SDSSDR12', u'isMutable': False}, {u'name': u'TwoMASS', u'isMutable': False}, {u'name': u'TwoQZ', u'isMutable': False}, {u'name': u'MYSCRATCH', u'isMutable': True}, {u'name': u'SDSSDR13', u'isMutable': False}, {u'name': u'NDWFS', u'isMutable': False}, {u'name': u'DLS', u'isMutable': False}, {u'name': u'IRAS', u'isMutable': False}, {u'name': u'GALEX', u'isMutable': False}, {u'name': u'RC3', u'isMutable': False}, {u'name': u'USNOB', u'isMutable': False}, {u'name': u'AGC', u'isMutable': False}, {u'name': u'WISE', u'isMutable': False}, {u'name': u'NVSS', u'isMutable': False}]\n"
     ]
    }
   ],
   "source": [
    "#list all databses or datasets available\n",
    "\n",
    "datasets = SkyQuery.listAllDatasets()\n",
    "print(datasets)"
   ]
  },
  {
   "cell_type": "code",
   "execution_count": 57,
   "metadata": {
    "collapsed": false
   },
   "outputs": [
    {
     "name": "stdout",
     "output_type": "stream",
     "text": [
      "{u'name': u'MYDB', u'isMutable': True}\n"
     ]
    }
   ],
   "source": [
    "#get info about the user's personal database or dataset\n",
    "\n",
    "info = SkyQuery.getDatasetInfo(\"MyDB\")\n",
    "print(info)"
   ]
  },
  {
   "cell_type": "code",
   "execution_count": 58,
   "metadata": {
    "collapsed": false
   },
   "outputs": [
    {
     "name": "stdout",
     "output_type": "stream",
     "text": [
      "[{u'name': u'webuser.qsded', u'summary': u'', u'example': u'', u'remarks': u'', u'class': u'', u'columns': [{u'name': u'type', u'dataType': u'tinyint', u'summary': u'', u'remarks': u'', u'size': 1, u'class': u'', u'unit': u'', u'quantity': u''}, {u'name': u'Err_u', u'dataType': u'real', u'summary': u'', u'remarks': u'', u'size': 4, u'class': u'', u'unit': u'', u'quantity': u''}, {u'name': u'dec', u'dataType': u'real', u'summary': u'', u'remarks': u'', u'size': 4, u'class': u'', u'unit': u'', u'quantity': u''}, {u'name': u'r', u'dataType': u'real', u'summary': u'', u'remarks': u'', u'size': 4, u'class': u'', u'unit': u'', u'quantity': u''}, {u'name': u'ra', u'dataType': u'real', u'summary': u'', u'remarks': u'', u'size': 4, u'class': u'', u'unit': u'', u'quantity': u''}, {u'name': u'i', u'dataType': u'real', u'summary': u'', u'remarks': u'', u'size': 4, u'class': u'', u'unit': u'', u'quantity': u''}, {u'name': u'objid', u'dataType': u'bigint', u'summary': u'', u'remarks': u'', u'size': 8, u'class': u'', u'unit': u'', u'quantity': u''}, {u'name': u'u', u'dataType': u'real', u'summary': u'', u'remarks': u'', u'size': 4, u'class': u'', u'unit': u'', u'quantity': u''}, {u'name': u'z', u'dataType': u'real', u'summary': u'', u'remarks': u'', u'size': 4, u'class': u'', u'unit': u'', u'quantity': u''}, {u'name': u'Err_z', u'dataType': u'real', u'summary': u'', u'remarks': u'', u'size': 4, u'class': u'', u'unit': u'', u'quantity': u''}, {u'name': u'obj', u'dataType': u'smallint', u'summary': u'', u'remarks': u'', u'size': 2, u'class': u'', u'unit': u'', u'quantity': u''}, {u'name': u'rerun', u'dataType': u'smallint', u'summary': u'', u'remarks': u'', u'size': 2, u'class': u'', u'unit': u'', u'quantity': u''}, {u'name': u'Err_r', u'dataType': u'real', u'summary': u'', u'remarks': u'', u'size': 4, u'class': u'', u'unit': u'', u'quantity': u''}, {u'name': u'field', u'dataType': u'tinyint', u'summary': u'', u'remarks': u'', u'size': 1, u'class': u'', u'unit': u'', u'quantity': u''}, {u'name': u'camcol', u'dataType': u'tinyint', u'summary': u'', u'remarks': u'', u'size': 1, u'class': u'', u'unit': u'', u'quantity': u''}, {u'name': u'run', u'dataType': u'smallint', u'summary': u'', u'remarks': u'', u'size': 2, u'class': u'', u'unit': u'', u'quantity': u''}, {u'name': u'Err_g', u'dataType': u'real', u'summary': u'', u'remarks': u'', u'size': 4, u'class': u'', u'unit': u'', u'quantity': u''}, {u'name': u'Err_i', u'dataType': u'real', u'summary': u'', u'remarks': u'', u'size': 4, u'class': u'', u'unit': u'', u'quantity': u''}, {u'name': u'g', u'dataType': u'real', u'summary': u'', u'remarks': u'', u'size': 4, u'class': u'', u'unit': u'', u'quantity': u''}]}, {u'name': u'webuser.myTablez246', u'summary': u'', u'example': u'', u'remarks': u'', u'class': u'', u'columns': [{u'name': u'ID', u'dataType': u'bigint', u'summary': u'', u'remarks': u'', u'size': 8, u'class': u'', u'unit': u'', u'quantity': u''}, {u'name': u'col1,col2', u'dataType': u'nvarchar(7)', u'summary': u'', u'remarks': u'', u'size': 2, u'class': u'', u'unit': u'', u'quantity': u''}]}, {u'name': u'webuser.Results_4', u'summary': u'', u'example': u'', u'remarks': u'', u'class': u'', u'columns': [{u'name': u'Column2', u'dataType': u'decimal', u'summary': u'', u'remarks': u'', u'size': 16, u'class': u'', u'unit': u'', u'quantity': u''}, {u'name': u'Column1', u'dataType': u'decimal', u'summary': u'', u'remarks': u'', u'size': 16, u'class': u'', u'unit': u'', u'quantity': u''}]}, {u'name': u'webuser.myTable21ZZ', u'summary': u'', u'example': u'', u'remarks': u'', u'class': u'', u'columns': [{u'name': u'ID', u'dataType': u'bigint', u'summary': u'', u'remarks': u'', u'size': 8, u'class': u'', u'unit': u'', u'quantity': u''}, {u'name': u'Column1,Column2', u'dataType': u'nvarchar(7)', u'summary': u'', u'remarks': u'', u'size': 2, u'class': u'', u'unit': u'', u'quantity': u''}]}, {u'name': u'webuser.NewTableFromDataFrame', u'summary': u'', u'example': u'', u'remarks': u'', u'class': u'', u'columns': [{u'name': u'foo', u'dataType': u'bit', u'summary': u'', u'remarks': u'', u'size': 1, u'class': u'', u'unit': u'', u'quantity': u''}]}, {u'name': u'webuser.Table_20160805_174712_079', u'summary': u'', u'example': u'', u'remarks': u'', u'class': u'', u'columns': [{u'name': u'spectroSynFlux_g', u'dataType': u'real', u'summary': u'', u'remarks': u'', u'size': 4, u'class': u'', u'unit': u'', u'quantity': u''}, {u'name': u'fracNSigLo_2', u'dataType': u'real', u'summary': u'', u'remarks': u'', u'size': 4, u'class': u'', u'unit': u'', u'quantity': u''}, {u'name': u'spectroSkyFlux_u', u'dataType': u'real', u'summary': u'', u'remarks': u'', u'size': 4, u'class': u'', u'unit': u'', u'quantity': u''}, {u'name': u'spectroSynFluxIvar_i', u'dataType': u'real', u'summary': u'', u'remarks': u'', u'size': 4, u'class': u'', u'unit': u'', u'quantity': u''}, {u'name': u'yFocal', u'dataType': u'real', u'summary': u'', u'remarks': u'', u'size': 4, u'class': u'', u'unit': u'', u'quantity': u''}, {u'name': u'class', u'dataType': u'varchar(max)', u'summary': u'', u'remarks': u'', u'size': 1, u'class': u'', u'unit': u'', u'quantity': u''}, {u'name': u'firstRelease', u'dataType': u'varchar(max)', u'summary': u'', u'remarks': u'', u'size': 1, u'class': u'', u'unit': u'', u'quantity': u''}, {u'name': u'spectroFluxIvar_r', u'dataType': u'real', u'summary': u'', u'remarks': u'', u'size': 4, u'class': u'', u'unit': u'', u'quantity': u''}, {u'name': u'fracNSigLo_1', u'dataType': u'real', u'summary': u'', u'remarks': u'', u'size': 4, u'class': u'', u'unit': u'', u'quantity': u''}, {u'name': u'spectroFlux_g', u'dataType': u'real', u'summary': u'', u'remarks': u'', u'size': 4, u'class': u'', u'unit': u'', u'quantity': u''}, {u'name': u'tColumn_1', u'dataType': u'bit', u'summary': u'', u'remarks': u'', u'size': 1, u'class': u'', u'unit': u'', u'quantity': u''}, {u'name': u'fracNSigHi_5', u'dataType': u'real', u'summary': u'', u'remarks': u'', u'size': 4, u'class': u'', u'unit': u'', u'quantity': u''}, {u'name': u'theta_1', u'dataType': u'real', u'summary': u'', u'remarks': u'', u'size': 4, u'class': u'', u'unit': u'', u'quantity': u''}, {u'name': u'theta_0', u'dataType': u'real', u'summary': u'', u'remarks': u'', u'size': 4, u'class': u'', u'unit': u'', u'quantity': u''}, {u'name': u'special_target1', u'dataType': u'bit', u'summary': u'', u'remarks': u'', u'size': 1, u'class': u'', u'unit': u'', u'quantity': u''}, {u'name': u'z', u'dataType': u'real', u'summary': u'', u'remarks': u'', u'size': 4, u'class': u'', u'unit': u'', u'quantity': u''}, {u'name': u'spectroSynFluxIvar_r', u'dataType': u'real', u'summary': u'', u'remarks': u'', u'size': 4, u'class': u'', u'unit': u'', u'quantity': u''}, {u'name': u'segue2_target2', u'dataType': u'bit', u'summary': u'', u'remarks': u'', u'size': 1, u'class': u'', u'unit': u'', u'quantity': u''}, {u'name': u'waveMin', u'dataType': u'real', u'summary': u'', u'remarks': u'', u'size': 4, u'class': u'', u'unit': u'', u'quantity': u''}, {u'name': u'DOF', u'dataType': u'smallint', u'summary': u'', u'remarks': u'', u'size': 2, u'class': u'', u'unit': u'', u'quantity': u''}, {u'name': u'targetType', u'dataType': u'varchar(max)', u'summary': u'', u'remarks': u'', u'size': 1, u'class': u'', u'unit': u'', u'quantity': u''}, {u'name': u'snMedian', u'dataType': u'real', u'summary': u'', u'remarks': u'', u'size': 4, u'class': u'', u'unit': u'', u'quantity': u''}, {u'name': u'fracNSigma_8', u'dataType': u'real', u'summary': u'', u'remarks': u'', u'size': 4, u'class': u'', u'unit': u'', u'quantity': u''}, {u'name': u'elodieBV', u'dataType': u'bit', u'summary': u'', u'remarks': u'', u'size': 1, u'class': u'', u'unit': u'', u'quantity': u''}, {u'name': u'segue2_target1', u'dataType': u'bit', u'summary': u'', u'remarks': u'', u'size': 1, u'class': u'', u'unit': u'', u'quantity': u''}, {u'name': u'dec', u'dataType': u'real', u'summary': u'', u'remarks': u'', u'size': 4, u'class': u'', u'unit': u'', u'quantity': u''}, {u'name': u'legacy_target2', u'dataType': u'bit', u'summary': u'', u'remarks': u'', u'size': 1, u'class': u'', u'unit': u'', u'quantity': u''}, {u'name': u'snTurnoff', u'dataType': u'smallint', u'summary': u'', u'remarks': u'', u'size': 2, u'class': u'', u'unit': u'', u'quantity': u''}, {u'name': u'fracNSigma_5', u'dataType': u'real', u'summary': u'', u'remarks': u'', u'size': 4, u'class': u'', u'unit': u'', u'quantity': u''}, {u'name': u'instrument', u'dataType': u'varchar(max)', u'summary': u'', u'remarks': u'', u'size': 1, u'class': u'', u'unit': u'', u'quantity': u''}, {u'name': u'cz', u'dataType': u'real', u'summary': u'', u'remarks': u'', u'size': 4, u'class': u'', u'unit': u'', u'quantity': u''}, {u'name': u'tile', u'dataType': u'smallint', u'summary': u'', u'remarks': u'', u'size': 2, u'class': u'', u'unit': u'', u'quantity': u''}, {u'name': u'velDispZErr', u'dataType': u'bit', u'summary': u'', u'remarks': u'', u'size': 1, u'class': u'', u'unit': u'', u'quantity': u''}, {u'name': u'plate', u'dataType': u'smallint', u'summary': u'', u'remarks': u'', u'size': 2, u'class': u'', u'unit': u'', u'quantity': u''}, {u'name': u'sciencePrimary', u'dataType': u'bit', u'summary': u'', u'remarks': u'', u'size': 1, u'class': u'', u'unit': u'', u'quantity': u''}, {u'name': u'spectroSynFlux_r', u'dataType': u'real', u'summary': u'', u'remarks': u'', u'size': 4, u'class': u'', u'unit': u'', u'quantity': u''}, {u'name': u'img', u'dataType': u'varchar(max)', u'summary': u'', u'remarks': u'', u'size': 1, u'class': u'', u'unit': u'', u'quantity': u''}, {u'name': u'fracNSigma_6', u'dataType': u'real', u'summary': u'', u'remarks': u'', u'size': 4, u'class': u'', u'unit': u'', u'quantity': u''}, {u'name': u'tColumn_2', u'dataType': u'tinyint', u'summary': u'', u'remarks': u'', u'size': 1, u'class': u'', u'unit': u'', u'quantity': u''}, {u'name': u'velDispChi2', u'dataType': u'real', u'summary': u'', u'remarks': u'', u'size': 4, u'class': u'', u'unit': u'', u'quantity': u''}, {u'name': u'fracNSigHi_6', u'dataType': u'real', u'summary': u'', u'remarks': u'', u'size': 4, u'class': u'', u'unit': u'', u'quantity': u''}, {u'name': u'special_target2', u'dataType': u'bit', u'summary': u'', u'remarks': u'', u'size': 1, u'class': u'', u'unit': u'', u'quantity': u''}, {u'name': u'fracNSigma_3', u'dataType': u'real', u'summary': u'', u'remarks': u'', u'size': 4, u'class': u'', u'unit': u'', u'quantity': u''}, {u'name': u'chi68p', u'dataType': u'real', u'summary': u'', u'remarks': u'', u'size': 4, u'class': u'', u'unit': u'', u'quantity': u''}, {u'name': u'segue2Primary', u'dataType': u'bit', u'summary': u'', u'remarks': u'', u'size': 1, u'class': u'', u'unit': u'', u'quantity': u''}, {u'name': u'sn1_g', u'dataType': u'real', u'summary': u'', u'remarks': u'', u'size': 4, u'class': u'', u'unit': u'', u'quantity': u''}, {u'name': u'spectroSynFluxIvar_g', u'dataType': u'real', u'summary': u'', u'remarks': u'', u'size': 4, u'class': u'', u'unit': u'', u'quantity': u''}, {u'name': u'spectroSynFlux_u', u'dataType': u'real', u'summary': u'', u'remarks': u'', u'size': 4, u'class': u'', u'unit': u'', u'quantity': u''}, {u'name': u'fracNSigma_9', u'dataType': u'real', u'summary': u'', u'remarks': u'', u'size': 4, u'class': u'', u'unit': u'', u'quantity': u''}, {u'name': u'waveMax', u'dataType': u'real', u'summary': u'', u'remarks': u'', u'size': 4, u'class': u'', u'unit': u'', u'quantity': u''}, {u'name': u'lambdaEff', u'dataType': u'smallint', u'summary': u'', u'remarks': u'', u'size': 2, u'class': u'', u'unit': u'', u'quantity': u''}, {u'name': u'fracNSigHi_8', u'dataType': u'real', u'summary': u'', u'remarks': u'', u'size': 4, u'class': u'', u'unit': u'', u'quantity': u''}, {u'name': u'legacyPrimary', u'dataType': u'bit', u'summary': u'', u'remarks': u'', u'size': 1, u'class': u'', u'unit': u'', u'quantity': u''}, {u'name': u'specObjID', u'dataType': u'bigint', u'summary': u'', u'remarks': u'', u'size': 8, u'class': u'', u'unit': u'', u'quantity': u''}, {u'name': u'fracNSigHi_10', u'dataType': u'bit', u'summary': u'', u'remarks': u'', u'size': 1, u'class': u'', u'unit': u'', u'quantity': u''}, {u'name': u'comments_person', u'dataType': u'bit', u'summary': u'', u'remarks': u'', u'size': 1, u'class': u'', u'unit': u'', u'quantity': u''}, {u'name': u'spectroSynFlux_i', u'dataType': u'real', u'summary': u'', u'remarks': u'', u'size': 4, u'class': u'', u'unit': u'', u'quantity': u''}, {u'name': u'ra', u'dataType': u'real', u'summary': u'', u'remarks': u'', u'size': 4, u'class': u'', u'unit': u'', u'quantity': u''}, {u'name': u'tColumn_5', u'dataType': u'smallint', u'summary': u'', u'remarks': u'', u'size': 2, u'class': u'', u'unit': u'', u'quantity': u''}, {u'name': u'spectroSkyFlux_r', u'dataType': u'real', u'summary': u'', u'remarks': u'', u'size': 4, u'class': u'', u'unit': u'', u'quantity': u''}, {u'name': u'segue1Primary', u'dataType': u'bit', u'summary': u'', u'remarks': u'', u'size': 1, u'class': u'', u'unit': u'', u'quantity': u''}, {u'name': u'spectroFluxIvar_g', u'dataType': u'real', u'summary': u'', u'remarks': u'', u'size': 4, u'class': u'', u'unit': u'', u'quantity': u''}, {u'name': u'survey', u'dataType': u'varchar(max)', u'summary': u'', u'remarks': u'', u'size': 1, u'class': u'', u'unit': u'', u'quantity': u''}, {u'name': u'subClass_noqso', u'dataType': u'varchar(max)', u'summary': u'', u'remarks': u'', u'size': 1, u'class': u'', u'unit': u'', u'quantity': u''}, {u'name': u'spectroFlux_z', u'dataType': u'real', u'summary': u'', u'remarks': u'', u'size': 4, u'class': u'', u'unit': u'', u'quantity': u''}, {u'name': u'nPoly', u'dataType': u'tinyint', u'summary': u'', u'remarks': u'', u'size': 1, u'class': u'', u'unit': u'', u'quantity': u''}, {u'name': u'fracNSigma_7', u'dataType': u'real', u'summary': u'', u'remarks': u'', u'size': 4, u'class': u'', u'unit': u'', u'quantity': u''}, {u'name': u'z_person', u'dataType': u'bit', u'summary': u'', u'remarks': u'', u'size': 1, u'class': u'', u'unit': u'', u'quantity': u''}, {u'name': u'anyAndMask', u'dataType': u'int', u'summary': u'', u'remarks': u'', u'size': 4, u'class': u'', u'unit': u'', u'quantity': u''}, {u'name': u'snMedian_g', u'dataType': u'real', u'summary': u'', u'remarks': u'', u'size': 4, u'class': u'', u'unit': u'', u'quantity': u''}, {u'name': u'targetObjID', u'dataType': u'bigint', u'summary': u'', u'remarks': u'', u'size': 8, u'class': u'', u'unit': u'', u'quantity': u''}, {u'name': u'fluxObjID', u'dataType': u'bigint', u'summary': u'', u'remarks': u'', u'size': 8, u'class': u'', u'unit': u'', u'quantity': u''}, {u'name': u'fracNSigHi_4', u'dataType': u'real', u'summary': u'', u'remarks': u'', u'size': 4, u'class': u'', u'unit': u'', u'quantity': u''}, {u'name': u'zOffset', u'dataType': u'tinyint', u'summary': u'', u'remarks': u'', u'size': 1, u'class': u'', u'unit': u'', u'quantity': u''}, {u'name': u'spectroFlux_r', u'dataType': u'real', u'summary': u'', u'remarks': u'', u'size': 4, u'class': u'', u'unit': u'', u'quantity': u''}, {u'name': u'eboss_target0', u'dataType': u'bit', u'summary': u'', u'remarks': u'', u'size': 1, u'class': u'', u'unit': u'', u'quantity': u''}, {u'name': u'velDispDOF', u'dataType': u'smallint', u'summary': u'', u'remarks': u'', u'size': 2, u'class': u'', u'unit': u'', u'quantity': u''}, {u'name': u'bossSpecObjID', u'dataType': u'int', u'summary': u'', u'remarks': u'', u'size': 4, u'class': u'', u'unit': u'', u'quantity': u''}, {u'name': u'primTarget', u'dataType': u'tinyint', u'summary': u'', u'remarks': u'', u'size': 1, u'class': u'', u'unit': u'', u'quantity': u''}, {u'name': u'spectroFluxIvar_z', u'dataType': u'real', u'summary': u'', u'remarks': u'', u'size': 4, u'class': u'', u'unit': u'', u'quantity': u''}, {u'name': u'fracNSigHi_9', u'dataType': u'real', u'summary': u'', u'remarks': u'', u'size': 4, u'class': u'', u'unit': u'', u'quantity': u''}, {u'name': u'elodieLogG', u'dataType': u'bit', u'summary': u'', u'remarks': u'', u'size': 1, u'class': u'', u'unit': u'', u'quantity': u''}, {u'name': u'loadVersion', u'dataType': u'smallint', u'summary': u'', u'remarks': u'', u'size': 2, u'class': u'', u'unit': u'', u'quantity': u''}, {u'name': u'velDispNPix', u'dataType': u'smallint', u'summary': u'', u'remarks': u'', u'size': 2, u'class': u'', u'unit': u'', u'quantity': u''}, {u'name': u'tColumn_6', u'dataType': u'smallint', u'summary': u'', u'remarks': u'', u'size': 2, u'class': u'', u'unit': u'', u'quantity': u''}, {u'name': u'tColumn_0', u'dataType': u'bit', u'summary': u'', u'remarks': u'', u'size': 1, u'class': u'', u'unit': u'', u'quantity': u''}, {u'name': u'zWarning_noqso', u'dataType': u'tinyint', u'summary': u'', u'remarks': u'', u'size': 1, u'class': u'', u'unit': u'', u'quantity': u''}, {u'name': u'plateSN2', u'dataType': u'real', u'summary': u'', u'remarks': u'', u'size': 4, u'class': u'', u'unit': u'', u'quantity': u''}, {u'name': u'elodieZ', u'dataType': u'bit', u'summary': u'', u'remarks': u'', u'size': 1, u'class': u'', u'unit': u'', u'quantity': u''}, {u'name': u'spectroSynFlux_z', u'dataType': u'real', u'summary': u'', u'remarks': u'', u'size': 4, u'class': u'', u'unit': u'', u'quantity': u''}, {u'name': u'fracNSigma_4', u'dataType': u'real', u'summary': u'', u'remarks': u'', u'size': 4, u'class': u'', u'unit': u'', u'quantity': u''}, {u'name': u'sn2_r', u'dataType': u'real', u'summary': u'', u'remarks': u'', u'size': 4, u'class': u'', u'unit': u'', u'quantity': u''}, {u'name': u'mjd', u'dataType': u'int', u'summary': u'', u'remarks': u'', u'size': 4, u'class': u'', u'unit': u'', u'quantity': u''}, {u'name': u'theta_4', u'dataType': u'real', u'summary': u'', u'remarks': u'', u'size': 4, u'class': u'', u'unit': u'', u'quantity': u''}, {u'name': u'run1d', u'dataType': u'varchar(max)', u'summary': u'', u'remarks': u'', u'size': 1, u'class': u'', u'unit': u'', u'quantity': u''}, {u'name': u'segue1_target1', u'dataType': u'bit', u'summary': u'', u'remarks': u'', u'size': 1, u'class': u'', u'unit': u'', u'quantity': u''}, {u'name': u'sn2_g', u'dataType': u'real', u'summary': u'', u'remarks': u'', u'size': 4, u'class': u'', u'unit': u'', u'quantity': u''}, {u'name': u'snMedian_i', u'dataType': u'real', u'summary': u'', u'remarks': u'', u'size': 4, u'class': u'', u'unit': u'', u'quantity': u''}, {u'name': u'fracNSigma_1', u'dataType': u'real', u'summary': u'', u'remarks': u'', u'size': 4, u'class': u'', u'unit': u'', u'quantity': u''}, {u'name': u'tColumn_8', u'dataType': u'smallint', u'summary': u'', u'remarks': u'', u'size': 2, u'class': u'', u'unit': u'', u'quantity': u''}, {u'name': u'spectroFlux_i', u'dataType': u'real', u'summary': u'', u'remarks': u'', u'size': 4, u'class': u'', u'unit': u'', u'quantity': u''}, {u'name': u'theta_7', u'dataType': u'bit', u'summary': u'', u'remarks': u'', u'size': 1, u'class': u'', u'unit': u'', u'quantity': u''}, {u'name': u'segue1_target2', u'dataType': u'bit', u'summary': u'', u'remarks': u'', u'size': 1, u'class': u'', u'unit': u'', u'quantity': u''}, {u'name': u'elodieFileName', u'dataType': u'bit', u'summary': u'', u'remarks': u'', u'size': 1, u'class': u'', u'unit': u'', u'quantity': u''}, {u'name': u'velDisp', u'dataType': u'real', u'summary': u'', u'remarks': u'', u'size': 4, u'class': u'', u'unit': u'', u'quantity': u''}, {u'name': u'fracNSigma_2', u'dataType': u'real', u'summary': u'', u'remarks': u'', u'size': 4, u'class': u'', u'unit': u'', u'quantity': u''}, {u'name': u'spectroSynFluxIvar_u', u'dataType': u'real', u'summary': u'', u'remarks': u'', u'size': 4, u'class': u'', u'unit': u'', u'quantity': u''}, {u'name': u'fracNSigLo_6', u'dataType': u'real', u'summary': u'', u'remarks': u'', u'size': 4, u'class': u'', u'unit': u'', u'quantity': u''}, {u'name': u'snMedian_u', u'dataType': u'real', u'summary': u'', u'remarks': u'', u'size': 4, u'class': u'', u'unit': u'', u'quantity': u''}, {u'name': u'sourceType', u'dataType': u'varchar(max)', u'summary': u'', u'remarks': u'', u'size': 1, u'class': u'', u'unit': u'', u'quantity': u''}, {u'name': u'fracNSigHi_1', u'dataType': u'real', u'summary': u'', u'remarks': u'', u'size': 4, u'class': u'', u'unit': u'', u'quantity': u''}, {u'name': u'seguePrimary', u'dataType': u'bit', u'summary': u'', u'remarks': u'', u'size': 1, u'class': u'', u'unit': u'', u'quantity': u''}, {u'name': u'elodieDOF', u'dataType': u'bit', u'summary': u'', u'remarks': u'', u'size': 1, u'class': u'', u'unit': u'', u'quantity': u''}, {u'name': u'spectroFlux_u', u'dataType': u'real', u'summary': u'', u'remarks': u'', u'size': 4, u'class': u'', u'unit': u'', u'quantity': u''}, {u'name': u'ancillary_target1', u'dataType': u'bit', u'summary': u'', u'remarks': u'', u'size': 1, u'class': u'', u'unit': u'', u'quantity': u''}, {u'name': u'tColumn_7', u'dataType': u'smallint', u'summary': u'', u'remarks': u'', u'size': 2, u'class': u'', u'unit': u'', u'quantity': u''}, {u'name': u'fracNSigLo_5', u'dataType': u'real', u'summary': u'', u'remarks': u'', u'size': 4, u'class': u'', u'unit': u'', u'quantity': u''}, {u'name': u'z_noqso', u'dataType': u'real', u'summary': u'', u'remarks': u'', u'size': 4, u'class': u'', u'unit': u'', u'quantity': u''}, {u'name': u'sn2_i', u'dataType': u'real', u'summary': u'', u'remarks': u'', u'size': 4, u'class': u'', u'unit': u'', u'quantity': u''}, {u'name': u'snMedian_z', u'dataType': u'real', u'summary': u'', u'remarks': u'', u'size': 4, u'class': u'', u'unit': u'', u'quantity': u''}, {u'name': u'spectroFluxIvar_u', u'dataType': u'real', u'summary': u'', u'remarks': u'', u'size': 4, u'class': u'', u'unit': u'', u'quantity': u''}, {u'name': u'tColumn_4', u'dataType': u'smallint', u'summary': u'', u'remarks': u'', u'size': 2, u'class': u'', u'unit': u'', u'quantity': u''}, {u'name': u'htmID', u'dataType': u'bigint', u'summary': u'', u'remarks': u'', u'size': 8, u'class': u'', u'unit': u'', u'quantity': u''}, {u'name': u'elodieTEff', u'dataType': u'bit', u'summary': u'', u'remarks': u'', u'size': 1, u'class': u'', u'unit': u'', u'quantity': u''}, {u'name': u'rChi2Diff_noqso', u'dataType': u'real', u'summary': u'', u'remarks': u'', u'size': 4, u'class': u'', u'unit': u'', u'quantity': u''}, {u'name': u'blueFiber', u'dataType': u'smallint', u'summary': u'', u'remarks': u'', u'size': 2, u'class': u'', u'unit': u'', u'quantity': u''}, {u'name': u'elodieObject', u'dataType': u'bit', u'summary': u'', u'remarks': u'', u'size': 1, u'class': u'', u'unit': u'', u'quantity': u''}, {u'name': u'tColumn_9', u'dataType': u'smallint', u'summary': u'', u'remarks': u'', u'size': 2, u'class': u'', u'unit': u'', u'quantity': u''}, {u'name': u'spectroSkyFlux_z', u'dataType': u'real', u'summary': u'', u'remarks': u'', u'size': 4, u'class': u'', u'unit': u'', u'quantity': u''}, {u'name': u'velDispZ', u'dataType': u'bit', u'summary': u'', u'remarks': u'', u'size': 1, u'class': u'', u'unit': u'', u'quantity': u''}, {u'name': u'rChi2', u'dataType': u'real', u'summary': u'', u'remarks': u'', u'size': 4, u'class': u'', u'unit': u'', u'quantity': u''}, {u'name': u'theta_6', u'dataType': u'real', u'summary': u'', u'remarks': u'', u'size': 4, u'class': u'', u'unit': u'', u'quantity': u''}, {u'name': u'theta_3', u'dataType': u'real', u'summary': u'', u'remarks': u'', u'size': 4, u'class': u'', u'unit': u'', u'quantity': u''}, {u'name': u'xFocal', u'dataType': u'real', u'summary': u'', u'remarks': u'', u'size': 4, u'class': u'', u'unit': u'', u'quantity': u''}, {u'name': u'programname', u'dataType': u'varchar(max)', u'summary': u'', u'remarks': u'', u'size': 1, u'class': u'', u'unit': u'', u'quantity': u''}, {u'name': u'fracNSigLo_9', u'dataType': u'bit', u'summary': u'', u'remarks': u'', u'size': 1, u'class': u'', u'unit': u'', u'quantity': u''}, {u'name': u'fracNSigHi_2', u'dataType': u'real', u'summary': u'', u'remarks': u'', u'size': 4, u'class': u'', u'unit': u'', u'quantity': u''}, {u'name': u'theta_9', u'dataType': u'bit', u'summary': u'', u'remarks': u'', u'size': 1, u'class': u'', u'unit': u'', u'quantity': u''}, {u'name': u'elodieRChi2', u'dataType': u'bit', u'summary': u'', u'remarks': u'', u'size': 1, u'class': u'', u'unit': u'', u'quantity': u''}, {u'name': u'legacy_target1', u'dataType': u'tinyint', u'summary': u'', u'remarks': u'', u'size': 1, u'class': u'', u'unit': u'', u'quantity': u''}, {u'name': u'class_person', u'dataType': u'bit', u'summary': u'', u'remarks': u'', u'size': 1, u'class': u'', u'unit': u'', u'quantity': u''}, {u'name': u'wCoverage', u'dataType': u'real', u'summary': u'', u'remarks': u'', u'size': 4, u'class': u'', u'unit': u'', u'quantity': u''}, {u'name': u'sdssPrimary', u'dataType': u'bit', u'summary': u'', u'remarks': u'', u'size': 1, u'class': u'', u'unit': u'', u'quantity': u''}, {u'name': u'ancillary_target2', u'dataType': u'bit', u'summary': u'', u'remarks': u'', u'size': 1, u'class': u'', u'unit': u'', u'quantity': u''}, {u'name': u'fracNSigLo_4', u'dataType': u'real', u'summary': u'', u'remarks': u'', u'size': 4, u'class': u'', u'unit': u'', u'quantity': u''}, {u'name': u'deredSN2', u'dataType': u'real', u'summary': u'', u'remarks': u'', u'size': 4, u'class': u'', u'unit': u'', u'quantity': u''}, {u'name': u'spectroFluxIvar_i', u'dataType': u'real', u'summary': u'', u'remarks': u'', u'size': 4, u'class': u'', u'unit': u'', u'quantity': u''}, {u'name': u'boss_target1', u'dataType': u'bigint', u'summary': u'', u'remarks': u'', u'size': 8, u'class': u'', u'unit': u'', u'quantity': u''}, {u'name': u'cy', u'dataType': u'real', u'summary': u'', u'remarks': u'', u'size': 4, u'class': u'', u'unit': u'', u'quantity': u''}, {u'name': u'elodieZModelErr', u'dataType': u'bit', u'summary': u'', u'remarks': u'', u'size': 1, u'class': u'', u'unit': u'', u'quantity': u''}, {u'name': u'elodieSpType', u'dataType': u'bit', u'summary': u'', u'remarks': u'', u'size': 1, u'class': u'', u'unit': u'', u'quantity': u''}, {u'name': u'sn1_r', u'dataType': u'real', u'summary': u'', u'remarks': u'', u'size': 4, u'class': u'', u'unit': u'', u'quantity': u''}, {u'name': u'elodieZErr', u'dataType': u'bit', u'summary': u'', u'remarks': u'', u'size': 1, u'class': u'', u'unit': u'', u'quantity': u''}, {u'name': u'fracNSigLo_3', u'dataType': u'real', u'summary': u'', u'remarks': u'', u'size': 4, u'class': u'', u'unit': u'', u'quantity': u''}, {u'name': u'tColumn_3', u'dataType': u'tinyint', u'summary': u'', u'remarks': u'', u'size': 1, u'class': u'', u'unit': u'', u'quantity': u''}, {u'name': u'fracNSigHi_7', u'dataType': u'real', u'summary': u'', u'remarks': u'', u'size': 4, u'class': u'', u'unit': u'', u'quantity': u''}, {u'name': u'spectroSkyFlux_g', u'dataType': u'real', u'summary': u'', u'remarks': u'', u'size': 4, u'class': u'', u'unit': u'', u'quantity': u''}, {u'name': u'spectroSkyFlux_i', u'dataType': u'real', u'summary': u'', u'remarks': u'', u'size': 4, u'class': u'', u'unit': u'', u'quantity': u''}, {u'name': u'spectroSynFluxIvar_z', u'dataType': u'real', u'summary': u'', u'remarks': u'', u'size': 4, u'class': u'', u'unit': u'', u'quantity': u''}, {u'name': u'platerun', u'dataType': u'varchar(max)', u'summary': u'', u'remarks': u'', u'size': 1, u'class': u'', u'unit': u'', u'quantity': u''}, {u'name': u'subClass', u'dataType': u'varchar(max)', u'summary': u'', u'remarks': u'', u'size': 1, u'class': u'', u'unit': u'', u'quantity': u''}, {u'name': u'run2d', u'dataType': u'varchar(max)', u'summary': u'', u'remarks': u'', u'size': 1, u'class': u'', u'unit': u'', u'quantity': u''}, {u'name': u'zErr', u'dataType': u'real', u'summary': u'', u'remarks': u'', u'size': 4, u'class': u'', u'unit': u'', u'quantity': u''}, {u'name': u'theta_5', u'dataType': u'real', u'summary': u'', u'remarks': u'', u'size': 4, u'class': u'', u'unit': u'', u'quantity': u''}, {u'name': u'elodieFeH', u'dataType': u'bit', u'summary': u'', u'remarks': u'', u'size': 1, u'class': u'', u'unit': u'', u'quantity': u''}, {u'name': u'theta_2', u'dataType': u'real', u'summary': u'', u'remarks': u'', u'size': 4, u'class': u'', u'unit': u'', u'quantity': u''}, {u'name': u'designID', u'dataType': u'smallint', u'summary': u'', u'remarks': u'', u'size': 2, u'class': u'', u'unit': u'', u'quantity': u''}, {u'name': u'chunk', u'dataType': u'varchar(max)', u'summary': u'', u'remarks': u'', u'size': 1, u'class': u'', u'unit': u'', u'quantity': u''}, {u'name': u'rChi2Diff', u'dataType': u'real', u'summary': u'', u'remarks': u'', u'size': 4, u'class': u'', u'unit': u'', u'quantity': u''}, {u'name': u'fracNSigLo_8', u'dataType': u'bit', u'summary': u'', u'remarks': u'', u'size': 1, u'class': u'', u'unit': u'', u'quantity': u''}, {u'name': u'bossPrimary', u'dataType': u'bit', u'summary': u'', u'remarks': u'', u'size': 1, u'class': u'', u'unit': u'', u'quantity': u''}, {u'name': u'class_noqso', u'dataType': u'varchar(max)', u'summary': u'', u'remarks': u'', u'size': 1, u'class': u'', u'unit': u'', u'quantity': u''}, {u'name': u'fracNSigHi_3', u'dataType': u'real', u'summary': u'', u'remarks': u'', u'size': 4, u'class': u'', u'unit': u'', u'quantity': u''}, {u'name': u'theta_8', u'dataType': u'bit', u'summary': u'', u'remarks': u'', u'size': 1, u'class': u'', u'unit': u'', u'quantity': u''}, {u'name': u'cx', u'dataType': u'real', u'summary': u'', u'remarks': u'', u'size': 4, u'class': u'', u'unit': u'', u'quantity': u''}, {u'name': u'anyOrMask', u'dataType': u'int', u'summary': u'', u'remarks': u'', u'size': 4, u'class': u'', u'unit': u'', u'quantity': u''}, {u'name': u'secTarget', u'dataType': u'bit', u'summary': u'', u'remarks': u'', u'size': 1, u'class': u'', u'unit': u'', u'quantity': u''}, {u'name': u'fracNSigLo_10', u'dataType': u'bit', u'summary': u'', u'remarks': u'', u'size': 1, u'class': u'', u'unit': u'', u'quantity': u''}, {u'name': u'bestObjID', u'dataType': u'bigint', u'summary': u'', u'remarks': u'', u'size': 8, u'class': u'', u'unit': u'', u'quantity': u''}, {u'name': u'fracNSigma_10', u'dataType': u'bit', u'summary': u'', u'remarks': u'', u'size': 1, u'class': u'', u'unit': u'', u'quantity': u''}, {u'name': u'fiberID', u'dataType': u'smallint', u'summary': u'', u'remarks': u'', u'size': 2, u'class': u'', u'unit': u'', u'quantity': u''}, {u'name': u'zErr_noqso', u'dataType': u'real', u'summary': u'', u'remarks': u'', u'size': 4, u'class': u'', u'unit': u'', u'quantity': u''}, {u'name': u'tFile', u'dataType': u'varchar(max)', u'summary': u'', u'remarks': u'', u'size': 1, u'class': u'', u'unit': u'', u'quantity': u''}, {u'name': u'fracNSigLo_7', u'dataType': u'real', u'summary': u'', u'remarks': u'', u'size': 4, u'class': u'', u'unit': u'', u'quantity': u''}, {u'name': u'snMedian_r', u'dataType': u'real', u'summary': u'', u'remarks': u'', u'size': 4, u'class': u'', u'unit': u'', u'quantity': u''}, {u'name': u'velDispErr', u'dataType': u'real', u'summary': u'', u'remarks': u'', u'size': 4, u'class': u'', u'unit': u'', u'quantity': u''}, {u'name': u'spectrographID', u'dataType': u'bit', u'summary': u'', u'remarks': u'', u'size': 1, u'class': u'', u'unit': u'', u'quantity': u''}, {u'name': u'zWarning', u'dataType': u'tinyint', u'summary': u'', u'remarks': u'', u'size': 1, u'class': u'', u'unit': u'', u'quantity': u''}, {u'name': u'sn1_i', u'dataType': u'real', u'summary': u'', u'remarks': u'', u'size': 4, u'class': u'', u'unit': u'', u'quantity': u''}, {u'name': u'plateID', u'dataType': u'bigint', u'summary': u'', u'remarks': u'', u'size': 8, u'class': u'', u'unit': u'', u'quantity': u''}]}, {u'name': u'webuser.Results_2', u'summary': u'', u'example': u'', u'remarks': u'', u'class': u'', u'columns': [{u'name': u'Column2', u'dataType': u'decimal', u'summary': u'', u'remarks': u'', u'size': 16, u'class': u'', u'unit': u'', u'quantity': u''}, {u'name': u'Column1', u'dataType': u'decimal', u'summary': u'', u'remarks': u'', u'size': 16, u'class': u'', u'unit': u'', u'quantity': u''}]}, {u'name': u'webuser.tt1', u'summary': u'', u'example': u'', u'remarks': u'', u'class': u'', u'columns': [{u'name': u'a3', u'dataType': u'tinyint', u'summary': u'', u'remarks': u'', u'size': 1, u'class': u'', u'unit': u'', u'quantity': u''}, {u'name': u'a2', u'dataType': u'tinyint', u'summary': u'', u'remarks': u'', u'size': 1, u'class': u'', u'unit': u'', u'quantity': u''}, {u'name': u'a1', u'dataType': u'bit', u'summary': u'', u'remarks': u'', u'size': 1, u'class': u'', u'unit': u'', u'quantity': u''}]}, {u'name': u'webuser.myTablez244', u'summary': u'', u'example': u'', u'remarks': u'', u'class': u'', u'columns': [{u'name': u'ID', u'dataType': u'bigint', u'summary': u'', u'remarks': u'', u'size': 8, u'class': u'', u'unit': u'', u'quantity': u''}, {u'name': u'Column1,Column2', u'dataType': u'nvarchar(7)', u'summary': u'', u'remarks': u'', u'size': 2, u'class': u'', u'unit': u'', u'quantity': u''}]}, {u'name': u'webuser.csvT2', u'summary': u'', u'example': u'', u'remarks': u'', u'class': u'', u'columns': [{u'name': u'c2', u'dataType': u'tinyint', u'summary': u'', u'remarks': u'', u'size': 1, u'class': u'', u'unit': u'', u'quantity': u''}, {u'name': u'c1', u'dataType': u'bit', u'summary': u'', u'remarks': u'', u'size': 1, u'class': u'', u'unit': u'', u'quantity': u''}]}, {u'name': u'webuser.MyNewTable55', u'summary': u'', u'example': u'', u'remarks': u'', u'class': u'', u'columns': [{u'name': u'specobjid', u'dataType': u'bigint', u'summary': u'', u'remarks': u'', u'size': 8, u'class': u'', u'unit': u'', u'quantity': u''}, {u'name': u'ra', u'dataType': u'real', u'summary': u'', u'remarks': u'', u'size': 4, u'class': u'', u'unit': u'', u'quantity': u''}, {u'name': u'dec', u'dataType': u'real', u'summary': u'', u'remarks': u'', u'size': 4, u'class': u'', u'unit': u'', u'quantity': u''}]}, {u'name': u'webuser.QuickResults', u'summary': u'', u'example': u'', u'remarks': u'', u'class': u'', u'columns': [{u'name': u'Column2', u'dataType': u'decimal', u'summary': u'', u'remarks': u'', u'size': 16, u'class': u'', u'unit': u'', u'quantity': u''}, {u'name': u'Column1', u'dataType': u'decimal', u'summary': u'', u'remarks': u'', u'size': 16, u'class': u'', u'unit': u'', u'quantity': u''}]}, {u'name': u'webuser.rad', u'summary': u'', u'example': u'', u'remarks': u'', u'class': u'', u'columns': [{u'name': u'type', u'dataType': u'tinyint', u'summary': u'', u'remarks': u'', u'size': 1, u'class': u'', u'unit': u'', u'quantity': u''}, {u'name': u'Err_u', u'dataType': u'real', u'summary': u'', u'remarks': u'', u'size': 4, u'class': u'', u'unit': u'', u'quantity': u''}, {u'name': u'dec', u'dataType': u'real', u'summary': u'', u'remarks': u'', u'size': 4, u'class': u'', u'unit': u'', u'quantity': u''}, {u'name': u'r', u'dataType': u'real', u'summary': u'', u'remarks': u'', u'size': 4, u'class': u'', u'unit': u'', u'quantity': u''}, {u'name': u'ra', u'dataType': u'real', u'summary': u'', u'remarks': u'', u'size': 4, u'class': u'', u'unit': u'', u'quantity': u''}, {u'name': u'i', u'dataType': u'real', u'summary': u'', u'remarks': u'', u'size': 4, u'class': u'', u'unit': u'', u'quantity': u''}, {u'name': u'objid', u'dataType': u'bigint', u'summary': u'', u'remarks': u'', u'size': 8, u'class': u'', u'unit': u'', u'quantity': u''}, {u'name': u'u', u'dataType': u'real', u'summary': u'', u'remarks': u'', u'size': 4, u'class': u'', u'unit': u'', u'quantity': u''}, {u'name': u'z', u'dataType': u'real', u'summary': u'', u'remarks': u'', u'size': 4, u'class': u'', u'unit': u'', u'quantity': u''}, {u'name': u'Err_z', u'dataType': u'real', u'summary': u'', u'remarks': u'', u'size': 4, u'class': u'', u'unit': u'', u'quantity': u''}, {u'name': u'obj', u'dataType': u'smallint', u'summary': u'', u'remarks': u'', u'size': 2, u'class': u'', u'unit': u'', u'quantity': u''}, {u'name': u'rerun', u'dataType': u'smallint', u'summary': u'', u'remarks': u'', u'size': 2, u'class': u'', u'unit': u'', u'quantity': u''}, {u'name': u'Err_r', u'dataType': u'real', u'summary': u'', u'remarks': u'', u'size': 4, u'class': u'', u'unit': u'', u'quantity': u''}, {u'name': u'field', u'dataType': u'tinyint', u'summary': u'', u'remarks': u'', u'size': 1, u'class': u'', u'unit': u'', u'quantity': u''}, {u'name': u'camcol', u'dataType': u'tinyint', u'summary': u'', u'remarks': u'', u'size': 1, u'class': u'', u'unit': u'', u'quantity': u''}, {u'name': u'run', u'dataType': u'smallint', u'summary': u'', u'remarks': u'', u'size': 2, u'class': u'', u'unit': u'', u'quantity': u''}, {u'name': u'Err_g', u'dataType': u'real', u'summary': u'', u'remarks': u'', u'size': 4, u'class': u'', u'unit': u'', u'quantity': u''}, {u'name': u'Err_i', u'dataType': u'real', u'summary': u'', u'remarks': u'', u'size': 4, u'class': u'', u'unit': u'', u'quantity': u''}, {u'name': u'g', u'dataType': u'real', u'summary': u'', u'remarks': u'', u'size': 4, u'class': u'', u'unit': u'', u'quantity': u''}]}, {u'name': u'webuser.csvT5', u'summary': u'', u'example': u'', u'remarks': u'', u'class': u'', u'columns': [{u'name': u'c1', u'dataType': u'bit', u'summary': u'', u'remarks': u'', u'size': 1, u'class': u'', u'unit': u'', u'quantity': u''}, {u'name': u'c3', u'dataType': u'tinyint', u'summary': u'', u'remarks': u'', u'size': 1, u'class': u'', u'unit': u'', u'quantity': u''}]}, {u'name': u'webuser.SkyQueryUploadTable', u'summary': u'', u'example': u'', u'remarks': u'', u'class': u'', u'columns': [{u'name': u'ID', u'dataType': u'bigint', u'summary': u'', u'remarks': u'', u'size': 8, u'class': u'', u'unit': u'', u'quantity': u''}, {u'name': u'Column1,Column2', u'dataType': u'datetime2', u'summary': u'', u'remarks': u'', u'size': 8, u'class': u'', u'unit': u'', u'quantity': u''}]}, {u'name': u'webuser.MyTB1', u'summary': u'', u'example': u'', u'remarks': u'', u'class': u'', u'columns': [{u'name': u'specobjid', u'dataType': u'bigint', u'summary': u'', u'remarks': u'', u'size': 8, u'class': u'', u'unit': u'', u'quantity': u''}, {u'name': u'ra', u'dataType': u'real', u'summary': u'', u'remarks': u'', u'size': 4, u'class': u'', u'unit': u'', u'quantity': u''}, {u'name': u'dec', u'dataType': u'real', u'summary': u'', u'remarks': u'', u'size': 4, u'class': u'', u'unit': u'', u'quantity': u''}]}, {u'name': u'webuser.dwderf', u'summary': u'', u'example': u'', u'remarks': u'', u'class': u'', u'columns': [{u'name': u'fiberid', u'dataType': u'smallint', u'summary': u'', u'remarks': u'', u'size': 2, u'class': u'', u'unit': u'', u'quantity': u''}, {u'name': u'redshift', u'dataType': u'real', u'summary': u'', u'remarks': u'', u'size': 4, u'class': u'', u'unit': u'', u'quantity': u''}, {u'name': u'run', u'dataType': u'tinyint', u'summary': u'', u'remarks': u'', u'size': 1, u'class': u'', u'unit': u'', u'quantity': u''}, {u'name': u'u', u'dataType': u'real', u'summary': u'', u'remarks': u'', u'size': 4, u'class': u'', u'unit': u'', u'quantity': u''}, {u'name': u'camcol', u'dataType': u'tinyint', u'summary': u'', u'remarks': u'', u'size': 1, u'class': u'', u'unit': u'', u'quantity': u''}, {u'name': u'specobjid', u'dataType': u'bigint', u'summary': u'', u'remarks': u'', u'size': 8, u'class': u'', u'unit': u'', u'quantity': u''}, {u'name': u'rerun', u'dataType': u'smallint', u'summary': u'', u'remarks': u'', u'size': 2, u'class': u'', u'unit': u'', u'quantity': u''}, {u'name': u'class', u'dataType': u'varchar(max)', u'summary': u'', u'remarks': u'', u'size': 1, u'class': u'', u'unit': u'', u'quantity': u''}, {u'name': u'ra', u'dataType': u'real', u'summary': u'', u'remarks': u'', u'size': 4, u'class': u'', u'unit': u'', u'quantity': u''}, {u'name': u'z', u'dataType': u'real', u'summary': u'', u'remarks': u'', u'size': 4, u'class': u'', u'unit': u'', u'quantity': u''}, {u'name': u'g', u'dataType': u'real', u'summary': u'', u'remarks': u'', u'size': 4, u'class': u'', u'unit': u'', u'quantity': u''}, {u'name': u'objid', u'dataType': u'bigint', u'summary': u'', u'remarks': u'', u'size': 8, u'class': u'', u'unit': u'', u'quantity': u''}, {u'name': u'field', u'dataType': u'smallint', u'summary': u'', u'remarks': u'', u'size': 2, u'class': u'', u'unit': u'', u'quantity': u''}, {u'name': u'dec', u'dataType': u'real', u'summary': u'', u'remarks': u'', u'size': 4, u'class': u'', u'unit': u'', u'quantity': u''}, {u'name': u'mjd', u'dataType': u'int', u'summary': u'', u'remarks': u'', u'size': 4, u'class': u'', u'unit': u'', u'quantity': u''}, {u'name': u'r', u'dataType': u'real', u'summary': u'', u'remarks': u'', u'size': 4, u'class': u'', u'unit': u'', u'quantity': u''}, {u'name': u'plate', u'dataType': u'smallint', u'summary': u'', u'remarks': u'', u'size': 2, u'class': u'', u'unit': u'', u'quantity': u''}, {u'name': u'i', u'dataType': u'real', u'summary': u'', u'remarks': u'', u'size': 4, u'class': u'', u'unit': u'', u'quantity': u''}]}, {u'name': u'webuser.MyTable_2', u'summary': u'', u'example': u'', u'remarks': u'', u'class': u'', u'columns': [{u'name': u'Column1', u'dataType': u'int', u'summary': u'', u'remarks': u'', u'size': 4, u'class': u'', u'unit': u'', u'quantity': u''}]}, {u'name': u'webuser.NewTableFromDataFrame23', u'summary': u'', u'example': u'', u'remarks': u'', u'class': u'', u'columns': [{u'name': u'specobjid', u'dataType': u'bigint', u'summary': u'', u'remarks': u'', u'size': 8, u'class': u'', u'unit': u'', u'quantity': u''}, {u'name': u'ra', u'dataType': u'real', u'summary': u'', u'remarks': u'', u'size': 4, u'class': u'', u'unit': u'', u'quantity': u''}, {u'name': u'index', u'dataType': u'tinyint', u'summary': u'', u'remarks': u'', u'size': 1, u'class': u'', u'unit': u'', u'quantity': u''}, {u'name': u'dec', u'dataType': u'real', u'summary': u'', u'remarks': u'', u'size': 4, u'class': u'', u'unit': u'', u'quantity': u''}]}, {u'name': u'webuser.MyNewTable87', u'summary': u'', u'example': u'', u'remarks': u'', u'class': u'', u'columns': [{u'name': u'foo', u'dataType': u'bit', u'summary': u'', u'remarks': u'', u'size': 1, u'class': u'', u'unit': u'', u'quantity': u''}, {u'name': u'bar', u'dataType': u'tinyint', u'summary': u'', u'remarks': u'', u'size': 1, u'class': u'', u'unit': u'', u'quantity': u''}]}, {u'name': u'webuser.mnmn2', u'summary': u'', u'example': u'', u'remarks': u'', u'class': u'', u'columns': [{u'name': u'ra', u'dataType': u'float', u'summary': u'', u'remarks': u'', u'size': 8, u'class': u'', u'unit': u'', u'quantity': u''}, {u'name': u'dec', u'dataType': u'float', u'summary': u'', u'remarks': u'', u'size': 8, u'class': u'', u'unit': u'', u'quantity': u''}]}, {u'name': u'webuser.myTable212221', u'summary': u'', u'example': u'', u'remarks': u'', u'class': u'', u'columns': [{u'name': u'ID', u'dataType': u'bigint', u'summary': u'', u'remarks': u'', u'size': 8, u'class': u'', u'unit': u'', u'quantity': u''}, {u'name': u'id,c1,c2', u'dataType': u'datetime2', u'summary': u'', u'remarks': u'', u'size': 8, u'class': u'', u'unit': u'', u'quantity': u''}]}, {u'name': u'webuser.ss1', u'summary': u'', u'example': u'', u'remarks': u'', u'class': u'', u'columns': [{u'name': u'ID', u'dataType': u'bigint', u'summary': u'', u'remarks': u'', u'size': 8, u'class': u'', u'unit': u'', u'quantity': u''}, {u'name': u'col1', u'dataType': u'float', u'summary': u'', u'remarks': u'', u'size': 8, u'class': u'', u'unit': u'', u'quantity': u''}, {u'name': u'col2', u'dataType': u'float', u'summary': u'', u'remarks': u'', u'size': 8, u'class': u'', u'unit': u'', u'quantity': u''}]}, {u'name': u'webuser.MyNewTable56', u'summary': u'', u'example': u'', u'remarks': u'', u'class': u'', u'columns': [{u'name': u'specobjid', u'dataType': u'bigint', u'summary': u'', u'remarks': u'', u'size': 8, u'class': u'', u'unit': u'', u'quantity': u''}, {u'name': u'ra', u'dataType': u'real', u'summary': u'', u'remarks': u'', u'size': 4, u'class': u'', u'unit': u'', u'quantity': u''}, {u'name': u'dec', u'dataType': u'real', u'summary': u'', u'remarks': u'', u'size': 4, u'class': u'', u'unit': u'', u'quantity': u''}]}, {u'name': u'webuser.Results_6', u'summary': u'', u'example': u'', u'remarks': u'', u'class': u'', u'columns': [{u'name': u'Column2', u'dataType': u'decimal', u'summary': u'', u'remarks': u'', u'size': 16, u'class': u'', u'unit': u'', u'quantity': u''}, {u'name': u'Column1', u'dataType': u'decimal', u'summary': u'', u'remarks': u'', u'size': 16, u'class': u'', u'unit': u'', u'quantity': u''}]}, {u'name': u'webuser.Results_3', u'summary': u'', u'example': u'', u'remarks': u'', u'class': u'', u'columns': [{u'name': u'Column2', u'dataType': u'decimal', u'summary': u'', u'remarks': u'', u'size': 16, u'class': u'', u'unit': u'', u'quantity': u''}, {u'name': u'Column1', u'dataType': u'decimal', u'summary': u'', u'remarks': u'', u'size': 16, u'class': u'', u'unit': u'', u'quantity': u''}]}, {u'name': u'webuser.mnmn', u'summary': u'', u'example': u'', u'remarks': u'', u'class': u'', u'columns': [{u'name': u'Col1', u'dataType': u'int', u'summary': u'', u'remarks': u'', u'size': 4, u'class': u'', u'unit': u'', u'quantity': u''}, {u'name': u'Col2', u'dataType': u'int', u'summary': u'', u'remarks': u'', u'size': 4, u'class': u'', u'unit': u'', u'quantity': u''}]}, {u'name': u'webuser.csvT4', u'summary': u'', u'example': u'', u'remarks': u'', u'class': u'', u'columns': [{u'name': u'b', u'dataType': u'real', u'summary': u'', u'remarks': u'', u'size': 4, u'class': u'', u'unit': u'', u'quantity': u''}, {u'name': u'a', u'dataType': u'real', u'summary': u'', u'remarks': u'', u'size': 4, u'class': u'', u'unit': u'', u'quantity': u''}]}, {u'name': u'webuser.myTablez243', u'summary': u'', u'example': u'', u'remarks': u'', u'class': u'', u'columns': [{u'name': u'ID', u'dataType': u'bigint', u'summary': u'', u'remarks': u'', u'size': 8, u'class': u'', u'unit': u'', u'quantity': u''}, {u'name': u'Column1,Column2', u'dataType': u'nvarchar(7)', u'summary': u'', u'remarks': u'', u'size': 2, u'class': u'', u'unit': u'', u'quantity': u''}]}, {u'name': u'webuser.MyTable_0', u'summary': u'', u'example': u'', u'remarks': u'', u'class': u'', u'columns': [{u'name': u'one', u'dataType': u'int', u'summary': u'', u'remarks': u'', u'size': 4, u'class': u'', u'unit': u'', u'quantity': u''}, {u'name': u'two', u'dataType': u'int', u'summary': u'', u'remarks': u'', u'size': 4, u'class': u'', u'unit': u'', u'quantity': u''}]}, {u'name': u'webuser.csvT3', u'summary': u'', u'example': u'', u'remarks': u'', u'class': u'', u'columns': [{u'name': u'b', u'dataType': u'real', u'summary': u'', u'remarks': u'', u'size': 4, u'class': u'', u'unit': u'', u'quantity': u''}, {u'name': u'a', u'dataType': u'real', u'summary': u'', u'remarks': u'', u'size': 4, u'class': u'', u'unit': u'', u'quantity': u''}]}, {u'name': u'webuser.swdewwe3', u'summary': u'', u'example': u'', u'remarks': u'', u'class': u'', u'columns': [{u'name': u'spectroSynFlux_g', u'dataType': u'real', u'summary': u'', u'remarks': u'', u'size': 4, u'class': u'', u'unit': u'', u'quantity': u''}, {u'name': u'fracNSigLo_2', u'dataType': u'real', u'summary': u'', u'remarks': u'', u'size': 4, u'class': u'', u'unit': u'', u'quantity': u''}, {u'name': u'spectroSkyFlux_u', u'dataType': u'real', u'summary': u'', u'remarks': u'', u'size': 4, u'class': u'', u'unit': u'', u'quantity': u''}, {u'name': u'spectroSynFluxIvar_i', u'dataType': u'real', u'summary': u'', u'remarks': u'', u'size': 4, u'class': u'', u'unit': u'', u'quantity': u''}, {u'name': u'yFocal', u'dataType': u'real', u'summary': u'', u'remarks': u'', u'size': 4, u'class': u'', u'unit': u'', u'quantity': u''}, {u'name': u'class', u'dataType': u'varchar(max)', u'summary': u'', u'remarks': u'', u'size': 1, u'class': u'', u'unit': u'', u'quantity': u''}, {u'name': u'firstRelease', u'dataType': u'varchar(max)', u'summary': u'', u'remarks': u'', u'size': 1, u'class': u'', u'unit': u'', u'quantity': u''}, {u'name': u'spectroFluxIvar_r', u'dataType': u'real', u'summary': u'', u'remarks': u'', u'size': 4, u'class': u'', u'unit': u'', u'quantity': u''}, {u'name': u'fracNSigLo_1', u'dataType': u'real', u'summary': u'', u'remarks': u'', u'size': 4, u'class': u'', u'unit': u'', u'quantity': u''}, {u'name': u'spectroFlux_g', u'dataType': u'real', u'summary': u'', u'remarks': u'', u'size': 4, u'class': u'', u'unit': u'', u'quantity': u''}, {u'name': u'tColumn_1', u'dataType': u'bit', u'summary': u'', u'remarks': u'', u'size': 1, u'class': u'', u'unit': u'', u'quantity': u''}, {u'name': u'fracNSigHi_5', u'dataType': u'real', u'summary': u'', u'remarks': u'', u'size': 4, u'class': u'', u'unit': u'', u'quantity': u''}, {u'name': u'theta_1', u'dataType': u'real', u'summary': u'', u'remarks': u'', u'size': 4, u'class': u'', u'unit': u'', u'quantity': u''}, {u'name': u'theta_0', u'dataType': u'real', u'summary': u'', u'remarks': u'', u'size': 4, u'class': u'', u'unit': u'', u'quantity': u''}, {u'name': u'special_target1', u'dataType': u'bit', u'summary': u'', u'remarks': u'', u'size': 1, u'class': u'', u'unit': u'', u'quantity': u''}, {u'name': u'z', u'dataType': u'real', u'summary': u'', u'remarks': u'', u'size': 4, u'class': u'', u'unit': u'', u'quantity': u''}, {u'name': u'spectroSynFluxIvar_r', u'dataType': u'real', u'summary': u'', u'remarks': u'', u'size': 4, u'class': u'', u'unit': u'', u'quantity': u''}, {u'name': u'segue2_target2', u'dataType': u'bit', u'summary': u'', u'remarks': u'', u'size': 1, u'class': u'', u'unit': u'', u'quantity': u''}, {u'name': u'waveMin', u'dataType': u'real', u'summary': u'', u'remarks': u'', u'size': 4, u'class': u'', u'unit': u'', u'quantity': u''}, {u'name': u'DOF', u'dataType': u'smallint', u'summary': u'', u'remarks': u'', u'size': 2, u'class': u'', u'unit': u'', u'quantity': u''}, {u'name': u'targetType', u'dataType': u'varchar(max)', u'summary': u'', u'remarks': u'', u'size': 1, u'class': u'', u'unit': u'', u'quantity': u''}, {u'name': u'snMedian', u'dataType': u'real', u'summary': u'', u'remarks': u'', u'size': 4, u'class': u'', u'unit': u'', u'quantity': u''}, {u'name': u'fracNSigma_8', u'dataType': u'real', u'summary': u'', u'remarks': u'', u'size': 4, u'class': u'', u'unit': u'', u'quantity': u''}, {u'name': u'elodieBV', u'dataType': u'bit', u'summary': u'', u'remarks': u'', u'size': 1, u'class': u'', u'unit': u'', u'quantity': u''}, {u'name': u'segue2_target1', u'dataType': u'bit', u'summary': u'', u'remarks': u'', u'size': 1, u'class': u'', u'unit': u'', u'quantity': u''}, {u'name': u'dec', u'dataType': u'real', u'summary': u'', u'remarks': u'', u'size': 4, u'class': u'', u'unit': u'', u'quantity': u''}, {u'name': u'legacy_target2', u'dataType': u'bit', u'summary': u'', u'remarks': u'', u'size': 1, u'class': u'', u'unit': u'', u'quantity': u''}, {u'name': u'snTurnoff', u'dataType': u'smallint', u'summary': u'', u'remarks': u'', u'size': 2, u'class': u'', u'unit': u'', u'quantity': u''}, {u'name': u'fracNSigma_5', u'dataType': u'real', u'summary': u'', u'remarks': u'', u'size': 4, u'class': u'', u'unit': u'', u'quantity': u''}, {u'name': u'instrument', u'dataType': u'varchar(max)', u'summary': u'', u'remarks': u'', u'size': 1, u'class': u'', u'unit': u'', u'quantity': u''}, {u'name': u'cz', u'dataType': u'real', u'summary': u'', u'remarks': u'', u'size': 4, u'class': u'', u'unit': u'', u'quantity': u''}, {u'name': u'tile', u'dataType': u'smallint', u'summary': u'', u'remarks': u'', u'size': 2, u'class': u'', u'unit': u'', u'quantity': u''}, {u'name': u'velDispZErr', u'dataType': u'bit', u'summary': u'', u'remarks': u'', u'size': 1, u'class': u'', u'unit': u'', u'quantity': u''}, {u'name': u'plate', u'dataType': u'smallint', u'summary': u'', u'remarks': u'', u'size': 2, u'class': u'', u'unit': u'', u'quantity': u''}, {u'name': u'sciencePrimary', u'dataType': u'bit', u'summary': u'', u'remarks': u'', u'size': 1, u'class': u'', u'unit': u'', u'quantity': u''}, {u'name': u'spectroSynFlux_r', u'dataType': u'real', u'summary': u'', u'remarks': u'', u'size': 4, u'class': u'', u'unit': u'', u'quantity': u''}, {u'name': u'img', u'dataType': u'varchar(max)', u'summary': u'', u'remarks': u'', u'size': 1, u'class': u'', u'unit': u'', u'quantity': u''}, {u'name': u'fracNSigma_6', u'dataType': u'real', u'summary': u'', u'remarks': u'', u'size': 4, u'class': u'', u'unit': u'', u'quantity': u''}, {u'name': u'tColumn_2', u'dataType': u'tinyint', u'summary': u'', u'remarks': u'', u'size': 1, u'class': u'', u'unit': u'', u'quantity': u''}, {u'name': u'velDispChi2', u'dataType': u'real', u'summary': u'', u'remarks': u'', u'size': 4, u'class': u'', u'unit': u'', u'quantity': u''}, {u'name': u'fracNSigHi_6', u'dataType': u'real', u'summary': u'', u'remarks': u'', u'size': 4, u'class': u'', u'unit': u'', u'quantity': u''}, {u'name': u'special_target2', u'dataType': u'bit', u'summary': u'', u'remarks': u'', u'size': 1, u'class': u'', u'unit': u'', u'quantity': u''}, {u'name': u'fracNSigma_3', u'dataType': u'real', u'summary': u'', u'remarks': u'', u'size': 4, u'class': u'', u'unit': u'', u'quantity': u''}, {u'name': u'chi68p', u'dataType': u'real', u'summary': u'', u'remarks': u'', u'size': 4, u'class': u'', u'unit': u'', u'quantity': u''}, {u'name': u'segue2Primary', u'dataType': u'bit', u'summary': u'', u'remarks': u'', u'size': 1, u'class': u'', u'unit': u'', u'quantity': u''}, {u'name': u'sn1_g', u'dataType': u'real', u'summary': u'', u'remarks': u'', u'size': 4, u'class': u'', u'unit': u'', u'quantity': u''}, {u'name': u'spectroSynFluxIvar_g', u'dataType': u'real', u'summary': u'', u'remarks': u'', u'size': 4, u'class': u'', u'unit': u'', u'quantity': u''}, {u'name': u'spectroSynFlux_u', u'dataType': u'real', u'summary': u'', u'remarks': u'', u'size': 4, u'class': u'', u'unit': u'', u'quantity': u''}, {u'name': u'fracNSigma_9', u'dataType': u'real', u'summary': u'', u'remarks': u'', u'size': 4, u'class': u'', u'unit': u'', u'quantity': u''}, {u'name': u'waveMax', u'dataType': u'real', u'summary': u'', u'remarks': u'', u'size': 4, u'class': u'', u'unit': u'', u'quantity': u''}, {u'name': u'lambdaEff', u'dataType': u'smallint', u'summary': u'', u'remarks': u'', u'size': 2, u'class': u'', u'unit': u'', u'quantity': u''}, {u'name': u'fracNSigHi_8', u'dataType': u'real', u'summary': u'', u'remarks': u'', u'size': 4, u'class': u'', u'unit': u'', u'quantity': u''}, {u'name': u'legacyPrimary', u'dataType': u'bit', u'summary': u'', u'remarks': u'', u'size': 1, u'class': u'', u'unit': u'', u'quantity': u''}, {u'name': u'specObjID', u'dataType': u'bigint', u'summary': u'', u'remarks': u'', u'size': 8, u'class': u'', u'unit': u'', u'quantity': u''}, {u'name': u'fracNSigHi_10', u'dataType': u'bit', u'summary': u'', u'remarks': u'', u'size': 1, u'class': u'', u'unit': u'', u'quantity': u''}, {u'name': u'comments_person', u'dataType': u'bit', u'summary': u'', u'remarks': u'', u'size': 1, u'class': u'', u'unit': u'', u'quantity': u''}, {u'name': u'spectroSynFlux_i', u'dataType': u'real', u'summary': u'', u'remarks': u'', u'size': 4, u'class': u'', u'unit': u'', u'quantity': u''}, {u'name': u'ra', u'dataType': u'real', u'summary': u'', u'remarks': u'', u'size': 4, u'class': u'', u'unit': u'', u'quantity': u''}, {u'name': u'tColumn_5', u'dataType': u'smallint', u'summary': u'', u'remarks': u'', u'size': 2, u'class': u'', u'unit': u'', u'quantity': u''}, {u'name': u'spectroSkyFlux_r', u'dataType': u'real', u'summary': u'', u'remarks': u'', u'size': 4, u'class': u'', u'unit': u'', u'quantity': u''}, {u'name': u'segue1Primary', u'dataType': u'bit', u'summary': u'', u'remarks': u'', u'size': 1, u'class': u'', u'unit': u'', u'quantity': u''}, {u'name': u'spectroFluxIvar_g', u'dataType': u'real', u'summary': u'', u'remarks': u'', u'size': 4, u'class': u'', u'unit': u'', u'quantity': u''}, {u'name': u'survey', u'dataType': u'varchar(max)', u'summary': u'', u'remarks': u'', u'size': 1, u'class': u'', u'unit': u'', u'quantity': u''}, {u'name': u'subClass_noqso', u'dataType': u'varchar(max)', u'summary': u'', u'remarks': u'', u'size': 1, u'class': u'', u'unit': u'', u'quantity': u''}, {u'name': u'spectroFlux_z', u'dataType': u'real', u'summary': u'', u'remarks': u'', u'size': 4, u'class': u'', u'unit': u'', u'quantity': u''}, {u'name': u'nPoly', u'dataType': u'tinyint', u'summary': u'', u'remarks': u'', u'size': 1, u'class': u'', u'unit': u'', u'quantity': u''}, {u'name': u'fracNSigma_7', u'dataType': u'real', u'summary': u'', u'remarks': u'', u'size': 4, u'class': u'', u'unit': u'', u'quantity': u''}, {u'name': u'z_person', u'dataType': u'bit', u'summary': u'', u'remarks': u'', u'size': 1, u'class': u'', u'unit': u'', u'quantity': u''}, {u'name': u'anyAndMask', u'dataType': u'int', u'summary': u'', u'remarks': u'', u'size': 4, u'class': u'', u'unit': u'', u'quantity': u''}, {u'name': u'snMedian_g', u'dataType': u'real', u'summary': u'', u'remarks': u'', u'size': 4, u'class': u'', u'unit': u'', u'quantity': u''}, {u'name': u'targetObjID', u'dataType': u'bigint', u'summary': u'', u'remarks': u'', u'size': 8, u'class': u'', u'unit': u'', u'quantity': u''}, {u'name': u'fluxObjID', u'dataType': u'bigint', u'summary': u'', u'remarks': u'', u'size': 8, u'class': u'', u'unit': u'', u'quantity': u''}, {u'name': u'fracNSigHi_4', u'dataType': u'real', u'summary': u'', u'remarks': u'', u'size': 4, u'class': u'', u'unit': u'', u'quantity': u''}, {u'name': u'zOffset', u'dataType': u'tinyint', u'summary': u'', u'remarks': u'', u'size': 1, u'class': u'', u'unit': u'', u'quantity': u''}, {u'name': u'spectroFlux_r', u'dataType': u'real', u'summary': u'', u'remarks': u'', u'size': 4, u'class': u'', u'unit': u'', u'quantity': u''}, {u'name': u'eboss_target0', u'dataType': u'bit', u'summary': u'', u'remarks': u'', u'size': 1, u'class': u'', u'unit': u'', u'quantity': u''}, {u'name': u'velDispDOF', u'dataType': u'smallint', u'summary': u'', u'remarks': u'', u'size': 2, u'class': u'', u'unit': u'', u'quantity': u''}, {u'name': u'bossSpecObjID', u'dataType': u'int', u'summary': u'', u'remarks': u'', u'size': 4, u'class': u'', u'unit': u'', u'quantity': u''}, {u'name': u'primTarget', u'dataType': u'tinyint', u'summary': u'', u'remarks': u'', u'size': 1, u'class': u'', u'unit': u'', u'quantity': u''}, {u'name': u'spectroFluxIvar_z', u'dataType': u'real', u'summary': u'', u'remarks': u'', u'size': 4, u'class': u'', u'unit': u'', u'quantity': u''}, {u'name': u'fracNSigHi_9', u'dataType': u'real', u'summary': u'', u'remarks': u'', u'size': 4, u'class': u'', u'unit': u'', u'quantity': u''}, {u'name': u'elodieLogG', u'dataType': u'bit', u'summary': u'', u'remarks': u'', u'size': 1, u'class': u'', u'unit': u'', u'quantity': u''}, {u'name': u'loadVersion', u'dataType': u'smallint', u'summary': u'', u'remarks': u'', u'size': 2, u'class': u'', u'unit': u'', u'quantity': u''}, {u'name': u'velDispNPix', u'dataType': u'smallint', u'summary': u'', u'remarks': u'', u'size': 2, u'class': u'', u'unit': u'', u'quantity': u''}, {u'name': u'tColumn_6', u'dataType': u'smallint', u'summary': u'', u'remarks': u'', u'size': 2, u'class': u'', u'unit': u'', u'quantity': u''}, {u'name': u'tColumn_0', u'dataType': u'bit', u'summary': u'', u'remarks': u'', u'size': 1, u'class': u'', u'unit': u'', u'quantity': u''}, {u'name': u'zWarning_noqso', u'dataType': u'tinyint', u'summary': u'', u'remarks': u'', u'size': 1, u'class': u'', u'unit': u'', u'quantity': u''}, {u'name': u'plateSN2', u'dataType': u'real', u'summary': u'', u'remarks': u'', u'size': 4, u'class': u'', u'unit': u'', u'quantity': u''}, {u'name': u'elodieZ', u'dataType': u'bit', u'summary': u'', u'remarks': u'', u'size': 1, u'class': u'', u'unit': u'', u'quantity': u''}, {u'name': u'spectroSynFlux_z', u'dataType': u'real', u'summary': u'', u'remarks': u'', u'size': 4, u'class': u'', u'unit': u'', u'quantity': u''}, {u'name': u'fracNSigma_4', u'dataType': u'real', u'summary': u'', u'remarks': u'', u'size': 4, u'class': u'', u'unit': u'', u'quantity': u''}, {u'name': u'sn2_r', u'dataType': u'real', u'summary': u'', u'remarks': u'', u'size': 4, u'class': u'', u'unit': u'', u'quantity': u''}, {u'name': u'mjd', u'dataType': u'int', u'summary': u'', u'remarks': u'', u'size': 4, u'class': u'', u'unit': u'', u'quantity': u''}, {u'name': u'theta_4', u'dataType': u'real', u'summary': u'', u'remarks': u'', u'size': 4, u'class': u'', u'unit': u'', u'quantity': u''}, {u'name': u'run1d', u'dataType': u'varchar(max)', u'summary': u'', u'remarks': u'', u'size': 1, u'class': u'', u'unit': u'', u'quantity': u''}, {u'name': u'segue1_target1', u'dataType': u'bit', u'summary': u'', u'remarks': u'', u'size': 1, u'class': u'', u'unit': u'', u'quantity': u''}, {u'name': u'sn2_g', u'dataType': u'real', u'summary': u'', u'remarks': u'', u'size': 4, u'class': u'', u'unit': u'', u'quantity': u''}, {u'name': u'snMedian_i', u'dataType': u'real', u'summary': u'', u'remarks': u'', u'size': 4, u'class': u'', u'unit': u'', u'quantity': u''}, {u'name': u'fracNSigma_1', u'dataType': u'real', u'summary': u'', u'remarks': u'', u'size': 4, u'class': u'', u'unit': u'', u'quantity': u''}, {u'name': u'tColumn_8', u'dataType': u'smallint', u'summary': u'', u'remarks': u'', u'size': 2, u'class': u'', u'unit': u'', u'quantity': u''}, {u'name': u'spectroFlux_i', u'dataType': u'real', u'summary': u'', u'remarks': u'', u'size': 4, u'class': u'', u'unit': u'', u'quantity': u''}, {u'name': u'theta_7', u'dataType': u'bit', u'summary': u'', u'remarks': u'', u'size': 1, u'class': u'', u'unit': u'', u'quantity': u''}, {u'name': u'segue1_target2', u'dataType': u'bit', u'summary': u'', u'remarks': u'', u'size': 1, u'class': u'', u'unit': u'', u'quantity': u''}, {u'name': u'elodieFileName', u'dataType': u'bit', u'summary': u'', u'remarks': u'', u'size': 1, u'class': u'', u'unit': u'', u'quantity': u''}, {u'name': u'velDisp', u'dataType': u'real', u'summary': u'', u'remarks': u'', u'size': 4, u'class': u'', u'unit': u'', u'quantity': u''}, {u'name': u'fracNSigma_2', u'dataType': u'real', u'summary': u'', u'remarks': u'', u'size': 4, u'class': u'', u'unit': u'', u'quantity': u''}, {u'name': u'spectroSynFluxIvar_u', u'dataType': u'real', u'summary': u'', u'remarks': u'', u'size': 4, u'class': u'', u'unit': u'', u'quantity': u''}, {u'name': u'fracNSigLo_6', u'dataType': u'real', u'summary': u'', u'remarks': u'', u'size': 4, u'class': u'', u'unit': u'', u'quantity': u''}, {u'name': u'snMedian_u', u'dataType': u'real', u'summary': u'', u'remarks': u'', u'size': 4, u'class': u'', u'unit': u'', u'quantity': u''}, {u'name': u'sourceType', u'dataType': u'varchar(max)', u'summary': u'', u'remarks': u'', u'size': 1, u'class': u'', u'unit': u'', u'quantity': u''}, {u'name': u'fracNSigHi_1', u'dataType': u'real', u'summary': u'', u'remarks': u'', u'size': 4, u'class': u'', u'unit': u'', u'quantity': u''}, {u'name': u'seguePrimary', u'dataType': u'bit', u'summary': u'', u'remarks': u'', u'size': 1, u'class': u'', u'unit': u'', u'quantity': u''}, {u'name': u'elodieDOF', u'dataType': u'bit', u'summary': u'', u'remarks': u'', u'size': 1, u'class': u'', u'unit': u'', u'quantity': u''}, {u'name': u'spectroFlux_u', u'dataType': u'real', u'summary': u'', u'remarks': u'', u'size': 4, u'class': u'', u'unit': u'', u'quantity': u''}, {u'name': u'ancillary_target1', u'dataType': u'bit', u'summary': u'', u'remarks': u'', u'size': 1, u'class': u'', u'unit': u'', u'quantity': u''}, {u'name': u'tColumn_7', u'dataType': u'smallint', u'summary': u'', u'remarks': u'', u'size': 2, u'class': u'', u'unit': u'', u'quantity': u''}, {u'name': u'fracNSigLo_5', u'dataType': u'real', u'summary': u'', u'remarks': u'', u'size': 4, u'class': u'', u'unit': u'', u'quantity': u''}, {u'name': u'z_noqso', u'dataType': u'real', u'summary': u'', u'remarks': u'', u'size': 4, u'class': u'', u'unit': u'', u'quantity': u''}, {u'name': u'sn2_i', u'dataType': u'real', u'summary': u'', u'remarks': u'', u'size': 4, u'class': u'', u'unit': u'', u'quantity': u''}, {u'name': u'snMedian_z', u'dataType': u'real', u'summary': u'', u'remarks': u'', u'size': 4, u'class': u'', u'unit': u'', u'quantity': u''}, {u'name': u'spectroFluxIvar_u', u'dataType': u'real', u'summary': u'', u'remarks': u'', u'size': 4, u'class': u'', u'unit': u'', u'quantity': u''}, {u'name': u'tColumn_4', u'dataType': u'smallint', u'summary': u'', u'remarks': u'', u'size': 2, u'class': u'', u'unit': u'', u'quantity': u''}, {u'name': u'htmID', u'dataType': u'bigint', u'summary': u'', u'remarks': u'', u'size': 8, u'class': u'', u'unit': u'', u'quantity': u''}, {u'name': u'elodieTEff', u'dataType': u'bit', u'summary': u'', u'remarks': u'', u'size': 1, u'class': u'', u'unit': u'', u'quantity': u''}, {u'name': u'rChi2Diff_noqso', u'dataType': u'real', u'summary': u'', u'remarks': u'', u'size': 4, u'class': u'', u'unit': u'', u'quantity': u''}, {u'name': u'blueFiber', u'dataType': u'smallint', u'summary': u'', u'remarks': u'', u'size': 2, u'class': u'', u'unit': u'', u'quantity': u''}, {u'name': u'elodieObject', u'dataType': u'bit', u'summary': u'', u'remarks': u'', u'size': 1, u'class': u'', u'unit': u'', u'quantity': u''}, {u'name': u'tColumn_9', u'dataType': u'smallint', u'summary': u'', u'remarks': u'', u'size': 2, u'class': u'', u'unit': u'', u'quantity': u''}, {u'name': u'spectroSkyFlux_z', u'dataType': u'real', u'summary': u'', u'remarks': u'', u'size': 4, u'class': u'', u'unit': u'', u'quantity': u''}, {u'name': u'velDispZ', u'dataType': u'bit', u'summary': u'', u'remarks': u'', u'size': 1, u'class': u'', u'unit': u'', u'quantity': u''}, {u'name': u'rChi2', u'dataType': u'real', u'summary': u'', u'remarks': u'', u'size': 4, u'class': u'', u'unit': u'', u'quantity': u''}, {u'name': u'theta_6', u'dataType': u'real', u'summary': u'', u'remarks': u'', u'size': 4, u'class': u'', u'unit': u'', u'quantity': u''}, {u'name': u'theta_3', u'dataType': u'real', u'summary': u'', u'remarks': u'', u'size': 4, u'class': u'', u'unit': u'', u'quantity': u''}, {u'name': u'xFocal', u'dataType': u'real', u'summary': u'', u'remarks': u'', u'size': 4, u'class': u'', u'unit': u'', u'quantity': u''}, {u'name': u'programname', u'dataType': u'varchar(max)', u'summary': u'', u'remarks': u'', u'size': 1, u'class': u'', u'unit': u'', u'quantity': u''}, {u'name': u'fracNSigLo_9', u'dataType': u'bit', u'summary': u'', u'remarks': u'', u'size': 1, u'class': u'', u'unit': u'', u'quantity': u''}, {u'name': u'fracNSigHi_2', u'dataType': u'real', u'summary': u'', u'remarks': u'', u'size': 4, u'class': u'', u'unit': u'', u'quantity': u''}, {u'name': u'theta_9', u'dataType': u'bit', u'summary': u'', u'remarks': u'', u'size': 1, u'class': u'', u'unit': u'', u'quantity': u''}, {u'name': u'elodieRChi2', u'dataType': u'bit', u'summary': u'', u'remarks': u'', u'size': 1, u'class': u'', u'unit': u'', u'quantity': u''}, {u'name': u'legacy_target1', u'dataType': u'tinyint', u'summary': u'', u'remarks': u'', u'size': 1, u'class': u'', u'unit': u'', u'quantity': u''}, {u'name': u'class_person', u'dataType': u'bit', u'summary': u'', u'remarks': u'', u'size': 1, u'class': u'', u'unit': u'', u'quantity': u''}, {u'name': u'wCoverage', u'dataType': u'real', u'summary': u'', u'remarks': u'', u'size': 4, u'class': u'', u'unit': u'', u'quantity': u''}, {u'name': u'sdssPrimary', u'dataType': u'bit', u'summary': u'', u'remarks': u'', u'size': 1, u'class': u'', u'unit': u'', u'quantity': u''}, {u'name': u'ancillary_target2', u'dataType': u'bit', u'summary': u'', u'remarks': u'', u'size': 1, u'class': u'', u'unit': u'', u'quantity': u''}, {u'name': u'fracNSigLo_4', u'dataType': u'real', u'summary': u'', u'remarks': u'', u'size': 4, u'class': u'', u'unit': u'', u'quantity': u''}, {u'name': u'deredSN2', u'dataType': u'real', u'summary': u'', u'remarks': u'', u'size': 4, u'class': u'', u'unit': u'', u'quantity': u''}, {u'name': u'spectroFluxIvar_i', u'dataType': u'real', u'summary': u'', u'remarks': u'', u'size': 4, u'class': u'', u'unit': u'', u'quantity': u''}, {u'name': u'boss_target1', u'dataType': u'bigint', u'summary': u'', u'remarks': u'', u'size': 8, u'class': u'', u'unit': u'', u'quantity': u''}, {u'name': u'cy', u'dataType': u'real', u'summary': u'', u'remarks': u'', u'size': 4, u'class': u'', u'unit': u'', u'quantity': u''}, {u'name': u'elodieZModelErr', u'dataType': u'bit', u'summary': u'', u'remarks': u'', u'size': 1, u'class': u'', u'unit': u'', u'quantity': u''}, {u'name': u'elodieSpType', u'dataType': u'bit', u'summary': u'', u'remarks': u'', u'size': 1, u'class': u'', u'unit': u'', u'quantity': u''}, {u'name': u'sn1_r', u'dataType': u'real', u'summary': u'', u'remarks': u'', u'size': 4, u'class': u'', u'unit': u'', u'quantity': u''}, {u'name': u'elodieZErr', u'dataType': u'bit', u'summary': u'', u'remarks': u'', u'size': 1, u'class': u'', u'unit': u'', u'quantity': u''}, {u'name': u'fracNSigLo_3', u'dataType': u'real', u'summary': u'', u'remarks': u'', u'size': 4, u'class': u'', u'unit': u'', u'quantity': u''}, {u'name': u'tColumn_3', u'dataType': u'tinyint', u'summary': u'', u'remarks': u'', u'size': 1, u'class': u'', u'unit': u'', u'quantity': u''}, {u'name': u'fracNSigHi_7', u'dataType': u'real', u'summary': u'', u'remarks': u'', u'size': 4, u'class': u'', u'unit': u'', u'quantity': u''}, {u'name': u'spectroSkyFlux_g', u'dataType': u'real', u'summary': u'', u'remarks': u'', u'size': 4, u'class': u'', u'unit': u'', u'quantity': u''}, {u'name': u'spectroSkyFlux_i', u'dataType': u'real', u'summary': u'', u'remarks': u'', u'size': 4, u'class': u'', u'unit': u'', u'quantity': u''}, {u'name': u'spectroSynFluxIvar_z', u'dataType': u'real', u'summary': u'', u'remarks': u'', u'size': 4, u'class': u'', u'unit': u'', u'quantity': u''}, {u'name': u'platerun', u'dataType': u'varchar(max)', u'summary': u'', u'remarks': u'', u'size': 1, u'class': u'', u'unit': u'', u'quantity': u''}, {u'name': u'subClass', u'dataType': u'varchar(max)', u'summary': u'', u'remarks': u'', u'size': 1, u'class': u'', u'unit': u'', u'quantity': u''}, {u'name': u'run2d', u'dataType': u'varchar(max)', u'summary': u'', u'remarks': u'', u'size': 1, u'class': u'', u'unit': u'', u'quantity': u''}, {u'name': u'zErr', u'dataType': u'real', u'summary': u'', u'remarks': u'', u'size': 4, u'class': u'', u'unit': u'', u'quantity': u''}, {u'name': u'theta_5', u'dataType': u'real', u'summary': u'', u'remarks': u'', u'size': 4, u'class': u'', u'unit': u'', u'quantity': u''}, {u'name': u'elodieFeH', u'dataType': u'bit', u'summary': u'', u'remarks': u'', u'size': 1, u'class': u'', u'unit': u'', u'quantity': u''}, {u'name': u'theta_2', u'dataType': u'real', u'summary': u'', u'remarks': u'', u'size': 4, u'class': u'', u'unit': u'', u'quantity': u''}, {u'name': u'designID', u'dataType': u'smallint', u'summary': u'', u'remarks': u'', u'size': 2, u'class': u'', u'unit': u'', u'quantity': u''}, {u'name': u'chunk', u'dataType': u'varchar(max)', u'summary': u'', u'remarks': u'', u'size': 1, u'class': u'', u'unit': u'', u'quantity': u''}, {u'name': u'rChi2Diff', u'dataType': u'real', u'summary': u'', u'remarks': u'', u'size': 4, u'class': u'', u'unit': u'', u'quantity': u''}, {u'name': u'fracNSigLo_8', u'dataType': u'bit', u'summary': u'', u'remarks': u'', u'size': 1, u'class': u'', u'unit': u'', u'quantity': u''}, {u'name': u'bossPrimary', u'dataType': u'bit', u'summary': u'', u'remarks': u'', u'size': 1, u'class': u'', u'unit': u'', u'quantity': u''}, {u'name': u'class_noqso', u'dataType': u'varchar(max)', u'summary': u'', u'remarks': u'', u'size': 1, u'class': u'', u'unit': u'', u'quantity': u''}, {u'name': u'fracNSigHi_3', u'dataType': u'real', u'summary': u'', u'remarks': u'', u'size': 4, u'class': u'', u'unit': u'', u'quantity': u''}, {u'name': u'theta_8', u'dataType': u'bit', u'summary': u'', u'remarks': u'', u'size': 1, u'class': u'', u'unit': u'', u'quantity': u''}, {u'name': u'cx', u'dataType': u'real', u'summary': u'', u'remarks': u'', u'size': 4, u'class': u'', u'unit': u'', u'quantity': u''}, {u'name': u'anyOrMask', u'dataType': u'int', u'summary': u'', u'remarks': u'', u'size': 4, u'class': u'', u'unit': u'', u'quantity': u''}, {u'name': u'secTarget', u'dataType': u'bit', u'summary': u'', u'remarks': u'', u'size': 1, u'class': u'', u'unit': u'', u'quantity': u''}, {u'name': u'fracNSigLo_10', u'dataType': u'bit', u'summary': u'', u'remarks': u'', u'size': 1, u'class': u'', u'unit': u'', u'quantity': u''}, {u'name': u'bestObjID', u'dataType': u'bigint', u'summary': u'', u'remarks': u'', u'size': 8, u'class': u'', u'unit': u'', u'quantity': u''}, {u'name': u'fracNSigma_10', u'dataType': u'bit', u'summary': u'', u'remarks': u'', u'size': 1, u'class': u'', u'unit': u'', u'quantity': u''}, {u'name': u'fiberID', u'dataType': u'smallint', u'summary': u'', u'remarks': u'', u'size': 2, u'class': u'', u'unit': u'', u'quantity': u''}, {u'name': u'zErr_noqso', u'dataType': u'real', u'summary': u'', u'remarks': u'', u'size': 4, u'class': u'', u'unit': u'', u'quantity': u''}, {u'name': u'tFile', u'dataType': u'varchar(max)', u'summary': u'', u'remarks': u'', u'size': 1, u'class': u'', u'unit': u'', u'quantity': u''}, {u'name': u'fracNSigLo_7', u'dataType': u'real', u'summary': u'', u'remarks': u'', u'size': 4, u'class': u'', u'unit': u'', u'quantity': u''}, {u'name': u'snMedian_r', u'dataType': u'real', u'summary': u'', u'remarks': u'', u'size': 4, u'class': u'', u'unit': u'', u'quantity': u''}, {u'name': u'velDispErr', u'dataType': u'real', u'summary': u'', u'remarks': u'', u'size': 4, u'class': u'', u'unit': u'', u'quantity': u''}, {u'name': u'spectrographID', u'dataType': u'bit', u'summary': u'', u'remarks': u'', u'size': 1, u'class': u'', u'unit': u'', u'quantity': u''}, {u'name': u'zWarning', u'dataType': u'tinyint', u'summary': u'', u'remarks': u'', u'size': 1, u'class': u'', u'unit': u'', u'quantity': u''}, {u'name': u'sn1_i', u'dataType': u'real', u'summary': u'', u'remarks': u'', u'size': 4, u'class': u'', u'unit': u'', u'quantity': u''}, {u'name': u'plateID', u'dataType': u'bigint', u'summary': u'', u'remarks': u'', u'size': 8, u'class': u'', u'unit': u'', u'quantity': u''}]}, {u'name': u'webuser.MyTable', u'summary': u'', u'example': u'', u'remarks': u'', u'class': u'', u'columns': [{u'name': u'ra', u'dataType': u'float', u'summary': u'', u'remarks': u'', u'size': 8, u'class': u'', u'unit': u'', u'quantity': u''}, {u'name': u'dec', u'dataType': u'float', u'summary': u'', u'remarks': u'', u'size': 8, u'class': u'', u'unit': u'', u'quantity': u''}]}, {u'name': u'webuser.Results_1', u'summary': u'', u'example': u'', u'remarks': u'', u'class': u'', u'columns': [{u'name': u'Column2', u'dataType': u'decimal', u'summary': u'', u'remarks': u'', u'size': 16, u'class': u'', u'unit': u'', u'quantity': u''}, {u'name': u'Column1', u'dataType': u'decimal', u'summary': u'', u'remarks': u'', u'size': 16, u'class': u'', u'unit': u'', u'quantity': u''}]}, {u'name': u'webuser.skcsv1', u'summary': u'', u'example': u'', u'remarks': u'', u'class': u'', u'columns': [{u'name': u'ID', u'dataType': u'bigint', u'summary': u'', u'remarks': u'', u'size': 8, u'class': u'', u'unit': u'', u'quantity': u''}, {u'name': u'col1', u'dataType': u'float', u'summary': u'', u'remarks': u'', u'size': 8, u'class': u'', u'unit': u'', u'quantity': u''}, {u'name': u'col2', u'dataType': u'float', u'summary': u'', u'remarks': u'', u'size': 8, u'class': u'', u'unit': u'', u'quantity': u''}]}, {u'name': u'webuser.TestTableSciScriptR', u'summary': u'', u'example': u'', u'remarks': u'', u'class': u'', u'columns': [{u'name': u'Column2', u'dataType': u'float', u'summary': u'', u'remarks': u'', u'size': 8, u'class': u'', u'unit': u'', u'quantity': u''}, {u'name': u'ID', u'dataType': u'bigint', u'summary': u'', u'remarks': u'', u'size': 8, u'class': u'', u'unit': u'', u'quantity': u''}, {u'name': u'Column1', u'dataType': u'float', u'summary': u'', u'remarks': u'', u'size': 8, u'class': u'', u'unit': u'', u'quantity': u''}]}, {u'name': u'webuser.NewTableFromDataFrame4', u'summary': u'', u'example': u'', u'remarks': u'', u'class': u'', u'columns': [{u'name': u'specobjid', u'dataType': u'bigint', u'summary': u'', u'remarks': u'', u'size': 8, u'class': u'', u'unit': u'', u'quantity': u''}, {u'name': u'ra', u'dataType': u'real', u'summary': u'', u'remarks': u'', u'size': 4, u'class': u'', u'unit': u'', u'quantity': u''}, {u'name': u'index', u'dataType': u'tinyint', u'summary': u'', u'remarks': u'', u'size': 1, u'class': u'', u'unit': u'', u'quantity': u''}, {u'name': u'dec', u'dataType': u'real', u'summary': u'', u'remarks': u'', u'size': 4, u'class': u'', u'unit': u'', u'quantity': u''}]}, {u'name': u'webuser.twowayxmatch', u'summary': u'', u'example': u'', u'remarks': u'', u'class': u'', u'columns': [{u'name': u's_dec', u'dataType': u'float', u'summary': u'', u'remarks': u'', u'size': 8, u'class': u'', u'unit': u'', u'quantity': u''}, {u'name': u'g_ra', u'dataType': u'float', u'summary': u'', u'remarks': u'', u'size': 8, u'class': u'', u'unit': u'', u'quantity': u''}, {u'name': u'g_dec', u'dataType': u'float', u'summary': u'', u'remarks': u'', u'size': 8, u'class': u'', u'unit': u'', u'quantity': u''}, {u'name': u'x_RA', u'dataType': u'float', u'summary': u'', u'remarks': u'', u'size': 8, u'class': u'', u'unit': u'', u'quantity': u''}, {u'name': u's_objID', u'dataType': u'bigint', u'summary': u'', u'remarks': u'', u'size': 8, u'class': u'', u'unit': u'', u'quantity': u''}, {u'name': u's_ra', u'dataType': u'float', u'summary': u'', u'remarks': u'', u'size': 8, u'class': u'', u'unit': u'', u'quantity': u''}, {u'name': u'x_Dec', u'dataType': u'float', u'summary': u'', u'remarks': u'', u'size': 8, u'class': u'', u'unit': u'', u'quantity': u''}, {u'name': u'g_objid', u'dataType': u'bigint', u'summary': u'', u'remarks': u'', u'size': 8, u'class': u'', u'unit': u'', u'quantity': u''}]}, {u'name': u'webuser.MyTable_3', u'summary': u'', u'example': u'', u'remarks': u'', u'class': u'', u'columns': [{u'name': u'spectroSynFlux_g', u'dataType': u'real', u'summary': u'', u'remarks': u'', u'size': 4, u'class': u'', u'unit': u'', u'quantity': u''}, {u'name': u'fracNSigLo_2', u'dataType': u'real', u'summary': u'', u'remarks': u'', u'size': 4, u'class': u'', u'unit': u'', u'quantity': u''}, {u'name': u'spectroSkyFlux_u', u'dataType': u'real', u'summary': u'', u'remarks': u'', u'size': 4, u'class': u'', u'unit': u'', u'quantity': u''}, {u'name': u'spectroSynFluxIvar_i', u'dataType': u'real', u'summary': u'', u'remarks': u'', u'size': 4, u'class': u'', u'unit': u'', u'quantity': u''}, {u'name': u'yFocal', u'dataType': u'real', u'summary': u'', u'remarks': u'', u'size': 4, u'class': u'', u'unit': u'', u'quantity': u''}, {u'name': u'class', u'dataType': u'varchar(32)', u'summary': u'', u'remarks': u'', u'size': 1, u'class': u'', u'unit': u'', u'quantity': u''}, {u'name': u'firstRelease', u'dataType': u'varchar(32)', u'summary': u'', u'remarks': u'', u'size': 1, u'class': u'', u'unit': u'', u'quantity': u''}, {u'name': u'spectroFluxIvar_r', u'dataType': u'real', u'summary': u'', u'remarks': u'', u'size': 4, u'class': u'', u'unit': u'', u'quantity': u''}, {u'name': u'fracNSigLo_1', u'dataType': u'real', u'summary': u'', u'remarks': u'', u'size': 4, u'class': u'', u'unit': u'', u'quantity': u''}, {u'name': u'spectroFlux_g', u'dataType': u'real', u'summary': u'', u'remarks': u'', u'size': 4, u'class': u'', u'unit': u'', u'quantity': u''}, {u'name': u'tColumn_1', u'dataType': u'smallint', u'summary': u'', u'remarks': u'', u'size': 2, u'class': u'', u'unit': u'', u'quantity': u''}, {u'name': u'fracNSigHi_5', u'dataType': u'real', u'summary': u'', u'remarks': u'', u'size': 4, u'class': u'', u'unit': u'', u'quantity': u''}, {u'name': u'theta_1', u'dataType': u'real', u'summary': u'', u'remarks': u'', u'size': 4, u'class': u'', u'unit': u'', u'quantity': u''}, {u'name': u'theta_0', u'dataType': u'real', u'summary': u'', u'remarks': u'', u'size': 4, u'class': u'', u'unit': u'', u'quantity': u''}, {u'name': u'special_target1', u'dataType': u'bigint', u'summary': u'', u'remarks': u'', u'size': 8, u'class': u'', u'unit': u'', u'quantity': u''}, {u'name': u'z', u'dataType': u'real', u'summary': u'', u'remarks': u'', u'size': 4, u'class': u'', u'unit': u'', u'quantity': u''}, {u'name': u'spectroSynFluxIvar_r', u'dataType': u'real', u'summary': u'', u'remarks': u'', u'size': 4, u'class': u'', u'unit': u'', u'quantity': u''}, {u'name': u'segue2_target2', u'dataType': u'bigint', u'summary': u'', u'remarks': u'', u'size': 8, u'class': u'', u'unit': u'', u'quantity': u''}, {u'name': u'waveMin', u'dataType': u'real', u'summary': u'', u'remarks': u'', u'size': 4, u'class': u'', u'unit': u'', u'quantity': u''}, {u'name': u'DOF', u'dataType': u'real', u'summary': u'', u'remarks': u'', u'size': 4, u'class': u'', u'unit': u'', u'quantity': u''}, {u'name': u'targetType', u'dataType': u'varchar(128)', u'summary': u'', u'remarks': u'', u'size': 1, u'class': u'', u'unit': u'', u'quantity': u''}, {u'name': u'snMedian', u'dataType': u'real', u'summary': u'', u'remarks': u'', u'size': 4, u'class': u'', u'unit': u'', u'quantity': u''}, {u'name': u'fracNSigma_8', u'dataType': u'real', u'summary': u'', u'remarks': u'', u'size': 4, u'class': u'', u'unit': u'', u'quantity': u''}, {u'name': u'elodieBV', u'dataType': u'real', u'summary': u'', u'remarks': u'', u'size': 4, u'class': u'', u'unit': u'', u'quantity': u''}, {u'name': u'segue2_target1', u'dataType': u'bigint', u'summary': u'', u'remarks': u'', u'size': 8, u'class': u'', u'unit': u'', u'quantity': u''}, {u'name': u'dec', u'dataType': u'float', u'summary': u'', u'remarks': u'', u'size': 8, u'class': u'', u'unit': u'', u'quantity': u''}, {u'name': u'legacy_target2', u'dataType': u'bigint', u'summary': u'', u'remarks': u'', u'size': 8, u'class': u'', u'unit': u'', u'quantity': u''}, {u'name': u'snTurnoff', u'dataType': u'real', u'summary': u'', u'remarks': u'', u'size': 4, u'class': u'', u'unit': u'', u'quantity': u''}, {u'name': u'fracNSigma_5', u'dataType': u'real', u'summary': u'', u'remarks': u'', u'size': 4, u'class': u'', u'unit': u'', u'quantity': u''}, {u'name': u'instrument', u'dataType': u'varchar(32)', u'summary': u'', u'remarks': u'', u'size': 1, u'class': u'', u'unit': u'', u'quantity': u''}, {u'name': u'cz', u'dataType': u'float', u'summary': u'', u'remarks': u'', u'size': 8, u'class': u'', u'unit': u'', u'quantity': u''}, {u'name': u'tile', u'dataType': u'int', u'summary': u'', u'remarks': u'', u'size': 4, u'class': u'', u'unit': u'', u'quantity': u''}, {u'name': u'velDispZErr', u'dataType': u'real', u'summary': u'', u'remarks': u'', u'size': 4, u'class': u'', u'unit': u'', u'quantity': u''}, {u'name': u'plate', u'dataType': u'smallint', u'summary': u'', u'remarks': u'', u'size': 2, u'class': u'', u'unit': u'', u'quantity': u''}, {u'name': u'sciencePrimary', u'dataType': u'smallint', u'summary': u'', u'remarks': u'', u'size': 2, u'class': u'', u'unit': u'', u'quantity': u''}, {u'name': u'spectroSynFlux_r', u'dataType': u'real', u'summary': u'', u'remarks': u'', u'size': 4, u'class': u'', u'unit': u'', u'quantity': u''}, {u'name': u'img', u'dataType': u'varbinary(max)', u'summary': u'', u'remarks': u'', u'size': 1, u'class': u'', u'unit': u'', u'quantity': u''}, {u'name': u'fracNSigma_6', u'dataType': u'real', u'summary': u'', u'remarks': u'', u'size': 4, u'class': u'', u'unit': u'', u'quantity': u''}, {u'name': u'tColumn_2', u'dataType': u'smallint', u'summary': u'', u'remarks': u'', u'size': 2, u'class': u'', u'unit': u'', u'quantity': u''}, {u'name': u'velDispChi2', u'dataType': u'real', u'summary': u'', u'remarks': u'', u'size': 4, u'class': u'', u'unit': u'', u'quantity': u''}, {u'name': u'fracNSigHi_6', u'dataType': u'real', u'summary': u'', u'remarks': u'', u'size': 4, u'class': u'', u'unit': u'', u'quantity': u''}, {u'name': u'special_target2', u'dataType': u'bigint', u'summary': u'', u'remarks': u'', u'size': 8, u'class': u'', u'unit': u'', u'quantity': u''}, {u'name': u'fracNSigma_3', u'dataType': u'real', u'summary': u'', u'remarks': u'', u'size': 4, u'class': u'', u'unit': u'', u'quantity': u''}, {u'name': u'chi68p', u'dataType': u'real', u'summary': u'', u'remarks': u'', u'size': 4, u'class': u'', u'unit': u'', u'quantity': u''}, {u'name': u'segue2Primary', u'dataType': u'smallint', u'summary': u'', u'remarks': u'', u'size': 2, u'class': u'', u'unit': u'', u'quantity': u''}, {u'name': u'sn1_g', u'dataType': u'real', u'summary': u'', u'remarks': u'', u'size': 4, u'class': u'', u'unit': u'', u'quantity': u''}, {u'name': u'spectroSynFluxIvar_g', u'dataType': u'real', u'summary': u'', u'remarks': u'', u'size': 4, u'class': u'', u'unit': u'', u'quantity': u''}, {u'name': u'spectroSynFlux_u', u'dataType': u'real', u'summary': u'', u'remarks': u'', u'size': 4, u'class': u'', u'unit': u'', u'quantity': u''}, {u'name': u'fracNSigma_9', u'dataType': u'real', u'summary': u'', u'remarks': u'', u'size': 4, u'class': u'', u'unit': u'', u'quantity': u''}, {u'name': u'waveMax', u'dataType': u'real', u'summary': u'', u'remarks': u'', u'size': 4, u'class': u'', u'unit': u'', u'quantity': u''}, {u'name': u'lambdaEff', u'dataType': u'real', u'summary': u'', u'remarks': u'', u'size': 4, u'class': u'', u'unit': u'', u'quantity': u''}, {u'name': u'fracNSigHi_8', u'dataType': u'real', u'summary': u'', u'remarks': u'', u'size': 4, u'class': u'', u'unit': u'', u'quantity': u''}, {u'name': u'legacyPrimary', u'dataType': u'smallint', u'summary': u'', u'remarks': u'', u'size': 2, u'class': u'', u'unit': u'', u'quantity': u''}, {u'name': u'specObjID', u'dataType': u'bigint', u'summary': u'', u'remarks': u'', u'size': 8, u'class': u'', u'unit': u'', u'quantity': u''}, {u'name': u'fracNSigHi_10', u'dataType': u'real', u'summary': u'', u'remarks': u'', u'size': 4, u'class': u'', u'unit': u'', u'quantity': u''}, {u'name': u'comments_person', u'dataType': u'varchar(200)', u'summary': u'', u'remarks': u'', u'size': 1, u'class': u'', u'unit': u'', u'quantity': u''}, {u'name': u'spectroSynFlux_i', u'dataType': u'real', u'summary': u'', u'remarks': u'', u'size': 4, u'class': u'', u'unit': u'', u'quantity': u''}, {u'name': u'ra', u'dataType': u'float', u'summary': u'', u'remarks': u'', u'size': 8, u'class': u'', u'unit': u'', u'quantity': u''}, {u'name': u'tColumn_5', u'dataType': u'smallint', u'summary': u'', u'remarks': u'', u'size': 2, u'class': u'', u'unit': u'', u'quantity': u''}, {u'name': u'spectroSkyFlux_r', u'dataType': u'real', u'summary': u'', u'remarks': u'', u'size': 4, u'class': u'', u'unit': u'', u'quantity': u''}, {u'name': u'segue1Primary', u'dataType': u'smallint', u'summary': u'', u'remarks': u'', u'size': 2, u'class': u'', u'unit': u'', u'quantity': u''}, {u'name': u'spectroFluxIvar_g', u'dataType': u'real', u'summary': u'', u'remarks': u'', u'size': 4, u'class': u'', u'unit': u'', u'quantity': u''}, {u'name': u'survey', u'dataType': u'varchar(32)', u'summary': u'', u'remarks': u'', u'size': 1, u'class': u'', u'unit': u'', u'quantity': u''}, {u'name': u'subClass_noqso', u'dataType': u'varchar(32)', u'summary': u'', u'remarks': u'', u'size': 1, u'class': u'', u'unit': u'', u'quantity': u''}, {u'name': u'spectroFlux_z', u'dataType': u'real', u'summary': u'', u'remarks': u'', u'size': 4, u'class': u'', u'unit': u'', u'quantity': u''}, {u'name': u'nPoly', u'dataType': u'real', u'summary': u'', u'remarks': u'', u'size': 4, u'class': u'', u'unit': u'', u'quantity': u''}, {u'name': u'fracNSigma_7', u'dataType': u'real', u'summary': u'', u'remarks': u'', u'size': 4, u'class': u'', u'unit': u'', u'quantity': u''}, {u'name': u'z_person', u'dataType': u'real', u'summary': u'', u'remarks': u'', u'size': 4, u'class': u'', u'unit': u'', u'quantity': u''}, {u'name': u'anyAndMask', u'dataType': u'int', u'summary': u'', u'remarks': u'', u'size': 4, u'class': u'', u'unit': u'', u'quantity': u''}, {u'name': u'snMedian_g', u'dataType': u'real', u'summary': u'', u'remarks': u'', u'size': 4, u'class': u'', u'unit': u'', u'quantity': u''}, {u'name': u'targetObjID', u'dataType': u'bigint', u'summary': u'', u'remarks': u'', u'size': 8, u'class': u'', u'unit': u'', u'quantity': u''}, {u'name': u'fluxObjID', u'dataType': u'bigint', u'summary': u'', u'remarks': u'', u'size': 8, u'class': u'', u'unit': u'', u'quantity': u''}, {u'name': u'fracNSigHi_4', u'dataType': u'real', u'summary': u'', u'remarks': u'', u'size': 4, u'class': u'', u'unit': u'', u'quantity': u''}, {u'name': u'zOffset', u'dataType': u'real', u'summary': u'', u'remarks': u'', u'size': 4, u'class': u'', u'unit': u'', u'quantity': u''}, {u'name': u'spectroFlux_r', u'dataType': u'real', u'summary': u'', u'remarks': u'', u'size': 4, u'class': u'', u'unit': u'', u'quantity': u''}, {u'name': u'eboss_target0', u'dataType': u'bigint', u'summary': u'', u'remarks': u'', u'size': 8, u'class': u'', u'unit': u'', u'quantity': u''}, {u'name': u'velDispDOF', u'dataType': u'int', u'summary': u'', u'remarks': u'', u'size': 4, u'class': u'', u'unit': u'', u'quantity': u''}, {u'name': u'bossSpecObjID', u'dataType': u'int', u'summary': u'', u'remarks': u'', u'size': 4, u'class': u'', u'unit': u'', u'quantity': u''}, {u'name': u'primTarget', u'dataType': u'bigint', u'summary': u'', u'remarks': u'', u'size': 8, u'class': u'', u'unit': u'', u'quantity': u''}, {u'name': u'spectroFluxIvar_z', u'dataType': u'real', u'summary': u'', u'remarks': u'', u'size': 4, u'class': u'', u'unit': u'', u'quantity': u''}, {u'name': u'fracNSigHi_9', u'dataType': u'real', u'summary': u'', u'remarks': u'', u'size': 4, u'class': u'', u'unit': u'', u'quantity': u''}, {u'name': u'elodieLogG', u'dataType': u'real', u'summary': u'', u'remarks': u'', u'size': 4, u'class': u'', u'unit': u'', u'quantity': u''}, {u'name': u'loadVersion', u'dataType': u'int', u'summary': u'', u'remarks': u'', u'size': 4, u'class': u'', u'unit': u'', u'quantity': u''}, {u'name': u'velDispNPix', u'dataType': u'int', u'summary': u'', u'remarks': u'', u'size': 4, u'class': u'', u'unit': u'', u'quantity': u''}, {u'name': u'tColumn_6', u'dataType': u'smallint', u'summary': u'', u'remarks': u'', u'size': 2, u'class': u'', u'unit': u'', u'quantity': u''}, {u'name': u'tColumn_0', u'dataType': u'smallint', u'summary': u'', u'remarks': u'', u'size': 2, u'class': u'', u'unit': u'', u'quantity': u''}, {u'name': u'zWarning_noqso', u'dataType': u'int', u'summary': u'', u'remarks': u'', u'size': 4, u'class': u'', u'unit': u'', u'quantity': u''}, {u'name': u'plateSN2', u'dataType': u'real', u'summary': u'', u'remarks': u'', u'size': 4, u'class': u'', u'unit': u'', u'quantity': u''}, {u'name': u'elodieZ', u'dataType': u'real', u'summary': u'', u'remarks': u'', u'size': 4, u'class': u'', u'unit': u'', u'quantity': u''}, {u'name': u'spectroSynFlux_z', u'dataType': u'real', u'summary': u'', u'remarks': u'', u'size': 4, u'class': u'', u'unit': u'', u'quantity': u''}, {u'name': u'fracNSigma_4', u'dataType': u'real', u'summary': u'', u'remarks': u'', u'size': 4, u'class': u'', u'unit': u'', u'quantity': u''}, {u'name': u'sn2_r', u'dataType': u'real', u'summary': u'', u'remarks': u'', u'size': 4, u'class': u'', u'unit': u'', u'quantity': u''}, {u'name': u'mjd', u'dataType': u'int', u'summary': u'', u'remarks': u'', u'size': 4, u'class': u'', u'unit': u'', u'quantity': u''}, {u'name': u'theta_4', u'dataType': u'real', u'summary': u'', u'remarks': u'', u'size': 4, u'class': u'', u'unit': u'', u'quantity': u''}, {u'name': u'run1d', u'dataType': u'varchar(32)', u'summary': u'', u'remarks': u'', u'size': 1, u'class': u'', u'unit': u'', u'quantity': u''}, {u'name': u'segue1_target1', u'dataType': u'bigint', u'summary': u'', u'remarks': u'', u'size': 8, u'class': u'', u'unit': u'', u'quantity': u''}, {u'name': u'sn2_g', u'dataType': u'real', u'summary': u'', u'remarks': u'', u'size': 4, u'class': u'', u'unit': u'', u'quantity': u''}, {u'name': u'snMedian_i', u'dataType': u'real', u'summary': u'', u'remarks': u'', u'size': 4, u'class': u'', u'unit': u'', u'quantity': u''}, {u'name': u'fracNSigma_1', u'dataType': u'real', u'summary': u'', u'remarks': u'', u'size': 4, u'class': u'', u'unit': u'', u'quantity': u''}, {u'name': u'tColumn_8', u'dataType': u'smallint', u'summary': u'', u'remarks': u'', u'size': 2, u'class': u'', u'unit': u'', u'quantity': u''}, {u'name': u'spectroFlux_i', u'dataType': u'real', u'summary': u'', u'remarks': u'', u'size': 4, u'class': u'', u'unit': u'', u'quantity': u''}, {u'name': u'theta_7', u'dataType': u'real', u'summary': u'', u'remarks': u'', u'size': 4, u'class': u'', u'unit': u'', u'quantity': u''}, {u'name': u'segue1_target2', u'dataType': u'bigint', u'summary': u'', u'remarks': u'', u'size': 8, u'class': u'', u'unit': u'', u'quantity': u''}, {u'name': u'elodieFileName', u'dataType': u'varchar(32)', u'summary': u'', u'remarks': u'', u'size': 1, u'class': u'', u'unit': u'', u'quantity': u''}, {u'name': u'velDisp', u'dataType': u'real', u'summary': u'', u'remarks': u'', u'size': 4, u'class': u'', u'unit': u'', u'quantity': u''}, {u'name': u'fracNSigma_2', u'dataType': u'real', u'summary': u'', u'remarks': u'', u'size': 4, u'class': u'', u'unit': u'', u'quantity': u''}, {u'name': u'spectroSynFluxIvar_u', u'dataType': u'real', u'summary': u'', u'remarks': u'', u'size': 4, u'class': u'', u'unit': u'', u'quantity': u''}, {u'name': u'fracNSigLo_6', u'dataType': u'real', u'summary': u'', u'remarks': u'', u'size': 4, u'class': u'', u'unit': u'', u'quantity': u''}, {u'name': u'snMedian_u', u'dataType': u'real', u'summary': u'', u'remarks': u'', u'size': 4, u'class': u'', u'unit': u'', u'quantity': u''}, {u'name': u'sourceType', u'dataType': u'varchar(128)', u'summary': u'', u'remarks': u'', u'size': 1, u'class': u'', u'unit': u'', u'quantity': u''}, {u'name': u'fracNSigHi_1', u'dataType': u'real', u'summary': u'', u'remarks': u'', u'size': 4, u'class': u'', u'unit': u'', u'quantity': u''}, {u'name': u'seguePrimary', u'dataType': u'smallint', u'summary': u'', u'remarks': u'', u'size': 2, u'class': u'', u'unit': u'', u'quantity': u''}, {u'name': u'elodieDOF', u'dataType': u'real', u'summary': u'', u'remarks': u'', u'size': 4, u'class': u'', u'unit': u'', u'quantity': u''}, {u'name': u'spectroFlux_u', u'dataType': u'real', u'summary': u'', u'remarks': u'', u'size': 4, u'class': u'', u'unit': u'', u'quantity': u''}, {u'name': u'ancillary_target1', u'dataType': u'bigint', u'summary': u'', u'remarks': u'', u'size': 8, u'class': u'', u'unit': u'', u'quantity': u''}, {u'name': u'tColumn_7', u'dataType': u'smallint', u'summary': u'', u'remarks': u'', u'size': 2, u'class': u'', u'unit': u'', u'quantity': u''}, {u'name': u'fracNSigLo_5', u'dataType': u'real', u'summary': u'', u'remarks': u'', u'size': 4, u'class': u'', u'unit': u'', u'quantity': u''}, {u'name': u'z_noqso', u'dataType': u'real', u'summary': u'', u'remarks': u'', u'size': 4, u'class': u'', u'unit': u'', u'quantity': u''}, {u'name': u'sn2_i', u'dataType': u'real', u'summary': u'', u'remarks': u'', u'size': 4, u'class': u'', u'unit': u'', u'quantity': u''}, {u'name': u'snMedian_z', u'dataType': u'real', u'summary': u'', u'remarks': u'', u'size': 4, u'class': u'', u'unit': u'', u'quantity': u''}, {u'name': u'spectroFluxIvar_u', u'dataType': u'real', u'summary': u'', u'remarks': u'', u'size': 4, u'class': u'', u'unit': u'', u'quantity': u''}, {u'name': u'tColumn_4', u'dataType': u'smallint', u'summary': u'', u'remarks': u'', u'size': 2, u'class': u'', u'unit': u'', u'quantity': u''}, {u'name': u'htmID', u'dataType': u'bigint', u'summary': u'', u'remarks': u'', u'size': 8, u'class': u'', u'unit': u'', u'quantity': u''}, {u'name': u'elodieTEff', u'dataType': u'real', u'summary': u'', u'remarks': u'', u'size': 4, u'class': u'', u'unit': u'', u'quantity': u''}, {u'name': u'rChi2Diff_noqso', u'dataType': u'real', u'summary': u'', u'remarks': u'', u'size': 4, u'class': u'', u'unit': u'', u'quantity': u''}, {u'name': u'blueFiber', u'dataType': u'int', u'summary': u'', u'remarks': u'', u'size': 4, u'class': u'', u'unit': u'', u'quantity': u''}, {u'name': u'elodieObject', u'dataType': u'varchar(32)', u'summary': u'', u'remarks': u'', u'size': 1, u'class': u'', u'unit': u'', u'quantity': u''}, {u'name': u'tColumn_9', u'dataType': u'smallint', u'summary': u'', u'remarks': u'', u'size': 2, u'class': u'', u'unit': u'', u'quantity': u''}, {u'name': u'spectroSkyFlux_z', u'dataType': u'real', u'summary': u'', u'remarks': u'', u'size': 4, u'class': u'', u'unit': u'', u'quantity': u''}, {u'name': u'velDispZ', u'dataType': u'real', u'summary': u'', u'remarks': u'', u'size': 4, u'class': u'', u'unit': u'', u'quantity': u''}, {u'name': u'rChi2', u'dataType': u'real', u'summary': u'', u'remarks': u'', u'size': 4, u'class': u'', u'unit': u'', u'quantity': u''}, {u'name': u'theta_6', u'dataType': u'real', u'summary': u'', u'remarks': u'', u'size': 4, u'class': u'', u'unit': u'', u'quantity': u''}, {u'name': u'theta_3', u'dataType': u'real', u'summary': u'', u'remarks': u'', u'size': 4, u'class': u'', u'unit': u'', u'quantity': u''}, {u'name': u'xFocal', u'dataType': u'real', u'summary': u'', u'remarks': u'', u'size': 4, u'class': u'', u'unit': u'', u'quantity': u''}, {u'name': u'programname', u'dataType': u'varchar(32)', u'summary': u'', u'remarks': u'', u'size': 1, u'class': u'', u'unit': u'', u'quantity': u''}, {u'name': u'fracNSigLo_9', u'dataType': u'real', u'summary': u'', u'remarks': u'', u'size': 4, u'class': u'', u'unit': u'', u'quantity': u''}, {u'name': u'fracNSigHi_2', u'dataType': u'real', u'summary': u'', u'remarks': u'', u'size': 4, u'class': u'', u'unit': u'', u'quantity': u''}, {u'name': u'theta_9', u'dataType': u'real', u'summary': u'', u'remarks': u'', u'size': 4, u'class': u'', u'unit': u'', u'quantity': u''}, {u'name': u'elodieRChi2', u'dataType': u'real', u'summary': u'', u'remarks': u'', u'size': 4, u'class': u'', u'unit': u'', u'quantity': u''}, {u'name': u'legacy_target1', u'dataType': u'bigint', u'summary': u'', u'remarks': u'', u'size': 8, u'class': u'', u'unit': u'', u'quantity': u''}, {u'name': u'class_person', u'dataType': u'varchar(32)', u'summary': u'', u'remarks': u'', u'size': 1, u'class': u'', u'unit': u'', u'quantity': u''}, {u'name': u'wCoverage', u'dataType': u'real', u'summary': u'', u'remarks': u'', u'size': 4, u'class': u'', u'unit': u'', u'quantity': u''}, {u'name': u'sdssPrimary', u'dataType': u'smallint', u'summary': u'', u'remarks': u'', u'size': 2, u'class': u'', u'unit': u'', u'quantity': u''}, {u'name': u'ancillary_target2', u'dataType': u'bigint', u'summary': u'', u'remarks': u'', u'size': 8, u'class': u'', u'unit': u'', u'quantity': u''}, {u'name': u'fracNSigLo_4', u'dataType': u'real', u'summary': u'', u'remarks': u'', u'size': 4, u'class': u'', u'unit': u'', u'quantity': u''}, {u'name': u'deredSN2', u'dataType': u'real', u'summary': u'', u'remarks': u'', u'size': 4, u'class': u'', u'unit': u'', u'quantity': u''}, {u'name': u'spectroFluxIvar_i', u'dataType': u'real', u'summary': u'', u'remarks': u'', u'size': 4, u'class': u'', u'unit': u'', u'quantity': u''}, {u'name': u'boss_target1', u'dataType': u'bigint', u'summary': u'', u'remarks': u'', u'size': 8, u'class': u'', u'unit': u'', u'quantity': u''}, {u'name': u'cy', u'dataType': u'float', u'summary': u'', u'remarks': u'', u'size': 8, u'class': u'', u'unit': u'', u'quantity': u''}, {u'name': u'elodieZModelErr', u'dataType': u'real', u'summary': u'', u'remarks': u'', u'size': 4, u'class': u'', u'unit': u'', u'quantity': u''}, {u'name': u'elodieSpType', u'dataType': u'varchar(32)', u'summary': u'', u'remarks': u'', u'size': 1, u'class': u'', u'unit': u'', u'quantity': u''}, {u'name': u'sn1_r', u'dataType': u'real', u'summary': u'', u'remarks': u'', u'size': 4, u'class': u'', u'unit': u'', u'quantity': u''}, {u'name': u'elodieZErr', u'dataType': u'real', u'summary': u'', u'remarks': u'', u'size': 4, u'class': u'', u'unit': u'', u'quantity': u''}, {u'name': u'fracNSigLo_3', u'dataType': u'real', u'summary': u'', u'remarks': u'', u'size': 4, u'class': u'', u'unit': u'', u'quantity': u''}, {u'name': u'tColumn_3', u'dataType': u'smallint', u'summary': u'', u'remarks': u'', u'size': 2, u'class': u'', u'unit': u'', u'quantity': u''}, {u'name': u'fracNSigHi_7', u'dataType': u'real', u'summary': u'', u'remarks': u'', u'size': 4, u'class': u'', u'unit': u'', u'quantity': u''}, {u'name': u'spectroSkyFlux_g', u'dataType': u'real', u'summary': u'', u'remarks': u'', u'size': 4, u'class': u'', u'unit': u'', u'quantity': u''}, {u'name': u'spectroSkyFlux_i', u'dataType': u'real', u'summary': u'', u'remarks': u'', u'size': 4, u'class': u'', u'unit': u'', u'quantity': u''}, {u'name': u'spectroSynFluxIvar_z', u'dataType': u'real', u'summary': u'', u'remarks': u'', u'size': 4, u'class': u'', u'unit': u'', u'quantity': u''}, {u'name': u'platerun', u'dataType': u'varchar(32)', u'summary': u'', u'remarks': u'', u'size': 1, u'class': u'', u'unit': u'', u'quantity': u''}, {u'name': u'subClass', u'dataType': u'varchar(32)', u'summary': u'', u'remarks': u'', u'size': 1, u'class': u'', u'unit': u'', u'quantity': u''}, {u'name': u'run2d', u'dataType': u'varchar(32)', u'summary': u'', u'remarks': u'', u'size': 1, u'class': u'', u'unit': u'', u'quantity': u''}, {u'name': u'zErr', u'dataType': u'real', u'summary': u'', u'remarks': u'', u'size': 4, u'class': u'', u'unit': u'', u'quantity': u''}, {u'name': u'theta_5', u'dataType': u'real', u'summary': u'', u'remarks': u'', u'size': 4, u'class': u'', u'unit': u'', u'quantity': u''}, {u'name': u'elodieFeH', u'dataType': u'real', u'summary': u'', u'remarks': u'', u'size': 4, u'class': u'', u'unit': u'', u'quantity': u''}, {u'name': u'theta_2', u'dataType': u'real', u'summary': u'', u'remarks': u'', u'size': 4, u'class': u'', u'unit': u'', u'quantity': u''}, {u'name': u'designID', u'dataType': u'int', u'summary': u'', u'remarks': u'', u'size': 4, u'class': u'', u'unit': u'', u'quantity': u''}, {u'name': u'chunk', u'dataType': u'varchar(32)', u'summary': u'', u'remarks': u'', u'size': 1, u'class': u'', u'unit': u'', u'quantity': u''}, {u'name': u'rChi2Diff', u'dataType': u'real', u'summary': u'', u'remarks': u'', u'size': 4, u'class': u'', u'unit': u'', u'quantity': u''}, {u'name': u'fracNSigLo_8', u'dataType': u'real', u'summary': u'', u'remarks': u'', u'size': 4, u'class': u'', u'unit': u'', u'quantity': u''}, {u'name': u'bossPrimary', u'dataType': u'smallint', u'summary': u'', u'remarks': u'', u'size': 2, u'class': u'', u'unit': u'', u'quantity': u''}, {u'name': u'class_noqso', u'dataType': u'varchar(32)', u'summary': u'', u'remarks': u'', u'size': 1, u'class': u'', u'unit': u'', u'quantity': u''}, {u'name': u'fracNSigHi_3', u'dataType': u'real', u'summary': u'', u'remarks': u'', u'size': 4, u'class': u'', u'unit': u'', u'quantity': u''}, {u'name': u'theta_8', u'dataType': u'real', u'summary': u'', u'remarks': u'', u'size': 4, u'class': u'', u'unit': u'', u'quantity': u''}, {u'name': u'cx', u'dataType': u'float', u'summary': u'', u'remarks': u'', u'size': 8, u'class': u'', u'unit': u'', u'quantity': u''}, {u'name': u'anyOrMask', u'dataType': u'int', u'summary': u'', u'remarks': u'', u'size': 4, u'class': u'', u'unit': u'', u'quantity': u''}, {u'name': u'secTarget', u'dataType': u'bigint', u'summary': u'', u'remarks': u'', u'size': 8, u'class': u'', u'unit': u'', u'quantity': u''}, {u'name': u'fracNSigLo_10', u'dataType': u'real', u'summary': u'', u'remarks': u'', u'size': 4, u'class': u'', u'unit': u'', u'quantity': u''}, {u'name': u'bestObjID', u'dataType': u'bigint', u'summary': u'', u'remarks': u'', u'size': 8, u'class': u'', u'unit': u'', u'quantity': u''}, {u'name': u'fracNSigma_10', u'dataType': u'real', u'summary': u'', u'remarks': u'', u'size': 4, u'class': u'', u'unit': u'', u'quantity': u''}, {u'name': u'fiberID', u'dataType': u'smallint', u'summary': u'', u'remarks': u'', u'size': 2, u'class': u'', u'unit': u'', u'quantity': u''}, {u'name': u'zErr_noqso', u'dataType': u'real', u'summary': u'', u'remarks': u'', u'size': 4, u'class': u'', u'unit': u'', u'quantity': u''}, {u'name': u'tFile', u'dataType': u'varchar(32)', u'summary': u'', u'remarks': u'', u'size': 1, u'class': u'', u'unit': u'', u'quantity': u''}, {u'name': u'fracNSigLo_7', u'dataType': u'real', u'summary': u'', u'remarks': u'', u'size': 4, u'class': u'', u'unit': u'', u'quantity': u''}, {u'name': u'snMedian_r', u'dataType': u'real', u'summary': u'', u'remarks': u'', u'size': 4, u'class': u'', u'unit': u'', u'quantity': u''}, {u'name': u'velDispErr', u'dataType': u'real', u'summary': u'', u'remarks': u'', u'size': 4, u'class': u'', u'unit': u'', u'quantity': u''}, {u'name': u'spectrographID', u'dataType': u'smallint', u'summary': u'', u'remarks': u'', u'size': 2, u'class': u'', u'unit': u'', u'quantity': u''}, {u'name': u'zWarning', u'dataType': u'int', u'summary': u'', u'remarks': u'', u'size': 4, u'class': u'', u'unit': u'', u'quantity': u''}, {u'name': u'sn1_i', u'dataType': u'real', u'summary': u'', u'remarks': u'', u'size': 4, u'class': u'', u'unit': u'', u'quantity': u''}, {u'name': u'plateID', u'dataType': u'bigint', u'summary': u'', u'remarks': u'', u'size': 8, u'class': u'', u'unit': u'', u'quantity': u''}]}, {u'name': u'webuser.NewTableFromDataFrame22', u'summary': u'', u'example': u'', u'remarks': u'', u'class': u'', u'columns': [{u'name': u'specobjid', u'dataType': u'bigint', u'summary': u'', u'remarks': u'', u'size': 8, u'class': u'', u'unit': u'', u'quantity': u''}, {u'name': u'ra', u'dataType': u'real', u'summary': u'', u'remarks': u'', u'size': 4, u'class': u'', u'unit': u'', u'quantity': u''}, {u'name': u'dec', u'dataType': u'real', u'summary': u'', u'remarks': u'', u'size': 4, u'class': u'', u'unit': u'', u'quantity': u''}]}, {u'name': u'webuser.testTable2', u'summary': u'', u'example': u'', u'remarks': u'', u'class': u'', u'columns': [{u'name': u'Column2', u'dataType': u'tinyint', u'summary': u'', u'remarks': u'', u'size': 1, u'class': u'', u'unit': u'', u'quantity': u''}, {u'name': u'Column1', u'dataType': u'tinyint', u'summary': u'', u'remarks': u'', u'size': 1, u'class': u'', u'unit': u'', u'quantity': u''}]}, {u'name': u'webuser.Results', u'summary': u'', u'example': u'', u'remarks': u'', u'class': u'', u'columns': [{u'name': u'Col_0', u'dataType': u'int', u'summary': u'', u'remarks': u'', u'size': 4, u'class': u'', u'unit': u'', u'quantity': u''}]}, {u'name': u'webuser.MyNewtable3', u'summary': u'', u'example': u'', u'remarks': u'', u'class': u'', u'columns': [{u'name': u'fiberid', u'dataType': u'smallint', u'summary': u'', u'remarks': u'', u'size': 2, u'class': u'', u'unit': u'', u'quantity': u''}, {u'name': u'redshift', u'dataType': u'real', u'summary': u'', u'remarks': u'', u'size': 4, u'class': u'', u'unit': u'', u'quantity': u''}, {u'name': u'run', u'dataType': u'tinyint', u'summary': u'', u'remarks': u'', u'size': 1, u'class': u'', u'unit': u'', u'quantity': u''}, {u'name': u'u', u'dataType': u'real', u'summary': u'', u'remarks': u'', u'size': 4, u'class': u'', u'unit': u'', u'quantity': u''}, {u'name': u'camcol', u'dataType': u'tinyint', u'summary': u'', u'remarks': u'', u'size': 1, u'class': u'', u'unit': u'', u'quantity': u''}, {u'name': u'specobjid', u'dataType': u'bigint', u'summary': u'', u'remarks': u'', u'size': 8, u'class': u'', u'unit': u'', u'quantity': u''}, {u'name': u'rerun', u'dataType': u'smallint', u'summary': u'', u'remarks': u'', u'size': 2, u'class': u'', u'unit': u'', u'quantity': u''}, {u'name': u'class', u'dataType': u'varchar(max)', u'summary': u'', u'remarks': u'', u'size': 1, u'class': u'', u'unit': u'', u'quantity': u''}, {u'name': u'ra', u'dataType': u'real', u'summary': u'', u'remarks': u'', u'size': 4, u'class': u'', u'unit': u'', u'quantity': u''}, {u'name': u'z', u'dataType': u'real', u'summary': u'', u'remarks': u'', u'size': 4, u'class': u'', u'unit': u'', u'quantity': u''}, {u'name': u'g', u'dataType': u'real', u'summary': u'', u'remarks': u'', u'size': 4, u'class': u'', u'unit': u'', u'quantity': u''}, {u'name': u'objid', u'dataType': u'bigint', u'summary': u'', u'remarks': u'', u'size': 8, u'class': u'', u'unit': u'', u'quantity': u''}, {u'name': u'field', u'dataType': u'smallint', u'summary': u'', u'remarks': u'', u'size': 2, u'class': u'', u'unit': u'', u'quantity': u''}, {u'name': u'dec', u'dataType': u'real', u'summary': u'', u'remarks': u'', u'size': 4, u'class': u'', u'unit': u'', u'quantity': u''}, {u'name': u'mjd', u'dataType': u'int', u'summary': u'', u'remarks': u'', u'size': 4, u'class': u'', u'unit': u'', u'quantity': u''}, {u'name': u'r', u'dataType': u'real', u'summary': u'', u'remarks': u'', u'size': 4, u'class': u'', u'unit': u'', u'quantity': u''}, {u'name': u'plate', u'dataType': u'smallint', u'summary': u'', u'remarks': u'', u'size': 2, u'class': u'', u'unit': u'', u'quantity': u''}, {u'name': u'i', u'dataType': u'real', u'summary': u'', u'remarks': u'', u'size': 4, u'class': u'', u'unit': u'', u'quantity': u''}]}, {u'name': u'webuser.myTablecdcc', u'summary': u'', u'example': u'', u'remarks': u'', u'class': u'', u'columns': [{u'name': u'Column2', u'dataType': u'float', u'summary': u'', u'remarks': u'', u'size': 8, u'class': u'', u'unit': u'', u'quantity': u''}, {u'name': u'ID', u'dataType': u'bigint', u'summary': u'', u'remarks': u'', u'size': 8, u'class': u'', u'unit': u'', u'quantity': u''}, {u'name': u'Column1', u'dataType': u'float', u'summary': u'', u'remarks': u'', u'size': 8, u'class': u'', u'unit': u'', u'quantity': u''}]}, {u'name': u'webuser.myTablez2', u'summary': u'', u'example': u'', u'remarks': u'', u'class': u'', u'columns': [{u'name': u'ID', u'dataType': u'bigint', u'summary': u'', u'remarks': u'', u'size': 8, u'class': u'', u'unit': u'', u'quantity': u''}, {u'name': u'Column1,Column2', u'dataType': u'nvarchar(7)', u'summary': u'', u'remarks': u'', u'size': 2, u'class': u'', u'unit': u'', u'quantity': u''}]}, {u'name': u'webuser.MyCsvTable3', u'summary': u'', u'example': u'', u'remarks': u'', u'class': u'', u'columns': [{u'name': u'a', u'dataType': u'tinyint', u'summary': u'', u'remarks': u'', u'size': 1, u'class': u'', u'unit': u'', u'quantity': u''}, {u'name': u'v', u'dataType': u'tinyint', u'summary': u'', u'remarks': u'', u'size': 1, u'class': u'', u'unit': u'', u'quantity': u''}]}, {u'name': u'webuser.NewTableFromDataFrame2', u'summary': u'', u'example': u'', u'remarks': u'', u'class': u'', u'columns': [{u'name': u'specobjid', u'dataType': u'bigint', u'summary': u'', u'remarks': u'', u'size': 8, u'class': u'', u'unit': u'', u'quantity': u''}, {u'name': u'ra', u'dataType': u'real', u'summary': u'', u'remarks': u'', u'size': 4, u'class': u'', u'unit': u'', u'quantity': u''}, {u'name': u'dec', u'dataType': u'real', u'summary': u'', u'remarks': u'', u'size': 4, u'class': u'', u'unit': u'', u'quantity': u''}]}, {u'name': u'webuser.MyTable_1', u'summary': u'', u'example': u'', u'remarks': u'', u'class': u'', u'columns': [{u'name': u'fiberid', u'dataType': u'smallint', u'summary': u'', u'remarks': u'', u'size': 2, u'class': u'', u'unit': u'', u'quantity': u''}, {u'name': u'redshift', u'dataType': u'real', u'summary': u'', u'remarks': u'', u'size': 4, u'class': u'', u'unit': u'', u'quantity': u''}, {u'name': u'run', u'dataType': u'smallint', u'summary': u'', u'remarks': u'', u'size': 2, u'class': u'', u'unit': u'', u'quantity': u''}, {u'name': u'u', u'dataType': u'real', u'summary': u'', u'remarks': u'', u'size': 4, u'class': u'', u'unit': u'', u'quantity': u''}, {u'name': u'camcol', u'dataType': u'tinyint', u'summary': u'', u'remarks': u'', u'size': 1, u'class': u'', u'unit': u'', u'quantity': u''}, {u'name': u'specobjid', u'dataType': u'bigint', u'summary': u'', u'remarks': u'', u'size': 8, u'class': u'', u'unit': u'', u'quantity': u''}, {u'name': u'rerun', u'dataType': u'smallint', u'summary': u'', u'remarks': u'', u'size': 2, u'class': u'', u'unit': u'', u'quantity': u''}, {u'name': u'class', u'dataType': u'varchar(32)', u'summary': u'', u'remarks': u'', u'size': 1, u'class': u'', u'unit': u'', u'quantity': u''}, {u'name': u'ra', u'dataType': u'float', u'summary': u'', u'remarks': u'', u'size': 8, u'class': u'', u'unit': u'', u'quantity': u''}, {u'name': u'z', u'dataType': u'real', u'summary': u'', u'remarks': u'', u'size': 4, u'class': u'', u'unit': u'', u'quantity': u''}, {u'name': u'g', u'dataType': u'real', u'summary': u'', u'remarks': u'', u'size': 4, u'class': u'', u'unit': u'', u'quantity': u''}, {u'name': u'objid', u'dataType': u'bigint', u'summary': u'', u'remarks': u'', u'size': 8, u'class': u'', u'unit': u'', u'quantity': u''}, {u'name': u'field', u'dataType': u'smallint', u'summary': u'', u'remarks': u'', u'size': 2, u'class': u'', u'unit': u'', u'quantity': u''}, {u'name': u'dec', u'dataType': u'float', u'summary': u'', u'remarks': u'', u'size': 8, u'class': u'', u'unit': u'', u'quantity': u''}, {u'name': u'mjd', u'dataType': u'int', u'summary': u'', u'remarks': u'', u'size': 4, u'class': u'', u'unit': u'', u'quantity': u''}, {u'name': u'r', u'dataType': u'real', u'summary': u'', u'remarks': u'', u'size': 4, u'class': u'', u'unit': u'', u'quantity': u''}, {u'name': u'plate', u'dataType': u'smallint', u'summary': u'', u'remarks': u'', u'size': 2, u'class': u'', u'unit': u'', u'quantity': u''}, {u'name': u'i', u'dataType': u'real', u'summary': u'', u'remarks': u'', u'size': 4, u'class': u'', u'unit': u'', u'quantity': u''}]}, {u'name': u'webuser.myTable2', u'summary': u'', u'example': u'', u'remarks': u'', u'class': u'', u'columns': [{u'name': u'ID', u'dataType': u'bigint', u'summary': u'', u'remarks': u'', u'size': 8, u'class': u'', u'unit': u'', u'quantity': u''}, {u'name': u'Column1,Column2', u'dataType': u'datetime2', u'summary': u'', u'remarks': u'', u'size': 8, u'class': u'', u'unit': u'', u'quantity': u''}]}, {u'name': u'webuser.myTable21', u'summary': u'', u'example': u'', u'remarks': u'', u'class': u'', u'columns': [{u'name': u'ID', u'dataType': u'bigint', u'summary': u'', u'remarks': u'', u'size': 8, u'class': u'', u'unit': u'', u'quantity': u''}, {u'name': u'Column1,Column2', u'dataType': u'nvarchar(7)', u'summary': u'', u'remarks': u'', u'size': 2, u'class': u'', u'unit': u'', u'quantity': u''}]}, {u'name': u'webuser.crossid', u'summary': u'', u'example': u'', u'remarks': u'', u'class': u'', u'columns': [{u'name': u'modelMag_g', u'dataType': u'real', u'summary': u'', u'remarks': u'', u'size': 4, u'class': u'', u'unit': u'', u'quantity': u''}, {u'name': u'run', u'dataType': u'smallint', u'summary': u'', u'remarks': u'', u'size': 2, u'class': u'', u'unit': u'', u'quantity': u''}, {u'name': u'modelMag_z', u'dataType': u'real', u'summary': u'', u'remarks': u'', u'size': 4, u'class': u'', u'unit': u'', u'quantity': u''}, {u'name': u'camcol', u'dataType': u'tinyint', u'summary': u'', u'remarks': u'', u'size': 1, u'class': u'', u'unit': u'', u'quantity': u''}, {u'name': u'type', u'dataType': u'varchar(max)', u'summary': u'', u'remarks': u'', u'size': 1, u'class': u'', u'unit': u'', u'quantity': u''}, {u'name': u'objID1', u'dataType': u'bigint', u'summary': u'', u'remarks': u'', u'size': 8, u'class': u'', u'unit': u'', u'quantity': u''}, {u'name': u'modelMag_u', u'dataType': u'real', u'summary': u'', u'remarks': u'', u'size': 4, u'class': u'', u'unit': u'', u'quantity': u''}, {u'name': u'modelMag_r', u'dataType': u'real', u'summary': u'', u'remarks': u'', u'size': 4, u'class': u'', u'unit': u'', u'quantity': u''}, {u'name': u'rerun', u'dataType': u'smallint', u'summary': u'', u'remarks': u'', u'size': 2, u'class': u'', u'unit': u'', u'quantity': u''}, {u'name': u'ra', u'dataType': u'real', u'summary': u'', u'remarks': u'', u'size': 4, u'class': u'', u'unit': u'', u'quantity': u''}, {u'name': u'objid', u'dataType': u'bigint', u'summary': u'', u'remarks': u'', u'size': 8, u'class': u'', u'unit': u'', u'quantity': u''}, {u'name': u'field', u'dataType': u'tinyint', u'summary': u'', u'remarks': u'', u'size': 1, u'class': u'', u'unit': u'', u'quantity': u''}, {u'name': u'dec', u'dataType': u'real', u'summary': u'', u'remarks': u'', u'size': 4, u'class': u'', u'unit': u'', u'quantity': u''}, {u'name': u'modelMag_i', u'dataType': u'real', u'summary': u'', u'remarks': u'', u'size': 4, u'class': u'', u'unit': u'', u'quantity': u''}]}, {u'name': u'webuser.Table_20160809_090936_735', u'summary': u'', u'example': u'', u'remarks': u'', u'class': u'', u'columns': [{u'name': u'fe2', u'dataType': u'bit', u'summary': u'', u'remarks': u'', u'size': 1, u'class': u'', u'unit': u'', u'quantity': u''}, {u'name': u'dd2', u'dataType': u'varchar(max)', u'summary': u'', u'remarks': u'', u'size': 1, u'class': u'', u'unit': u'', u'quantity': u''}, {u'name': u'dd', u'dataType': u'bit', u'summary': u'', u'remarks': u'', u'size': 1, u'class': u'', u'unit': u'', u'quantity': u''}]}, {u'name': u'webuser.myTablez247', u'summary': u'', u'example': u'', u'remarks': u'', u'class': u'', u'columns': [{u'name': u'ID', u'dataType': u'bigint', u'summary': u'', u'remarks': u'', u'size': 8, u'class': u'', u'unit': u'', u'quantity': u''}, {u'name': u'col1', u'dataType': u'float', u'summary': u'', u'remarks': u'', u'size': 8, u'class': u'', u'unit': u'', u'quantity': u''}, {u'name': u'col2', u'dataType': u'float', u'summary': u'', u'remarks': u'', u'size': 8, u'class': u'', u'unit': u'', u'quantity': u''}]}, {u'name': u'webuser.dw1', u'summary': u'', u'example': u'', u'remarks': u'', u'class': u'', u'columns': [{u'name': u'foo', u'dataType': u'int', u'summary': u'', u'remarks': u'', u'size': 4, u'class': u'', u'unit': u'', u'quantity': u''}]}, {u'name': u'webuser.TestTableSciScriptR2', u'summary': u'', u'example': u'', u'remarks': u'', u'class': u'', u'columns': [{u'name': u'Column2', u'dataType': u'float', u'summary': u'', u'remarks': u'', u'size': 8, u'class': u'', u'unit': u'', u'quantity': u''}, {u'name': u'ID', u'dataType': u'bigint', u'summary': u'', u'remarks': u'', u'size': 8, u'class': u'', u'unit': u'', u'quantity': u''}, {u'name': u'Column1', u'dataType': u'float', u'summary': u'', u'remarks': u'', u'size': 8, u'class': u'', u'unit': u'', u'quantity': u''}]}, {u'name': u'webuser.Results_5', u'summary': u'', u'example': u'', u'remarks': u'', u'class': u'', u'columns': [{u'name': u'Column2', u'dataType': u'decimal', u'summary': u'', u'remarks': u'', u'size': 16, u'class': u'', u'unit': u'', u'quantity': u''}, {u'name': u'Column1', u'dataType': u'decimal', u'summary': u'', u'remarks': u'', u'size': 16, u'class': u'', u'unit': u'', u'quantity': u''}]}, {u'name': u'webuser.testTable3', u'summary': u'', u'example': u'', u'remarks': u'', u'class': u'', u'columns': [{u'name': u'Column2', u'dataType': u'tinyint', u'summary': u'', u'remarks': u'', u'size': 1, u'class': u'', u'unit': u'', u'quantity': u''}]}, {u'name': u'webuser.sdssObjects', u'summary': u'', u'example': u'', u'remarks': u'', u'class': u'', u'columns': [{u'name': u'fiberid', u'dataType': u'smallint', u'summary': u'', u'remarks': u'', u'size': 2, u'class': u'', u'unit': u'', u'quantity': u''}, {u'name': u'redshift', u'dataType': u'real', u'summary': u'', u'remarks': u'', u'size': 4, u'class': u'', u'unit': u'', u'quantity': u''}, {u'name': u'run', u'dataType': u'tinyint', u'summary': u'', u'remarks': u'', u'size': 1, u'class': u'', u'unit': u'', u'quantity': u''}, {u'name': u'u', u'dataType': u'real', u'summary': u'', u'remarks': u'', u'size': 4, u'class': u'', u'unit': u'', u'quantity': u''}, {u'name': u'camcol', u'dataType': u'tinyint', u'summary': u'', u'remarks': u'', u'size': 1, u'class': u'', u'unit': u'', u'quantity': u''}, {u'name': u'specobjid', u'dataType': u'bigint', u'summary': u'', u'remarks': u'', u'size': 8, u'class': u'', u'unit': u'', u'quantity': u''}, {u'name': u'rerun', u'dataType': u'smallint', u'summary': u'', u'remarks': u'', u'size': 2, u'class': u'', u'unit': u'', u'quantity': u''}, {u'name': u'class', u'dataType': u'varchar(max)', u'summary': u'', u'remarks': u'', u'size': 1, u'class': u'', u'unit': u'', u'quantity': u''}, {u'name': u'ra', u'dataType': u'real', u'summary': u'', u'remarks': u'', u'size': 4, u'class': u'', u'unit': u'', u'quantity': u''}, {u'name': u'z', u'dataType': u'real', u'summary': u'', u'remarks': u'', u'size': 4, u'class': u'', u'unit': u'', u'quantity': u''}, {u'name': u'g', u'dataType': u'real', u'summary': u'', u'remarks': u'', u'size': 4, u'class': u'', u'unit': u'', u'quantity': u''}, {u'name': u'objid', u'dataType': u'bigint', u'summary': u'', u'remarks': u'', u'size': 8, u'class': u'', u'unit': u'', u'quantity': u''}, {u'name': u'field', u'dataType': u'smallint', u'summary': u'', u'remarks': u'', u'size': 2, u'class': u'', u'unit': u'', u'quantity': u''}, {u'name': u'dec', u'dataType': u'real', u'summary': u'', u'remarks': u'', u'size': 4, u'class': u'', u'unit': u'', u'quantity': u''}, {u'name': u'mjd', u'dataType': u'int', u'summary': u'', u'remarks': u'', u'size': 4, u'class': u'', u'unit': u'', u'quantity': u''}, {u'name': u'r', u'dataType': u'real', u'summary': u'', u'remarks': u'', u'size': 4, u'class': u'', u'unit': u'', u'quantity': u''}, {u'name': u'plate', u'dataType': u'smallint', u'summary': u'', u'remarks': u'', u'size': 2, u'class': u'', u'unit': u'', u'quantity': u''}, {u'name': u'i', u'dataType': u'real', u'summary': u'', u'remarks': u'', u'size': 4, u'class': u'', u'unit': u'', u'quantity': u''}]}, {u'name': u'webuser.Table_20160805_175010_984', u'summary': u'', u'example': u'', u'remarks': u'', u'class': u'', u'columns': [{u'name': u'ra', u'dataType': u'real', u'summary': u'', u'remarks': u'', u'size': 4, u'class': u'', u'unit': u'', u'quantity': u''}, {u'name': u'dec', u'dataType': u'real', u'summary': u'', u'remarks': u'', u'size': 4, u'class': u'', u'unit': u'', u'quantity': u''}]}, {u'name': u'webuser.myTable21ZA', u'summary': u'', u'example': u'', u'remarks': u'', u'class': u'', u'columns': [{u'name': u'Column2', u'dataType': u'float', u'summary': u'', u'remarks': u'', u'size': 8, u'class': u'', u'unit': u'', u'quantity': u''}, {u'name': u'ID', u'dataType': u'bigint', u'summary': u'', u'remarks': u'', u'size': 8, u'class': u'', u'unit': u'', u'quantity': u''}, {u'name': u'Column1', u'dataType': u'float', u'summary': u'', u'remarks': u'', u'size': 8, u'class': u'', u'unit': u'', u'quantity': u''}]}, {u'name': u'webuser.myTablez245', u'summary': u'', u'example': u'', u'remarks': u'', u'class': u'', u'columns': [{u'name': u'ID', u'dataType': u'bigint', u'summary': u'', u'remarks': u'', u'size': 8, u'class': u'', u'unit': u'', u'quantity': u''}, {u'name': u'Column1,Column2', u'dataType': u'nvarchar(7)', u'summary': u'', u'remarks': u'', u'size': 2, u'class': u'', u'unit': u'', u'quantity': u''}]}, {u'name': u'webuser.NewTableFromDataFrame256', u'summary': u'', u'example': u'', u'remarks': u'', u'class': u'', u'columns': [{u'name': u'Column2', u'dataType': u'tinyint', u'summary': u'', u'remarks': u'', u'size': 1, u'class': u'', u'unit': u'', u'quantity': u''}, {u'name': u'Column1', u'dataType': u'bit', u'summary': u'', u'remarks': u'', u'size': 1, u'class': u'', u'unit': u'', u'quantity': u''}]}, {u'name': u'webuser.myTabledsdd', u'summary': u'', u'example': u'', u'remarks': u'', u'class': u'', u'columns': [{u'name': u'Column2', u'dataType': u'float', u'summary': u'', u'remarks': u'', u'size': 8, u'class': u'', u'unit': u'', u'quantity': u''}, {u'name': u'ID', u'dataType': u'bigint', u'summary': u'', u'remarks': u'', u'size': 8, u'class': u'', u'unit': u'', u'quantity': u''}, {u'name': u'Column1', u'dataType': u'float', u'summary': u'', u'remarks': u'', u'size': 8, u'class': u'', u'unit': u'', u'quantity': u''}]}, {u'name': u'webuser.myTestTable', u'summary': u'', u'example': u'', u'remarks': u'', u'class': u'', u'columns': [{u'name': u'Column2', u'dataType': u'int', u'summary': u'', u'remarks': u'', u'size': 4, u'class': u'', u'unit': u'', u'quantity': u''}, {u'name': u'Column1', u'dataType': u'int', u'summary': u'', u'remarks': u'', u'size': 4, u'class': u'', u'unit': u'', u'quantity': u''}]}, {u'name': u'webuser.testTable1', u'summary': u'', u'example': u'', u'remarks': u'', u'class': u'', u'columns': [{u'name': u'Column2', u'dataType': u'tinyint', u'summary': u'', u'remarks': u'', u'size': 1, u'class': u'', u'unit': u'', u'quantity': u''}, {u'name': u'Column1', u'dataType': u'tinyint', u'summary': u'', u'remarks': u'', u'size': 1, u'class': u'', u'unit': u'', u'quantity': u''}]}, {u'name': u'webuser.mmj2', u'summary': u'', u'example': u'', u'remarks': u'', u'class': u'', u'columns': [{u'name': u'ff', u'dataType': u'int', u'summary': u'', u'remarks': u'', u'size': 4, u'class': u'', u'unit': u'', u'quantity': u''}]}, {u'name': u'webuser.MyTB', u'summary': u'', u'example': u'', u'remarks': u'', u'class': u'', u'columns': [{u'name': u'1', u'dataType': u'datetime', u'summary': u'', u'remarks': u'', u'size': 8, u'class': u'', u'unit': u'', u'quantity': u''}, {u'name': u'2', u'dataType': u'datetime', u'summary': u'', u'remarks': u'', u'size': 8, u'class': u'', u'unit': u'', u'quantity': u''}]}, {u'name': u'webuser.myTablez3', u'summary': u'', u'example': u'', u'remarks': u'', u'class': u'', u'columns': [{u'name': u'ID', u'dataType': u'bigint', u'summary': u'', u'remarks': u'', u'size': 8, u'class': u'', u'unit': u'', u'quantity': u''}, {u'name': u'Column1,Column2', u'dataType': u'nvarchar(7)', u'summary': u'', u'remarks': u'', u'size': 2, u'class': u'', u'unit': u'', u'quantity': u''}]}]\n"
     ]
    }
   ],
   "source": [
    "#list tables inside dataset\n",
    "\n",
    "tables = SkyQuery.listDatasetTables(\"MyDB\")\n",
    "print(tables)"
   ]
  },
  {
   "cell_type": "code",
   "execution_count": 59,
   "metadata": {
    "collapsed": false
   },
   "outputs": [
    {
     "name": "stdout",
     "output_type": "stream",
     "text": [
      "[{u'pendingJobCount': 0, u'name': u'Quick'}, {u'pendingJobCount': 0, u'name': u'Maintenance'}, {u'pendingJobCount': 0, u'name': u'Long'}]\n"
     ]
    }
   ],
   "source": [
    "#list available job queues\n",
    "\n",
    "queueList = SkyQuery.listQueues()\n",
    "print(queueList)\n"
   ]
  },
  {
   "cell_type": "code",
   "execution_count": 60,
   "metadata": {
    "collapsed": false
   },
   "outputs": [
    {
     "name": "stdout",
     "output_type": "stream",
     "text": [
      "{u'pendingJobCount': 0, u'name': u'Quick'}\n",
      "{u'pendingJobCount': 0, u'name': u'Long'}\n"
     ]
    }
   ],
   "source": [
    "#list available job queues and related info\n",
    "\n",
    "quick = SkyQuery.getQueueInfo('quick')\n",
    "long= SkyQuery.getQueueInfo('long')\n",
    "print(quick)\n",
    "print(long)"
   ]
  },
  {
   "cell_type": "code",
   "execution_count": 61,
   "metadata": {
    "collapsed": true
   },
   "outputs": [],
   "source": [
    "#Define query\n",
    "\n",
    "SkyQuery_Query = \"select 4.5 as Column1, 5.5 as Column2\""
   ]
  },
  {
   "cell_type": "code",
   "execution_count": 62,
   "metadata": {
    "collapsed": false
   },
   "outputs": [
    {
     "name": "stdout",
     "output_type": "stream",
     "text": [
      "62e8797c-76b3-4c26-aa63-954ffa846525\n"
     ]
    }
   ],
   "source": [
    "#submit a query as a job\n",
    "\n",
    "jobId = SkyQuery.submitJob(query=SkyQuery_Query, queue=\"quick\")\n",
    "print(jobId)"
   ]
  },
  {
   "cell_type": "code",
   "execution_count": 63,
   "metadata": {
    "collapsed": false
   },
   "outputs": [
    {
     "name": "stdout",
     "output_type": "stream",
     "text": [
      "{u'status': u'waiting', u'hasError': False, u'name': u'manu9_17032218181462044', u'comments': u'', u'dateCreated': u'2017-03-22T18:18:14', u'queue': u'quick', u'query': u'select 4.5 as Column1, 5.5 as Column2', u'canCancel': True, u'guid': u'c837f9ec-3190-4e98-bd14-30fb7fc3f1f7'}\n"
     ]
    }
   ],
   "source": [
    "#get status of a submitted job\n",
    "\n",
    "jobId = SkyQuery.submitJob(query=SkyQuery_Query, queue=\"quick\")\n",
    "jobDescription = SkyQuery.getJobStatus(jobId=jobId)\n",
    "print(jobDescription)"
   ]
  },
  {
   "cell_type": "code",
   "execution_count": 64,
   "metadata": {
    "collapsed": false
   },
   "outputs": [
    {
     "name": "stdout",
     "output_type": "stream",
     "text": [
      "Waiting... Waiting... Waiting... Waiting... Waiting... Done!\n",
      "jobDescription=\n",
      "{u'status': u'completed', u'hasError': False, u'name': u'manu9_17032218181476973', u'comments': u'', u'dateCreated': u'2017-03-22T18:18:14', u'queue': u'quick', u'query': u'select 4.5 as Column1, 5.5 as Column2', u'output': u'MYDB:webuser.QuickResults', u'dateStarted': u'2017-03-22T18:18:18', u'canCancel': False, u'dateFinished': u'2017-03-22T18:18:20', u'guid': u'09912741-c385-4e3e-87f9-5203d69cce95'}\n"
     ]
    }
   ],
   "source": [
    "# wait for a job to be finished and then get the status\n",
    "\n",
    "jobId = SkyQuery.submitJob(query=SkyQuery_Query, queue=\"quick\")\n",
    "jobDescription = SkyQuery.waitForJob(jobId=jobId, verbose=True)\n",
    "print(\"jobDescription=\")\n",
    "print(jobDescription)"
   ]
  },
  {
   "cell_type": "code",
   "execution_count": 65,
   "metadata": {
    "collapsed": false
   },
   "outputs": [
    {
     "name": "stdout",
     "output_type": "stream",
     "text": [
      "True\n",
      "job status:\n",
      "{u'status': u'canceled', u'hasError': False, u'name': u'manu9_17032218182098074', u'comments': u'', u'dateCreated': u'2017-03-22T18:18:20', u'queue': u'long', u'query': u'select 4.5 as Column1, 5.5 as Column2', u'canCancel': False, u'dateFinished': u'2017-03-22T18:18:21', u'guid': u'd3868d39-7f29-4610-b6f9-69f39b4dca5f'}\n"
     ]
    }
   ],
   "source": [
    "# cancel a job that is running, and then get its status\n",
    "\n",
    "jobId = SkyQuery.submitJob(query=SkyQuery_Query, queue=\"long\")\n",
    "isCanceled = SkyQuery.cancelJob(jobId)\n",
    "print(isCanceled)\n",
    "print(\"job status:\")\n",
    "print(SkyQuery.getJobStatus(jobId=jobId))"
   ]
  },
  {
   "cell_type": "code",
   "execution_count": 66,
   "metadata": {
    "collapsed": true
   },
   "outputs": [],
   "source": [
    "#define csv table to be uploaded to into MyDB in SkyQuery\n",
    "\n",
    "SkyQuery_TestTableName = \"TestTable_SciScript_R\"\n",
    "SkyQuery_TestTableCSV = u\"Column1,Column2\\n4.5,5.5\\n\""
   ]
  },
  {
   "cell_type": "code",
   "execution_count": 67,
   "metadata": {
    "collapsed": false
   },
   "outputs": [
    {
     "name": "stdout",
     "output_type": "stream",
     "text": [
      "True\n"
     ]
    }
   ],
   "source": [
    "#uploading the csv table:\n",
    "\n",
    "result = SkyQuery.uploadTable(uploadData=SkyQuery_TestTableCSV, tableName=SkyQuery_TestTableName, datasetName=\"MyDB\", format=\"csv\")\n",
    "print(result)"
   ]
  },
  {
   "cell_type": "code",
   "execution_count": 68,
   "metadata": {
    "collapsed": false
   },
   "outputs": [
    {
     "name": "stdout",
     "output_type": "stream",
     "text": [
      "   #ID  Column1  Column2\n",
      "0    1      4.5      5.5\n"
     ]
    }
   ],
   "source": [
    "#downloading table:\n",
    "\n",
    "table = SkyQuery.getTable(tableName=SkyQuery_TestTableName, datasetName=\"MyDB\", top=10)\n",
    "print(table)"
   ]
  },
  {
   "cell_type": "code",
   "execution_count": 69,
   "metadata": {
    "collapsed": false
   },
   "outputs": [
    {
     "name": "stdout",
     "output_type": "stream",
     "text": [
      "[{u'name': u'webuser.qsded', u'summary': u'', u'example': u'', u'remarks': u'', u'class': u'', u'columns': [{u'name': u'type', u'dataType': u'tinyint', u'summary': u'', u'remarks': u'', u'size': 1, u'class': u'', u'unit': u'', u'quantity': u''}, {u'name': u'Err_u', u'dataType': u'real', u'summary': u'', u'remarks': u'', u'size': 4, u'class': u'', u'unit': u'', u'quantity': u''}, {u'name': u'dec', u'dataType': u'real', u'summary': u'', u'remarks': u'', u'size': 4, u'class': u'', u'unit': u'', u'quantity': u''}, {u'name': u'r', u'dataType': u'real', u'summary': u'', u'remarks': u'', u'size': 4, u'class': u'', u'unit': u'', u'quantity': u''}, {u'name': u'ra', u'dataType': u'real', u'summary': u'', u'remarks': u'', u'size': 4, u'class': u'', u'unit': u'', u'quantity': u''}, {u'name': u'i', u'dataType': u'real', u'summary': u'', u'remarks': u'', u'size': 4, u'class': u'', u'unit': u'', u'quantity': u''}, {u'name': u'objid', u'dataType': u'bigint', u'summary': u'', u'remarks': u'', u'size': 8, u'class': u'', u'unit': u'', u'quantity': u''}, {u'name': u'u', u'dataType': u'real', u'summary': u'', u'remarks': u'', u'size': 4, u'class': u'', u'unit': u'', u'quantity': u''}, {u'name': u'z', u'dataType': u'real', u'summary': u'', u'remarks': u'', u'size': 4, u'class': u'', u'unit': u'', u'quantity': u''}, {u'name': u'Err_z', u'dataType': u'real', u'summary': u'', u'remarks': u'', u'size': 4, u'class': u'', u'unit': u'', u'quantity': u''}, {u'name': u'obj', u'dataType': u'smallint', u'summary': u'', u'remarks': u'', u'size': 2, u'class': u'', u'unit': u'', u'quantity': u''}, {u'name': u'rerun', u'dataType': u'smallint', u'summary': u'', u'remarks': u'', u'size': 2, u'class': u'', u'unit': u'', u'quantity': u''}, {u'name': u'Err_r', u'dataType': u'real', u'summary': u'', u'remarks': u'', u'size': 4, u'class': u'', u'unit': u'', u'quantity': u''}, {u'name': u'field', u'dataType': u'tinyint', u'summary': u'', u'remarks': u'', u'size': 1, u'class': u'', u'unit': u'', u'quantity': u''}, {u'name': u'camcol', u'dataType': u'tinyint', u'summary': u'', u'remarks': u'', u'size': 1, u'class': u'', u'unit': u'', u'quantity': u''}, {u'name': u'run', u'dataType': u'smallint', u'summary': u'', u'remarks': u'', u'size': 2, u'class': u'', u'unit': u'', u'quantity': u''}, {u'name': u'Err_g', u'dataType': u'real', u'summary': u'', u'remarks': u'', u'size': 4, u'class': u'', u'unit': u'', u'quantity': u''}, {u'name': u'Err_i', u'dataType': u'real', u'summary': u'', u'remarks': u'', u'size': 4, u'class': u'', u'unit': u'', u'quantity': u''}, {u'name': u'g', u'dataType': u'real', u'summary': u'', u'remarks': u'', u'size': 4, u'class': u'', u'unit': u'', u'quantity': u''}]}, {u'name': u'webuser.myTablez246', u'summary': u'', u'example': u'', u'remarks': u'', u'class': u'', u'columns': [{u'name': u'ID', u'dataType': u'bigint', u'summary': u'', u'remarks': u'', u'size': 8, u'class': u'', u'unit': u'', u'quantity': u''}, {u'name': u'col1,col2', u'dataType': u'nvarchar(7)', u'summary': u'', u'remarks': u'', u'size': 2, u'class': u'', u'unit': u'', u'quantity': u''}]}, {u'name': u'webuser.Results_4', u'summary': u'', u'example': u'', u'remarks': u'', u'class': u'', u'columns': [{u'name': u'Column2', u'dataType': u'decimal', u'summary': u'', u'remarks': u'', u'size': 16, u'class': u'', u'unit': u'', u'quantity': u''}, {u'name': u'Column1', u'dataType': u'decimal', u'summary': u'', u'remarks': u'', u'size': 16, u'class': u'', u'unit': u'', u'quantity': u''}]}, {u'name': u'webuser.myTable21ZZ', u'summary': u'', u'example': u'', u'remarks': u'', u'class': u'', u'columns': [{u'name': u'ID', u'dataType': u'bigint', u'summary': u'', u'remarks': u'', u'size': 8, u'class': u'', u'unit': u'', u'quantity': u''}, {u'name': u'Column1,Column2', u'dataType': u'nvarchar(7)', u'summary': u'', u'remarks': u'', u'size': 2, u'class': u'', u'unit': u'', u'quantity': u''}]}, {u'name': u'webuser.NewTableFromDataFrame', u'summary': u'', u'example': u'', u'remarks': u'', u'class': u'', u'columns': [{u'name': u'foo', u'dataType': u'bit', u'summary': u'', u'remarks': u'', u'size': 1, u'class': u'', u'unit': u'', u'quantity': u''}]}, {u'name': u'webuser.Table_20160805_174712_079', u'summary': u'', u'example': u'', u'remarks': u'', u'class': u'', u'columns': [{u'name': u'spectroSynFlux_g', u'dataType': u'real', u'summary': u'', u'remarks': u'', u'size': 4, u'class': u'', u'unit': u'', u'quantity': u''}, {u'name': u'fracNSigLo_2', u'dataType': u'real', u'summary': u'', u'remarks': u'', u'size': 4, u'class': u'', u'unit': u'', u'quantity': u''}, {u'name': u'spectroSkyFlux_u', u'dataType': u'real', u'summary': u'', u'remarks': u'', u'size': 4, u'class': u'', u'unit': u'', u'quantity': u''}, {u'name': u'spectroSynFluxIvar_i', u'dataType': u'real', u'summary': u'', u'remarks': u'', u'size': 4, u'class': u'', u'unit': u'', u'quantity': u''}, {u'name': u'yFocal', u'dataType': u'real', u'summary': u'', u'remarks': u'', u'size': 4, u'class': u'', u'unit': u'', u'quantity': u''}, {u'name': u'class', u'dataType': u'varchar(max)', u'summary': u'', u'remarks': u'', u'size': 1, u'class': u'', u'unit': u'', u'quantity': u''}, {u'name': u'firstRelease', u'dataType': u'varchar(max)', u'summary': u'', u'remarks': u'', u'size': 1, u'class': u'', u'unit': u'', u'quantity': u''}, {u'name': u'spectroFluxIvar_r', u'dataType': u'real', u'summary': u'', u'remarks': u'', u'size': 4, u'class': u'', u'unit': u'', u'quantity': u''}, {u'name': u'fracNSigLo_1', u'dataType': u'real', u'summary': u'', u'remarks': u'', u'size': 4, u'class': u'', u'unit': u'', u'quantity': u''}, {u'name': u'spectroFlux_g', u'dataType': u'real', u'summary': u'', u'remarks': u'', u'size': 4, u'class': u'', u'unit': u'', u'quantity': u''}, {u'name': u'tColumn_1', u'dataType': u'bit', u'summary': u'', u'remarks': u'', u'size': 1, u'class': u'', u'unit': u'', u'quantity': u''}, {u'name': u'fracNSigHi_5', u'dataType': u'real', u'summary': u'', u'remarks': u'', u'size': 4, u'class': u'', u'unit': u'', u'quantity': u''}, {u'name': u'theta_1', u'dataType': u'real', u'summary': u'', u'remarks': u'', u'size': 4, u'class': u'', u'unit': u'', u'quantity': u''}, {u'name': u'theta_0', u'dataType': u'real', u'summary': u'', u'remarks': u'', u'size': 4, u'class': u'', u'unit': u'', u'quantity': u''}, {u'name': u'special_target1', u'dataType': u'bit', u'summary': u'', u'remarks': u'', u'size': 1, u'class': u'', u'unit': u'', u'quantity': u''}, {u'name': u'z', u'dataType': u'real', u'summary': u'', u'remarks': u'', u'size': 4, u'class': u'', u'unit': u'', u'quantity': u''}, {u'name': u'spectroSynFluxIvar_r', u'dataType': u'real', u'summary': u'', u'remarks': u'', u'size': 4, u'class': u'', u'unit': u'', u'quantity': u''}, {u'name': u'segue2_target2', u'dataType': u'bit', u'summary': u'', u'remarks': u'', u'size': 1, u'class': u'', u'unit': u'', u'quantity': u''}, {u'name': u'waveMin', u'dataType': u'real', u'summary': u'', u'remarks': u'', u'size': 4, u'class': u'', u'unit': u'', u'quantity': u''}, {u'name': u'DOF', u'dataType': u'smallint', u'summary': u'', u'remarks': u'', u'size': 2, u'class': u'', u'unit': u'', u'quantity': u''}, {u'name': u'targetType', u'dataType': u'varchar(max)', u'summary': u'', u'remarks': u'', u'size': 1, u'class': u'', u'unit': u'', u'quantity': u''}, {u'name': u'snMedian', u'dataType': u'real', u'summary': u'', u'remarks': u'', u'size': 4, u'class': u'', u'unit': u'', u'quantity': u''}, {u'name': u'fracNSigma_8', u'dataType': u'real', u'summary': u'', u'remarks': u'', u'size': 4, u'class': u'', u'unit': u'', u'quantity': u''}, {u'name': u'elodieBV', u'dataType': u'bit', u'summary': u'', u'remarks': u'', u'size': 1, u'class': u'', u'unit': u'', u'quantity': u''}, {u'name': u'segue2_target1', u'dataType': u'bit', u'summary': u'', u'remarks': u'', u'size': 1, u'class': u'', u'unit': u'', u'quantity': u''}, {u'name': u'dec', u'dataType': u'real', u'summary': u'', u'remarks': u'', u'size': 4, u'class': u'', u'unit': u'', u'quantity': u''}, {u'name': u'legacy_target2', u'dataType': u'bit', u'summary': u'', u'remarks': u'', u'size': 1, u'class': u'', u'unit': u'', u'quantity': u''}, {u'name': u'snTurnoff', u'dataType': u'smallint', u'summary': u'', u'remarks': u'', u'size': 2, u'class': u'', u'unit': u'', u'quantity': u''}, {u'name': u'fracNSigma_5', u'dataType': u'real', u'summary': u'', u'remarks': u'', u'size': 4, u'class': u'', u'unit': u'', u'quantity': u''}, {u'name': u'instrument', u'dataType': u'varchar(max)', u'summary': u'', u'remarks': u'', u'size': 1, u'class': u'', u'unit': u'', u'quantity': u''}, {u'name': u'cz', u'dataType': u'real', u'summary': u'', u'remarks': u'', u'size': 4, u'class': u'', u'unit': u'', u'quantity': u''}, {u'name': u'tile', u'dataType': u'smallint', u'summary': u'', u'remarks': u'', u'size': 2, u'class': u'', u'unit': u'', u'quantity': u''}, {u'name': u'velDispZErr', u'dataType': u'bit', u'summary': u'', u'remarks': u'', u'size': 1, u'class': u'', u'unit': u'', u'quantity': u''}, {u'name': u'plate', u'dataType': u'smallint', u'summary': u'', u'remarks': u'', u'size': 2, u'class': u'', u'unit': u'', u'quantity': u''}, {u'name': u'sciencePrimary', u'dataType': u'bit', u'summary': u'', u'remarks': u'', u'size': 1, u'class': u'', u'unit': u'', u'quantity': u''}, {u'name': u'spectroSynFlux_r', u'dataType': u'real', u'summary': u'', u'remarks': u'', u'size': 4, u'class': u'', u'unit': u'', u'quantity': u''}, {u'name': u'img', u'dataType': u'varchar(max)', u'summary': u'', u'remarks': u'', u'size': 1, u'class': u'', u'unit': u'', u'quantity': u''}, {u'name': u'fracNSigma_6', u'dataType': u'real', u'summary': u'', u'remarks': u'', u'size': 4, u'class': u'', u'unit': u'', u'quantity': u''}, {u'name': u'tColumn_2', u'dataType': u'tinyint', u'summary': u'', u'remarks': u'', u'size': 1, u'class': u'', u'unit': u'', u'quantity': u''}, {u'name': u'velDispChi2', u'dataType': u'real', u'summary': u'', u'remarks': u'', u'size': 4, u'class': u'', u'unit': u'', u'quantity': u''}, {u'name': u'fracNSigHi_6', u'dataType': u'real', u'summary': u'', u'remarks': u'', u'size': 4, u'class': u'', u'unit': u'', u'quantity': u''}, {u'name': u'special_target2', u'dataType': u'bit', u'summary': u'', u'remarks': u'', u'size': 1, u'class': u'', u'unit': u'', u'quantity': u''}, {u'name': u'fracNSigma_3', u'dataType': u'real', u'summary': u'', u'remarks': u'', u'size': 4, u'class': u'', u'unit': u'', u'quantity': u''}, {u'name': u'chi68p', u'dataType': u'real', u'summary': u'', u'remarks': u'', u'size': 4, u'class': u'', u'unit': u'', u'quantity': u''}, {u'name': u'segue2Primary', u'dataType': u'bit', u'summary': u'', u'remarks': u'', u'size': 1, u'class': u'', u'unit': u'', u'quantity': u''}, {u'name': u'sn1_g', u'dataType': u'real', u'summary': u'', u'remarks': u'', u'size': 4, u'class': u'', u'unit': u'', u'quantity': u''}, {u'name': u'spectroSynFluxIvar_g', u'dataType': u'real', u'summary': u'', u'remarks': u'', u'size': 4, u'class': u'', u'unit': u'', u'quantity': u''}, {u'name': u'spectroSynFlux_u', u'dataType': u'real', u'summary': u'', u'remarks': u'', u'size': 4, u'class': u'', u'unit': u'', u'quantity': u''}, {u'name': u'fracNSigma_9', u'dataType': u'real', u'summary': u'', u'remarks': u'', u'size': 4, u'class': u'', u'unit': u'', u'quantity': u''}, {u'name': u'waveMax', u'dataType': u'real', u'summary': u'', u'remarks': u'', u'size': 4, u'class': u'', u'unit': u'', u'quantity': u''}, {u'name': u'lambdaEff', u'dataType': u'smallint', u'summary': u'', u'remarks': u'', u'size': 2, u'class': u'', u'unit': u'', u'quantity': u''}, {u'name': u'fracNSigHi_8', u'dataType': u'real', u'summary': u'', u'remarks': u'', u'size': 4, u'class': u'', u'unit': u'', u'quantity': u''}, {u'name': u'legacyPrimary', u'dataType': u'bit', u'summary': u'', u'remarks': u'', u'size': 1, u'class': u'', u'unit': u'', u'quantity': u''}, {u'name': u'specObjID', u'dataType': u'bigint', u'summary': u'', u'remarks': u'', u'size': 8, u'class': u'', u'unit': u'', u'quantity': u''}, {u'name': u'fracNSigHi_10', u'dataType': u'bit', u'summary': u'', u'remarks': u'', u'size': 1, u'class': u'', u'unit': u'', u'quantity': u''}, {u'name': u'comments_person', u'dataType': u'bit', u'summary': u'', u'remarks': u'', u'size': 1, u'class': u'', u'unit': u'', u'quantity': u''}, {u'name': u'spectroSynFlux_i', u'dataType': u'real', u'summary': u'', u'remarks': u'', u'size': 4, u'class': u'', u'unit': u'', u'quantity': u''}, {u'name': u'ra', u'dataType': u'real', u'summary': u'', u'remarks': u'', u'size': 4, u'class': u'', u'unit': u'', u'quantity': u''}, {u'name': u'tColumn_5', u'dataType': u'smallint', u'summary': u'', u'remarks': u'', u'size': 2, u'class': u'', u'unit': u'', u'quantity': u''}, {u'name': u'spectroSkyFlux_r', u'dataType': u'real', u'summary': u'', u'remarks': u'', u'size': 4, u'class': u'', u'unit': u'', u'quantity': u''}, {u'name': u'segue1Primary', u'dataType': u'bit', u'summary': u'', u'remarks': u'', u'size': 1, u'class': u'', u'unit': u'', u'quantity': u''}, {u'name': u'spectroFluxIvar_g', u'dataType': u'real', u'summary': u'', u'remarks': u'', u'size': 4, u'class': u'', u'unit': u'', u'quantity': u''}, {u'name': u'survey', u'dataType': u'varchar(max)', u'summary': u'', u'remarks': u'', u'size': 1, u'class': u'', u'unit': u'', u'quantity': u''}, {u'name': u'subClass_noqso', u'dataType': u'varchar(max)', u'summary': u'', u'remarks': u'', u'size': 1, u'class': u'', u'unit': u'', u'quantity': u''}, {u'name': u'spectroFlux_z', u'dataType': u'real', u'summary': u'', u'remarks': u'', u'size': 4, u'class': u'', u'unit': u'', u'quantity': u''}, {u'name': u'nPoly', u'dataType': u'tinyint', u'summary': u'', u'remarks': u'', u'size': 1, u'class': u'', u'unit': u'', u'quantity': u''}, {u'name': u'fracNSigma_7', u'dataType': u'real', u'summary': u'', u'remarks': u'', u'size': 4, u'class': u'', u'unit': u'', u'quantity': u''}, {u'name': u'z_person', u'dataType': u'bit', u'summary': u'', u'remarks': u'', u'size': 1, u'class': u'', u'unit': u'', u'quantity': u''}, {u'name': u'anyAndMask', u'dataType': u'int', u'summary': u'', u'remarks': u'', u'size': 4, u'class': u'', u'unit': u'', u'quantity': u''}, {u'name': u'snMedian_g', u'dataType': u'real', u'summary': u'', u'remarks': u'', u'size': 4, u'class': u'', u'unit': u'', u'quantity': u''}, {u'name': u'targetObjID', u'dataType': u'bigint', u'summary': u'', u'remarks': u'', u'size': 8, u'class': u'', u'unit': u'', u'quantity': u''}, {u'name': u'fluxObjID', u'dataType': u'bigint', u'summary': u'', u'remarks': u'', u'size': 8, u'class': u'', u'unit': u'', u'quantity': u''}, {u'name': u'fracNSigHi_4', u'dataType': u'real', u'summary': u'', u'remarks': u'', u'size': 4, u'class': u'', u'unit': u'', u'quantity': u''}, {u'name': u'zOffset', u'dataType': u'tinyint', u'summary': u'', u'remarks': u'', u'size': 1, u'class': u'', u'unit': u'', u'quantity': u''}, {u'name': u'spectroFlux_r', u'dataType': u'real', u'summary': u'', u'remarks': u'', u'size': 4, u'class': u'', u'unit': u'', u'quantity': u''}, {u'name': u'eboss_target0', u'dataType': u'bit', u'summary': u'', u'remarks': u'', u'size': 1, u'class': u'', u'unit': u'', u'quantity': u''}, {u'name': u'velDispDOF', u'dataType': u'smallint', u'summary': u'', u'remarks': u'', u'size': 2, u'class': u'', u'unit': u'', u'quantity': u''}, {u'name': u'bossSpecObjID', u'dataType': u'int', u'summary': u'', u'remarks': u'', u'size': 4, u'class': u'', u'unit': u'', u'quantity': u''}, {u'name': u'primTarget', u'dataType': u'tinyint', u'summary': u'', u'remarks': u'', u'size': 1, u'class': u'', u'unit': u'', u'quantity': u''}, {u'name': u'spectroFluxIvar_z', u'dataType': u'real', u'summary': u'', u'remarks': u'', u'size': 4, u'class': u'', u'unit': u'', u'quantity': u''}, {u'name': u'fracNSigHi_9', u'dataType': u'real', u'summary': u'', u'remarks': u'', u'size': 4, u'class': u'', u'unit': u'', u'quantity': u''}, {u'name': u'elodieLogG', u'dataType': u'bit', u'summary': u'', u'remarks': u'', u'size': 1, u'class': u'', u'unit': u'', u'quantity': u''}, {u'name': u'loadVersion', u'dataType': u'smallint', u'summary': u'', u'remarks': u'', u'size': 2, u'class': u'', u'unit': u'', u'quantity': u''}, {u'name': u'velDispNPix', u'dataType': u'smallint', u'summary': u'', u'remarks': u'', u'size': 2, u'class': u'', u'unit': u'', u'quantity': u''}, {u'name': u'tColumn_6', u'dataType': u'smallint', u'summary': u'', u'remarks': u'', u'size': 2, u'class': u'', u'unit': u'', u'quantity': u''}, {u'name': u'tColumn_0', u'dataType': u'bit', u'summary': u'', u'remarks': u'', u'size': 1, u'class': u'', u'unit': u'', u'quantity': u''}, {u'name': u'zWarning_noqso', u'dataType': u'tinyint', u'summary': u'', u'remarks': u'', u'size': 1, u'class': u'', u'unit': u'', u'quantity': u''}, {u'name': u'plateSN2', u'dataType': u'real', u'summary': u'', u'remarks': u'', u'size': 4, u'class': u'', u'unit': u'', u'quantity': u''}, {u'name': u'elodieZ', u'dataType': u'bit', u'summary': u'', u'remarks': u'', u'size': 1, u'class': u'', u'unit': u'', u'quantity': u''}, {u'name': u'spectroSynFlux_z', u'dataType': u'real', u'summary': u'', u'remarks': u'', u'size': 4, u'class': u'', u'unit': u'', u'quantity': u''}, {u'name': u'fracNSigma_4', u'dataType': u'real', u'summary': u'', u'remarks': u'', u'size': 4, u'class': u'', u'unit': u'', u'quantity': u''}, {u'name': u'sn2_r', u'dataType': u'real', u'summary': u'', u'remarks': u'', u'size': 4, u'class': u'', u'unit': u'', u'quantity': u''}, {u'name': u'mjd', u'dataType': u'int', u'summary': u'', u'remarks': u'', u'size': 4, u'class': u'', u'unit': u'', u'quantity': u''}, {u'name': u'theta_4', u'dataType': u'real', u'summary': u'', u'remarks': u'', u'size': 4, u'class': u'', u'unit': u'', u'quantity': u''}, {u'name': u'run1d', u'dataType': u'varchar(max)', u'summary': u'', u'remarks': u'', u'size': 1, u'class': u'', u'unit': u'', u'quantity': u''}, {u'name': u'segue1_target1', u'dataType': u'bit', u'summary': u'', u'remarks': u'', u'size': 1, u'class': u'', u'unit': u'', u'quantity': u''}, {u'name': u'sn2_g', u'dataType': u'real', u'summary': u'', u'remarks': u'', u'size': 4, u'class': u'', u'unit': u'', u'quantity': u''}, {u'name': u'snMedian_i', u'dataType': u'real', u'summary': u'', u'remarks': u'', u'size': 4, u'class': u'', u'unit': u'', u'quantity': u''}, {u'name': u'fracNSigma_1', u'dataType': u'real', u'summary': u'', u'remarks': u'', u'size': 4, u'class': u'', u'unit': u'', u'quantity': u''}, {u'name': u'tColumn_8', u'dataType': u'smallint', u'summary': u'', u'remarks': u'', u'size': 2, u'class': u'', u'unit': u'', u'quantity': u''}, {u'name': u'spectroFlux_i', u'dataType': u'real', u'summary': u'', u'remarks': u'', u'size': 4, u'class': u'', u'unit': u'', u'quantity': u''}, {u'name': u'theta_7', u'dataType': u'bit', u'summary': u'', u'remarks': u'', u'size': 1, u'class': u'', u'unit': u'', u'quantity': u''}, {u'name': u'segue1_target2', u'dataType': u'bit', u'summary': u'', u'remarks': u'', u'size': 1, u'class': u'', u'unit': u'', u'quantity': u''}, {u'name': u'elodieFileName', u'dataType': u'bit', u'summary': u'', u'remarks': u'', u'size': 1, u'class': u'', u'unit': u'', u'quantity': u''}, {u'name': u'velDisp', u'dataType': u'real', u'summary': u'', u'remarks': u'', u'size': 4, u'class': u'', u'unit': u'', u'quantity': u''}, {u'name': u'fracNSigma_2', u'dataType': u'real', u'summary': u'', u'remarks': u'', u'size': 4, u'class': u'', u'unit': u'', u'quantity': u''}, {u'name': u'spectroSynFluxIvar_u', u'dataType': u'real', u'summary': u'', u'remarks': u'', u'size': 4, u'class': u'', u'unit': u'', u'quantity': u''}, {u'name': u'fracNSigLo_6', u'dataType': u'real', u'summary': u'', u'remarks': u'', u'size': 4, u'class': u'', u'unit': u'', u'quantity': u''}, {u'name': u'snMedian_u', u'dataType': u'real', u'summary': u'', u'remarks': u'', u'size': 4, u'class': u'', u'unit': u'', u'quantity': u''}, {u'name': u'sourceType', u'dataType': u'varchar(max)', u'summary': u'', u'remarks': u'', u'size': 1, u'class': u'', u'unit': u'', u'quantity': u''}, {u'name': u'fracNSigHi_1', u'dataType': u'real', u'summary': u'', u'remarks': u'', u'size': 4, u'class': u'', u'unit': u'', u'quantity': u''}, {u'name': u'seguePrimary', u'dataType': u'bit', u'summary': u'', u'remarks': u'', u'size': 1, u'class': u'', u'unit': u'', u'quantity': u''}, {u'name': u'elodieDOF', u'dataType': u'bit', u'summary': u'', u'remarks': u'', u'size': 1, u'class': u'', u'unit': u'', u'quantity': u''}, {u'name': u'spectroFlux_u', u'dataType': u'real', u'summary': u'', u'remarks': u'', u'size': 4, u'class': u'', u'unit': u'', u'quantity': u''}, {u'name': u'ancillary_target1', u'dataType': u'bit', u'summary': u'', u'remarks': u'', u'size': 1, u'class': u'', u'unit': u'', u'quantity': u''}, {u'name': u'tColumn_7', u'dataType': u'smallint', u'summary': u'', u'remarks': u'', u'size': 2, u'class': u'', u'unit': u'', u'quantity': u''}, {u'name': u'fracNSigLo_5', u'dataType': u'real', u'summary': u'', u'remarks': u'', u'size': 4, u'class': u'', u'unit': u'', u'quantity': u''}, {u'name': u'z_noqso', u'dataType': u'real', u'summary': u'', u'remarks': u'', u'size': 4, u'class': u'', u'unit': u'', u'quantity': u''}, {u'name': u'sn2_i', u'dataType': u'real', u'summary': u'', u'remarks': u'', u'size': 4, u'class': u'', u'unit': u'', u'quantity': u''}, {u'name': u'snMedian_z', u'dataType': u'real', u'summary': u'', u'remarks': u'', u'size': 4, u'class': u'', u'unit': u'', u'quantity': u''}, {u'name': u'spectroFluxIvar_u', u'dataType': u'real', u'summary': u'', u'remarks': u'', u'size': 4, u'class': u'', u'unit': u'', u'quantity': u''}, {u'name': u'tColumn_4', u'dataType': u'smallint', u'summary': u'', u'remarks': u'', u'size': 2, u'class': u'', u'unit': u'', u'quantity': u''}, {u'name': u'htmID', u'dataType': u'bigint', u'summary': u'', u'remarks': u'', u'size': 8, u'class': u'', u'unit': u'', u'quantity': u''}, {u'name': u'elodieTEff', u'dataType': u'bit', u'summary': u'', u'remarks': u'', u'size': 1, u'class': u'', u'unit': u'', u'quantity': u''}, {u'name': u'rChi2Diff_noqso', u'dataType': u'real', u'summary': u'', u'remarks': u'', u'size': 4, u'class': u'', u'unit': u'', u'quantity': u''}, {u'name': u'blueFiber', u'dataType': u'smallint', u'summary': u'', u'remarks': u'', u'size': 2, u'class': u'', u'unit': u'', u'quantity': u''}, {u'name': u'elodieObject', u'dataType': u'bit', u'summary': u'', u'remarks': u'', u'size': 1, u'class': u'', u'unit': u'', u'quantity': u''}, {u'name': u'tColumn_9', u'dataType': u'smallint', u'summary': u'', u'remarks': u'', u'size': 2, u'class': u'', u'unit': u'', u'quantity': u''}, {u'name': u'spectroSkyFlux_z', u'dataType': u'real', u'summary': u'', u'remarks': u'', u'size': 4, u'class': u'', u'unit': u'', u'quantity': u''}, {u'name': u'velDispZ', u'dataType': u'bit', u'summary': u'', u'remarks': u'', u'size': 1, u'class': u'', u'unit': u'', u'quantity': u''}, {u'name': u'rChi2', u'dataType': u'real', u'summary': u'', u'remarks': u'', u'size': 4, u'class': u'', u'unit': u'', u'quantity': u''}, {u'name': u'theta_6', u'dataType': u'real', u'summary': u'', u'remarks': u'', u'size': 4, u'class': u'', u'unit': u'', u'quantity': u''}, {u'name': u'theta_3', u'dataType': u'real', u'summary': u'', u'remarks': u'', u'size': 4, u'class': u'', u'unit': u'', u'quantity': u''}, {u'name': u'xFocal', u'dataType': u'real', u'summary': u'', u'remarks': u'', u'size': 4, u'class': u'', u'unit': u'', u'quantity': u''}, {u'name': u'programname', u'dataType': u'varchar(max)', u'summary': u'', u'remarks': u'', u'size': 1, u'class': u'', u'unit': u'', u'quantity': u''}, {u'name': u'fracNSigLo_9', u'dataType': u'bit', u'summary': u'', u'remarks': u'', u'size': 1, u'class': u'', u'unit': u'', u'quantity': u''}, {u'name': u'fracNSigHi_2', u'dataType': u'real', u'summary': u'', u'remarks': u'', u'size': 4, u'class': u'', u'unit': u'', u'quantity': u''}, {u'name': u'theta_9', u'dataType': u'bit', u'summary': u'', u'remarks': u'', u'size': 1, u'class': u'', u'unit': u'', u'quantity': u''}, {u'name': u'elodieRChi2', u'dataType': u'bit', u'summary': u'', u'remarks': u'', u'size': 1, u'class': u'', u'unit': u'', u'quantity': u''}, {u'name': u'legacy_target1', u'dataType': u'tinyint', u'summary': u'', u'remarks': u'', u'size': 1, u'class': u'', u'unit': u'', u'quantity': u''}, {u'name': u'class_person', u'dataType': u'bit', u'summary': u'', u'remarks': u'', u'size': 1, u'class': u'', u'unit': u'', u'quantity': u''}, {u'name': u'wCoverage', u'dataType': u'real', u'summary': u'', u'remarks': u'', u'size': 4, u'class': u'', u'unit': u'', u'quantity': u''}, {u'name': u'sdssPrimary', u'dataType': u'bit', u'summary': u'', u'remarks': u'', u'size': 1, u'class': u'', u'unit': u'', u'quantity': u''}, {u'name': u'ancillary_target2', u'dataType': u'bit', u'summary': u'', u'remarks': u'', u'size': 1, u'class': u'', u'unit': u'', u'quantity': u''}, {u'name': u'fracNSigLo_4', u'dataType': u'real', u'summary': u'', u'remarks': u'', u'size': 4, u'class': u'', u'unit': u'', u'quantity': u''}, {u'name': u'deredSN2', u'dataType': u'real', u'summary': u'', u'remarks': u'', u'size': 4, u'class': u'', u'unit': u'', u'quantity': u''}, {u'name': u'spectroFluxIvar_i', u'dataType': u'real', u'summary': u'', u'remarks': u'', u'size': 4, u'class': u'', u'unit': u'', u'quantity': u''}, {u'name': u'boss_target1', u'dataType': u'bigint', u'summary': u'', u'remarks': u'', u'size': 8, u'class': u'', u'unit': u'', u'quantity': u''}, {u'name': u'cy', u'dataType': u'real', u'summary': u'', u'remarks': u'', u'size': 4, u'class': u'', u'unit': u'', u'quantity': u''}, {u'name': u'elodieZModelErr', u'dataType': u'bit', u'summary': u'', u'remarks': u'', u'size': 1, u'class': u'', u'unit': u'', u'quantity': u''}, {u'name': u'elodieSpType', u'dataType': u'bit', u'summary': u'', u'remarks': u'', u'size': 1, u'class': u'', u'unit': u'', u'quantity': u''}, {u'name': u'sn1_r', u'dataType': u'real', u'summary': u'', u'remarks': u'', u'size': 4, u'class': u'', u'unit': u'', u'quantity': u''}, {u'name': u'elodieZErr', u'dataType': u'bit', u'summary': u'', u'remarks': u'', u'size': 1, u'class': u'', u'unit': u'', u'quantity': u''}, {u'name': u'fracNSigLo_3', u'dataType': u'real', u'summary': u'', u'remarks': u'', u'size': 4, u'class': u'', u'unit': u'', u'quantity': u''}, {u'name': u'tColumn_3', u'dataType': u'tinyint', u'summary': u'', u'remarks': u'', u'size': 1, u'class': u'', u'unit': u'', u'quantity': u''}, {u'name': u'fracNSigHi_7', u'dataType': u'real', u'summary': u'', u'remarks': u'', u'size': 4, u'class': u'', u'unit': u'', u'quantity': u''}, {u'name': u'spectroSkyFlux_g', u'dataType': u'real', u'summary': u'', u'remarks': u'', u'size': 4, u'class': u'', u'unit': u'', u'quantity': u''}, {u'name': u'spectroSkyFlux_i', u'dataType': u'real', u'summary': u'', u'remarks': u'', u'size': 4, u'class': u'', u'unit': u'', u'quantity': u''}, {u'name': u'spectroSynFluxIvar_z', u'dataType': u'real', u'summary': u'', u'remarks': u'', u'size': 4, u'class': u'', u'unit': u'', u'quantity': u''}, {u'name': u'platerun', u'dataType': u'varchar(max)', u'summary': u'', u'remarks': u'', u'size': 1, u'class': u'', u'unit': u'', u'quantity': u''}, {u'name': u'subClass', u'dataType': u'varchar(max)', u'summary': u'', u'remarks': u'', u'size': 1, u'class': u'', u'unit': u'', u'quantity': u''}, {u'name': u'run2d', u'dataType': u'varchar(max)', u'summary': u'', u'remarks': u'', u'size': 1, u'class': u'', u'unit': u'', u'quantity': u''}, {u'name': u'zErr', u'dataType': u'real', u'summary': u'', u'remarks': u'', u'size': 4, u'class': u'', u'unit': u'', u'quantity': u''}, {u'name': u'theta_5', u'dataType': u'real', u'summary': u'', u'remarks': u'', u'size': 4, u'class': u'', u'unit': u'', u'quantity': u''}, {u'name': u'elodieFeH', u'dataType': u'bit', u'summary': u'', u'remarks': u'', u'size': 1, u'class': u'', u'unit': u'', u'quantity': u''}, {u'name': u'theta_2', u'dataType': u'real', u'summary': u'', u'remarks': u'', u'size': 4, u'class': u'', u'unit': u'', u'quantity': u''}, {u'name': u'designID', u'dataType': u'smallint', u'summary': u'', u'remarks': u'', u'size': 2, u'class': u'', u'unit': u'', u'quantity': u''}, {u'name': u'chunk', u'dataType': u'varchar(max)', u'summary': u'', u'remarks': u'', u'size': 1, u'class': u'', u'unit': u'', u'quantity': u''}, {u'name': u'rChi2Diff', u'dataType': u'real', u'summary': u'', u'remarks': u'', u'size': 4, u'class': u'', u'unit': u'', u'quantity': u''}, {u'name': u'fracNSigLo_8', u'dataType': u'bit', u'summary': u'', u'remarks': u'', u'size': 1, u'class': u'', u'unit': u'', u'quantity': u''}, {u'name': u'bossPrimary', u'dataType': u'bit', u'summary': u'', u'remarks': u'', u'size': 1, u'class': u'', u'unit': u'', u'quantity': u''}, {u'name': u'class_noqso', u'dataType': u'varchar(max)', u'summary': u'', u'remarks': u'', u'size': 1, u'class': u'', u'unit': u'', u'quantity': u''}, {u'name': u'fracNSigHi_3', u'dataType': u'real', u'summary': u'', u'remarks': u'', u'size': 4, u'class': u'', u'unit': u'', u'quantity': u''}, {u'name': u'theta_8', u'dataType': u'bit', u'summary': u'', u'remarks': u'', u'size': 1, u'class': u'', u'unit': u'', u'quantity': u''}, {u'name': u'cx', u'dataType': u'real', u'summary': u'', u'remarks': u'', u'size': 4, u'class': u'', u'unit': u'', u'quantity': u''}, {u'name': u'anyOrMask', u'dataType': u'int', u'summary': u'', u'remarks': u'', u'size': 4, u'class': u'', u'unit': u'', u'quantity': u''}, {u'name': u'secTarget', u'dataType': u'bit', u'summary': u'', u'remarks': u'', u'size': 1, u'class': u'', u'unit': u'', u'quantity': u''}, {u'name': u'fracNSigLo_10', u'dataType': u'bit', u'summary': u'', u'remarks': u'', u'size': 1, u'class': u'', u'unit': u'', u'quantity': u''}, {u'name': u'bestObjID', u'dataType': u'bigint', u'summary': u'', u'remarks': u'', u'size': 8, u'class': u'', u'unit': u'', u'quantity': u''}, {u'name': u'fracNSigma_10', u'dataType': u'bit', u'summary': u'', u'remarks': u'', u'size': 1, u'class': u'', u'unit': u'', u'quantity': u''}, {u'name': u'fiberID', u'dataType': u'smallint', u'summary': u'', u'remarks': u'', u'size': 2, u'class': u'', u'unit': u'', u'quantity': u''}, {u'name': u'zErr_noqso', u'dataType': u'real', u'summary': u'', u'remarks': u'', u'size': 4, u'class': u'', u'unit': u'', u'quantity': u''}, {u'name': u'tFile', u'dataType': u'varchar(max)', u'summary': u'', u'remarks': u'', u'size': 1, u'class': u'', u'unit': u'', u'quantity': u''}, {u'name': u'fracNSigLo_7', u'dataType': u'real', u'summary': u'', u'remarks': u'', u'size': 4, u'class': u'', u'unit': u'', u'quantity': u''}, {u'name': u'snMedian_r', u'dataType': u'real', u'summary': u'', u'remarks': u'', u'size': 4, u'class': u'', u'unit': u'', u'quantity': u''}, {u'name': u'velDispErr', u'dataType': u'real', u'summary': u'', u'remarks': u'', u'size': 4, u'class': u'', u'unit': u'', u'quantity': u''}, {u'name': u'spectrographID', u'dataType': u'bit', u'summary': u'', u'remarks': u'', u'size': 1, u'class': u'', u'unit': u'', u'quantity': u''}, {u'name': u'zWarning', u'dataType': u'tinyint', u'summary': u'', u'remarks': u'', u'size': 1, u'class': u'', u'unit': u'', u'quantity': u''}, {u'name': u'sn1_i', u'dataType': u'real', u'summary': u'', u'remarks': u'', u'size': 4, u'class': u'', u'unit': u'', u'quantity': u''}, {u'name': u'plateID', u'dataType': u'bigint', u'summary': u'', u'remarks': u'', u'size': 8, u'class': u'', u'unit': u'', u'quantity': u''}]}, {u'name': u'webuser.Results_2', u'summary': u'', u'example': u'', u'remarks': u'', u'class': u'', u'columns': [{u'name': u'Column2', u'dataType': u'decimal', u'summary': u'', u'remarks': u'', u'size': 16, u'class': u'', u'unit': u'', u'quantity': u''}, {u'name': u'Column1', u'dataType': u'decimal', u'summary': u'', u'remarks': u'', u'size': 16, u'class': u'', u'unit': u'', u'quantity': u''}]}, {u'name': u'webuser.tt1', u'summary': u'', u'example': u'', u'remarks': u'', u'class': u'', u'columns': [{u'name': u'a3', u'dataType': u'tinyint', u'summary': u'', u'remarks': u'', u'size': 1, u'class': u'', u'unit': u'', u'quantity': u''}, {u'name': u'a2', u'dataType': u'tinyint', u'summary': u'', u'remarks': u'', u'size': 1, u'class': u'', u'unit': u'', u'quantity': u''}, {u'name': u'a1', u'dataType': u'bit', u'summary': u'', u'remarks': u'', u'size': 1, u'class': u'', u'unit': u'', u'quantity': u''}]}, {u'name': u'webuser.myTablez244', u'summary': u'', u'example': u'', u'remarks': u'', u'class': u'', u'columns': [{u'name': u'ID', u'dataType': u'bigint', u'summary': u'', u'remarks': u'', u'size': 8, u'class': u'', u'unit': u'', u'quantity': u''}, {u'name': u'Column1,Column2', u'dataType': u'nvarchar(7)', u'summary': u'', u'remarks': u'', u'size': 2, u'class': u'', u'unit': u'', u'quantity': u''}]}, {u'name': u'webuser.csvT2', u'summary': u'', u'example': u'', u'remarks': u'', u'class': u'', u'columns': [{u'name': u'c2', u'dataType': u'tinyint', u'summary': u'', u'remarks': u'', u'size': 1, u'class': u'', u'unit': u'', u'quantity': u''}, {u'name': u'c1', u'dataType': u'bit', u'summary': u'', u'remarks': u'', u'size': 1, u'class': u'', u'unit': u'', u'quantity': u''}]}, {u'name': u'webuser.MyNewTable55', u'summary': u'', u'example': u'', u'remarks': u'', u'class': u'', u'columns': [{u'name': u'specobjid', u'dataType': u'bigint', u'summary': u'', u'remarks': u'', u'size': 8, u'class': u'', u'unit': u'', u'quantity': u''}, {u'name': u'ra', u'dataType': u'real', u'summary': u'', u'remarks': u'', u'size': 4, u'class': u'', u'unit': u'', u'quantity': u''}, {u'name': u'dec', u'dataType': u'real', u'summary': u'', u'remarks': u'', u'size': 4, u'class': u'', u'unit': u'', u'quantity': u''}]}, {u'name': u'webuser.QuickResults', u'summary': u'', u'example': u'', u'remarks': u'', u'class': u'', u'columns': [{u'name': u'Column2', u'dataType': u'decimal', u'summary': u'', u'remarks': u'', u'size': 16, u'class': u'', u'unit': u'', u'quantity': u''}, {u'name': u'Column1', u'dataType': u'decimal', u'summary': u'', u'remarks': u'', u'size': 16, u'class': u'', u'unit': u'', u'quantity': u''}]}, {u'name': u'webuser.rad', u'summary': u'', u'example': u'', u'remarks': u'', u'class': u'', u'columns': [{u'name': u'type', u'dataType': u'tinyint', u'summary': u'', u'remarks': u'', u'size': 1, u'class': u'', u'unit': u'', u'quantity': u''}, {u'name': u'Err_u', u'dataType': u'real', u'summary': u'', u'remarks': u'', u'size': 4, u'class': u'', u'unit': u'', u'quantity': u''}, {u'name': u'dec', u'dataType': u'real', u'summary': u'', u'remarks': u'', u'size': 4, u'class': u'', u'unit': u'', u'quantity': u''}, {u'name': u'r', u'dataType': u'real', u'summary': u'', u'remarks': u'', u'size': 4, u'class': u'', u'unit': u'', u'quantity': u''}, {u'name': u'ra', u'dataType': u'real', u'summary': u'', u'remarks': u'', u'size': 4, u'class': u'', u'unit': u'', u'quantity': u''}, {u'name': u'i', u'dataType': u'real', u'summary': u'', u'remarks': u'', u'size': 4, u'class': u'', u'unit': u'', u'quantity': u''}, {u'name': u'objid', u'dataType': u'bigint', u'summary': u'', u'remarks': u'', u'size': 8, u'class': u'', u'unit': u'', u'quantity': u''}, {u'name': u'u', u'dataType': u'real', u'summary': u'', u'remarks': u'', u'size': 4, u'class': u'', u'unit': u'', u'quantity': u''}, {u'name': u'z', u'dataType': u'real', u'summary': u'', u'remarks': u'', u'size': 4, u'class': u'', u'unit': u'', u'quantity': u''}, {u'name': u'Err_z', u'dataType': u'real', u'summary': u'', u'remarks': u'', u'size': 4, u'class': u'', u'unit': u'', u'quantity': u''}, {u'name': u'obj', u'dataType': u'smallint', u'summary': u'', u'remarks': u'', u'size': 2, u'class': u'', u'unit': u'', u'quantity': u''}, {u'name': u'rerun', u'dataType': u'smallint', u'summary': u'', u'remarks': u'', u'size': 2, u'class': u'', u'unit': u'', u'quantity': u''}, {u'name': u'Err_r', u'dataType': u'real', u'summary': u'', u'remarks': u'', u'size': 4, u'class': u'', u'unit': u'', u'quantity': u''}, {u'name': u'field', u'dataType': u'tinyint', u'summary': u'', u'remarks': u'', u'size': 1, u'class': u'', u'unit': u'', u'quantity': u''}, {u'name': u'camcol', u'dataType': u'tinyint', u'summary': u'', u'remarks': u'', u'size': 1, u'class': u'', u'unit': u'', u'quantity': u''}, {u'name': u'run', u'dataType': u'smallint', u'summary': u'', u'remarks': u'', u'size': 2, u'class': u'', u'unit': u'', u'quantity': u''}, {u'name': u'Err_g', u'dataType': u'real', u'summary': u'', u'remarks': u'', u'size': 4, u'class': u'', u'unit': u'', u'quantity': u''}, {u'name': u'Err_i', u'dataType': u'real', u'summary': u'', u'remarks': u'', u'size': 4, u'class': u'', u'unit': u'', u'quantity': u''}, {u'name': u'g', u'dataType': u'real', u'summary': u'', u'remarks': u'', u'size': 4, u'class': u'', u'unit': u'', u'quantity': u''}]}, {u'name': u'webuser.csvT5', u'summary': u'', u'example': u'', u'remarks': u'', u'class': u'', u'columns': [{u'name': u'c1', u'dataType': u'bit', u'summary': u'', u'remarks': u'', u'size': 1, u'class': u'', u'unit': u'', u'quantity': u''}, {u'name': u'c3', u'dataType': u'tinyint', u'summary': u'', u'remarks': u'', u'size': 1, u'class': u'', u'unit': u'', u'quantity': u''}]}, {u'name': u'webuser.SkyQueryUploadTable', u'summary': u'', u'example': u'', u'remarks': u'', u'class': u'', u'columns': [{u'name': u'ID', u'dataType': u'bigint', u'summary': u'', u'remarks': u'', u'size': 8, u'class': u'', u'unit': u'', u'quantity': u''}, {u'name': u'Column1,Column2', u'dataType': u'datetime2', u'summary': u'', u'remarks': u'', u'size': 8, u'class': u'', u'unit': u'', u'quantity': u''}]}, {u'name': u'webuser.MyTB1', u'summary': u'', u'example': u'', u'remarks': u'', u'class': u'', u'columns': [{u'name': u'specobjid', u'dataType': u'bigint', u'summary': u'', u'remarks': u'', u'size': 8, u'class': u'', u'unit': u'', u'quantity': u''}, {u'name': u'ra', u'dataType': u'real', u'summary': u'', u'remarks': u'', u'size': 4, u'class': u'', u'unit': u'', u'quantity': u''}, {u'name': u'dec', u'dataType': u'real', u'summary': u'', u'remarks': u'', u'size': 4, u'class': u'', u'unit': u'', u'quantity': u''}]}, {u'name': u'webuser.dwderf', u'summary': u'', u'example': u'', u'remarks': u'', u'class': u'', u'columns': [{u'name': u'fiberid', u'dataType': u'smallint', u'summary': u'', u'remarks': u'', u'size': 2, u'class': u'', u'unit': u'', u'quantity': u''}, {u'name': u'redshift', u'dataType': u'real', u'summary': u'', u'remarks': u'', u'size': 4, u'class': u'', u'unit': u'', u'quantity': u''}, {u'name': u'run', u'dataType': u'tinyint', u'summary': u'', u'remarks': u'', u'size': 1, u'class': u'', u'unit': u'', u'quantity': u''}, {u'name': u'u', u'dataType': u'real', u'summary': u'', u'remarks': u'', u'size': 4, u'class': u'', u'unit': u'', u'quantity': u''}, {u'name': u'camcol', u'dataType': u'tinyint', u'summary': u'', u'remarks': u'', u'size': 1, u'class': u'', u'unit': u'', u'quantity': u''}, {u'name': u'specobjid', u'dataType': u'bigint', u'summary': u'', u'remarks': u'', u'size': 8, u'class': u'', u'unit': u'', u'quantity': u''}, {u'name': u'rerun', u'dataType': u'smallint', u'summary': u'', u'remarks': u'', u'size': 2, u'class': u'', u'unit': u'', u'quantity': u''}, {u'name': u'class', u'dataType': u'varchar(max)', u'summary': u'', u'remarks': u'', u'size': 1, u'class': u'', u'unit': u'', u'quantity': u''}, {u'name': u'ra', u'dataType': u'real', u'summary': u'', u'remarks': u'', u'size': 4, u'class': u'', u'unit': u'', u'quantity': u''}, {u'name': u'z', u'dataType': u'real', u'summary': u'', u'remarks': u'', u'size': 4, u'class': u'', u'unit': u'', u'quantity': u''}, {u'name': u'g', u'dataType': u'real', u'summary': u'', u'remarks': u'', u'size': 4, u'class': u'', u'unit': u'', u'quantity': u''}, {u'name': u'objid', u'dataType': u'bigint', u'summary': u'', u'remarks': u'', u'size': 8, u'class': u'', u'unit': u'', u'quantity': u''}, {u'name': u'field', u'dataType': u'smallint', u'summary': u'', u'remarks': u'', u'size': 2, u'class': u'', u'unit': u'', u'quantity': u''}, {u'name': u'dec', u'dataType': u'real', u'summary': u'', u'remarks': u'', u'size': 4, u'class': u'', u'unit': u'', u'quantity': u''}, {u'name': u'mjd', u'dataType': u'int', u'summary': u'', u'remarks': u'', u'size': 4, u'class': u'', u'unit': u'', u'quantity': u''}, {u'name': u'r', u'dataType': u'real', u'summary': u'', u'remarks': u'', u'size': 4, u'class': u'', u'unit': u'', u'quantity': u''}, {u'name': u'plate', u'dataType': u'smallint', u'summary': u'', u'remarks': u'', u'size': 2, u'class': u'', u'unit': u'', u'quantity': u''}, {u'name': u'i', u'dataType': u'real', u'summary': u'', u'remarks': u'', u'size': 4, u'class': u'', u'unit': u'', u'quantity': u''}]}, {u'name': u'webuser.MyTable_2', u'summary': u'', u'example': u'', u'remarks': u'', u'class': u'', u'columns': [{u'name': u'Column1', u'dataType': u'int', u'summary': u'', u'remarks': u'', u'size': 4, u'class': u'', u'unit': u'', u'quantity': u''}]}, {u'name': u'webuser.NewTableFromDataFrame23', u'summary': u'', u'example': u'', u'remarks': u'', u'class': u'', u'columns': [{u'name': u'specobjid', u'dataType': u'bigint', u'summary': u'', u'remarks': u'', u'size': 8, u'class': u'', u'unit': u'', u'quantity': u''}, {u'name': u'ra', u'dataType': u'real', u'summary': u'', u'remarks': u'', u'size': 4, u'class': u'', u'unit': u'', u'quantity': u''}, {u'name': u'index', u'dataType': u'tinyint', u'summary': u'', u'remarks': u'', u'size': 1, u'class': u'', u'unit': u'', u'quantity': u''}, {u'name': u'dec', u'dataType': u'real', u'summary': u'', u'remarks': u'', u'size': 4, u'class': u'', u'unit': u'', u'quantity': u''}]}, {u'name': u'webuser.MyNewTable87', u'summary': u'', u'example': u'', u'remarks': u'', u'class': u'', u'columns': [{u'name': u'foo', u'dataType': u'bit', u'summary': u'', u'remarks': u'', u'size': 1, u'class': u'', u'unit': u'', u'quantity': u''}, {u'name': u'bar', u'dataType': u'tinyint', u'summary': u'', u'remarks': u'', u'size': 1, u'class': u'', u'unit': u'', u'quantity': u''}]}, {u'name': u'webuser.mnmn2', u'summary': u'', u'example': u'', u'remarks': u'', u'class': u'', u'columns': [{u'name': u'ra', u'dataType': u'float', u'summary': u'', u'remarks': u'', u'size': 8, u'class': u'', u'unit': u'', u'quantity': u''}, {u'name': u'dec', u'dataType': u'float', u'summary': u'', u'remarks': u'', u'size': 8, u'class': u'', u'unit': u'', u'quantity': u''}]}, {u'name': u'webuser.myTable212221', u'summary': u'', u'example': u'', u'remarks': u'', u'class': u'', u'columns': [{u'name': u'ID', u'dataType': u'bigint', u'summary': u'', u'remarks': u'', u'size': 8, u'class': u'', u'unit': u'', u'quantity': u''}, {u'name': u'id,c1,c2', u'dataType': u'datetime2', u'summary': u'', u'remarks': u'', u'size': 8, u'class': u'', u'unit': u'', u'quantity': u''}]}, {u'name': u'webuser.ss1', u'summary': u'', u'example': u'', u'remarks': u'', u'class': u'', u'columns': [{u'name': u'ID', u'dataType': u'bigint', u'summary': u'', u'remarks': u'', u'size': 8, u'class': u'', u'unit': u'', u'quantity': u''}, {u'name': u'col1', u'dataType': u'float', u'summary': u'', u'remarks': u'', u'size': 8, u'class': u'', u'unit': u'', u'quantity': u''}, {u'name': u'col2', u'dataType': u'float', u'summary': u'', u'remarks': u'', u'size': 8, u'class': u'', u'unit': u'', u'quantity': u''}]}, {u'name': u'webuser.MyNewTable56', u'summary': u'', u'example': u'', u'remarks': u'', u'class': u'', u'columns': [{u'name': u'specobjid', u'dataType': u'bigint', u'summary': u'', u'remarks': u'', u'size': 8, u'class': u'', u'unit': u'', u'quantity': u''}, {u'name': u'ra', u'dataType': u'real', u'summary': u'', u'remarks': u'', u'size': 4, u'class': u'', u'unit': u'', u'quantity': u''}, {u'name': u'dec', u'dataType': u'real', u'summary': u'', u'remarks': u'', u'size': 4, u'class': u'', u'unit': u'', u'quantity': u''}]}, {u'name': u'webuser.Results_6', u'summary': u'', u'example': u'', u'remarks': u'', u'class': u'', u'columns': [{u'name': u'Column2', u'dataType': u'decimal', u'summary': u'', u'remarks': u'', u'size': 16, u'class': u'', u'unit': u'', u'quantity': u''}, {u'name': u'Column1', u'dataType': u'decimal', u'summary': u'', u'remarks': u'', u'size': 16, u'class': u'', u'unit': u'', u'quantity': u''}]}, {u'name': u'webuser.Results_3', u'summary': u'', u'example': u'', u'remarks': u'', u'class': u'', u'columns': [{u'name': u'Column2', u'dataType': u'decimal', u'summary': u'', u'remarks': u'', u'size': 16, u'class': u'', u'unit': u'', u'quantity': u''}, {u'name': u'Column1', u'dataType': u'decimal', u'summary': u'', u'remarks': u'', u'size': 16, u'class': u'', u'unit': u'', u'quantity': u''}]}, {u'name': u'webuser.mnmn', u'summary': u'', u'example': u'', u'remarks': u'', u'class': u'', u'columns': [{u'name': u'Col1', u'dataType': u'int', u'summary': u'', u'remarks': u'', u'size': 4, u'class': u'', u'unit': u'', u'quantity': u''}, {u'name': u'Col2', u'dataType': u'int', u'summary': u'', u'remarks': u'', u'size': 4, u'class': u'', u'unit': u'', u'quantity': u''}]}, {u'name': u'webuser.csvT4', u'summary': u'', u'example': u'', u'remarks': u'', u'class': u'', u'columns': [{u'name': u'b', u'dataType': u'real', u'summary': u'', u'remarks': u'', u'size': 4, u'class': u'', u'unit': u'', u'quantity': u''}, {u'name': u'a', u'dataType': u'real', u'summary': u'', u'remarks': u'', u'size': 4, u'class': u'', u'unit': u'', u'quantity': u''}]}, {u'name': u'webuser.myTablez243', u'summary': u'', u'example': u'', u'remarks': u'', u'class': u'', u'columns': [{u'name': u'ID', u'dataType': u'bigint', u'summary': u'', u'remarks': u'', u'size': 8, u'class': u'', u'unit': u'', u'quantity': u''}, {u'name': u'Column1,Column2', u'dataType': u'nvarchar(7)', u'summary': u'', u'remarks': u'', u'size': 2, u'class': u'', u'unit': u'', u'quantity': u''}]}, {u'name': u'webuser.MyTable_0', u'summary': u'', u'example': u'', u'remarks': u'', u'class': u'', u'columns': [{u'name': u'one', u'dataType': u'int', u'summary': u'', u'remarks': u'', u'size': 4, u'class': u'', u'unit': u'', u'quantity': u''}, {u'name': u'two', u'dataType': u'int', u'summary': u'', u'remarks': u'', u'size': 4, u'class': u'', u'unit': u'', u'quantity': u''}]}, {u'name': u'webuser.csvT3', u'summary': u'', u'example': u'', u'remarks': u'', u'class': u'', u'columns': [{u'name': u'b', u'dataType': u'real', u'summary': u'', u'remarks': u'', u'size': 4, u'class': u'', u'unit': u'', u'quantity': u''}, {u'name': u'a', u'dataType': u'real', u'summary': u'', u'remarks': u'', u'size': 4, u'class': u'', u'unit': u'', u'quantity': u''}]}, {u'name': u'webuser.swdewwe3', u'summary': u'', u'example': u'', u'remarks': u'', u'class': u'', u'columns': [{u'name': u'spectroSynFlux_g', u'dataType': u'real', u'summary': u'', u'remarks': u'', u'size': 4, u'class': u'', u'unit': u'', u'quantity': u''}, {u'name': u'fracNSigLo_2', u'dataType': u'real', u'summary': u'', u'remarks': u'', u'size': 4, u'class': u'', u'unit': u'', u'quantity': u''}, {u'name': u'spectroSkyFlux_u', u'dataType': u'real', u'summary': u'', u'remarks': u'', u'size': 4, u'class': u'', u'unit': u'', u'quantity': u''}, {u'name': u'spectroSynFluxIvar_i', u'dataType': u'real', u'summary': u'', u'remarks': u'', u'size': 4, u'class': u'', u'unit': u'', u'quantity': u''}, {u'name': u'yFocal', u'dataType': u'real', u'summary': u'', u'remarks': u'', u'size': 4, u'class': u'', u'unit': u'', u'quantity': u''}, {u'name': u'class', u'dataType': u'varchar(max)', u'summary': u'', u'remarks': u'', u'size': 1, u'class': u'', u'unit': u'', u'quantity': u''}, {u'name': u'firstRelease', u'dataType': u'varchar(max)', u'summary': u'', u'remarks': u'', u'size': 1, u'class': u'', u'unit': u'', u'quantity': u''}, {u'name': u'spectroFluxIvar_r', u'dataType': u'real', u'summary': u'', u'remarks': u'', u'size': 4, u'class': u'', u'unit': u'', u'quantity': u''}, {u'name': u'fracNSigLo_1', u'dataType': u'real', u'summary': u'', u'remarks': u'', u'size': 4, u'class': u'', u'unit': u'', u'quantity': u''}, {u'name': u'spectroFlux_g', u'dataType': u'real', u'summary': u'', u'remarks': u'', u'size': 4, u'class': u'', u'unit': u'', u'quantity': u''}, {u'name': u'tColumn_1', u'dataType': u'bit', u'summary': u'', u'remarks': u'', u'size': 1, u'class': u'', u'unit': u'', u'quantity': u''}, {u'name': u'fracNSigHi_5', u'dataType': u'real', u'summary': u'', u'remarks': u'', u'size': 4, u'class': u'', u'unit': u'', u'quantity': u''}, {u'name': u'theta_1', u'dataType': u'real', u'summary': u'', u'remarks': u'', u'size': 4, u'class': u'', u'unit': u'', u'quantity': u''}, {u'name': u'theta_0', u'dataType': u'real', u'summary': u'', u'remarks': u'', u'size': 4, u'class': u'', u'unit': u'', u'quantity': u''}, {u'name': u'special_target1', u'dataType': u'bit', u'summary': u'', u'remarks': u'', u'size': 1, u'class': u'', u'unit': u'', u'quantity': u''}, {u'name': u'z', u'dataType': u'real', u'summary': u'', u'remarks': u'', u'size': 4, u'class': u'', u'unit': u'', u'quantity': u''}, {u'name': u'spectroSynFluxIvar_r', u'dataType': u'real', u'summary': u'', u'remarks': u'', u'size': 4, u'class': u'', u'unit': u'', u'quantity': u''}, {u'name': u'segue2_target2', u'dataType': u'bit', u'summary': u'', u'remarks': u'', u'size': 1, u'class': u'', u'unit': u'', u'quantity': u''}, {u'name': u'waveMin', u'dataType': u'real', u'summary': u'', u'remarks': u'', u'size': 4, u'class': u'', u'unit': u'', u'quantity': u''}, {u'name': u'DOF', u'dataType': u'smallint', u'summary': u'', u'remarks': u'', u'size': 2, u'class': u'', u'unit': u'', u'quantity': u''}, {u'name': u'targetType', u'dataType': u'varchar(max)', u'summary': u'', u'remarks': u'', u'size': 1, u'class': u'', u'unit': u'', u'quantity': u''}, {u'name': u'snMedian', u'dataType': u'real', u'summary': u'', u'remarks': u'', u'size': 4, u'class': u'', u'unit': u'', u'quantity': u''}, {u'name': u'fracNSigma_8', u'dataType': u'real', u'summary': u'', u'remarks': u'', u'size': 4, u'class': u'', u'unit': u'', u'quantity': u''}, {u'name': u'elodieBV', u'dataType': u'bit', u'summary': u'', u'remarks': u'', u'size': 1, u'class': u'', u'unit': u'', u'quantity': u''}, {u'name': u'segue2_target1', u'dataType': u'bit', u'summary': u'', u'remarks': u'', u'size': 1, u'class': u'', u'unit': u'', u'quantity': u''}, {u'name': u'dec', u'dataType': u'real', u'summary': u'', u'remarks': u'', u'size': 4, u'class': u'', u'unit': u'', u'quantity': u''}, {u'name': u'legacy_target2', u'dataType': u'bit', u'summary': u'', u'remarks': u'', u'size': 1, u'class': u'', u'unit': u'', u'quantity': u''}, {u'name': u'snTurnoff', u'dataType': u'smallint', u'summary': u'', u'remarks': u'', u'size': 2, u'class': u'', u'unit': u'', u'quantity': u''}, {u'name': u'fracNSigma_5', u'dataType': u'real', u'summary': u'', u'remarks': u'', u'size': 4, u'class': u'', u'unit': u'', u'quantity': u''}, {u'name': u'instrument', u'dataType': u'varchar(max)', u'summary': u'', u'remarks': u'', u'size': 1, u'class': u'', u'unit': u'', u'quantity': u''}, {u'name': u'cz', u'dataType': u'real', u'summary': u'', u'remarks': u'', u'size': 4, u'class': u'', u'unit': u'', u'quantity': u''}, {u'name': u'tile', u'dataType': u'smallint', u'summary': u'', u'remarks': u'', u'size': 2, u'class': u'', u'unit': u'', u'quantity': u''}, {u'name': u'velDispZErr', u'dataType': u'bit', u'summary': u'', u'remarks': u'', u'size': 1, u'class': u'', u'unit': u'', u'quantity': u''}, {u'name': u'plate', u'dataType': u'smallint', u'summary': u'', u'remarks': u'', u'size': 2, u'class': u'', u'unit': u'', u'quantity': u''}, {u'name': u'sciencePrimary', u'dataType': u'bit', u'summary': u'', u'remarks': u'', u'size': 1, u'class': u'', u'unit': u'', u'quantity': u''}, {u'name': u'spectroSynFlux_r', u'dataType': u'real', u'summary': u'', u'remarks': u'', u'size': 4, u'class': u'', u'unit': u'', u'quantity': u''}, {u'name': u'img', u'dataType': u'varchar(max)', u'summary': u'', u'remarks': u'', u'size': 1, u'class': u'', u'unit': u'', u'quantity': u''}, {u'name': u'fracNSigma_6', u'dataType': u'real', u'summary': u'', u'remarks': u'', u'size': 4, u'class': u'', u'unit': u'', u'quantity': u''}, {u'name': u'tColumn_2', u'dataType': u'tinyint', u'summary': u'', u'remarks': u'', u'size': 1, u'class': u'', u'unit': u'', u'quantity': u''}, {u'name': u'velDispChi2', u'dataType': u'real', u'summary': u'', u'remarks': u'', u'size': 4, u'class': u'', u'unit': u'', u'quantity': u''}, {u'name': u'fracNSigHi_6', u'dataType': u'real', u'summary': u'', u'remarks': u'', u'size': 4, u'class': u'', u'unit': u'', u'quantity': u''}, {u'name': u'special_target2', u'dataType': u'bit', u'summary': u'', u'remarks': u'', u'size': 1, u'class': u'', u'unit': u'', u'quantity': u''}, {u'name': u'fracNSigma_3', u'dataType': u'real', u'summary': u'', u'remarks': u'', u'size': 4, u'class': u'', u'unit': u'', u'quantity': u''}, {u'name': u'chi68p', u'dataType': u'real', u'summary': u'', u'remarks': u'', u'size': 4, u'class': u'', u'unit': u'', u'quantity': u''}, {u'name': u'segue2Primary', u'dataType': u'bit', u'summary': u'', u'remarks': u'', u'size': 1, u'class': u'', u'unit': u'', u'quantity': u''}, {u'name': u'sn1_g', u'dataType': u'real', u'summary': u'', u'remarks': u'', u'size': 4, u'class': u'', u'unit': u'', u'quantity': u''}, {u'name': u'spectroSynFluxIvar_g', u'dataType': u'real', u'summary': u'', u'remarks': u'', u'size': 4, u'class': u'', u'unit': u'', u'quantity': u''}, {u'name': u'spectroSynFlux_u', u'dataType': u'real', u'summary': u'', u'remarks': u'', u'size': 4, u'class': u'', u'unit': u'', u'quantity': u''}, {u'name': u'fracNSigma_9', u'dataType': u'real', u'summary': u'', u'remarks': u'', u'size': 4, u'class': u'', u'unit': u'', u'quantity': u''}, {u'name': u'waveMax', u'dataType': u'real', u'summary': u'', u'remarks': u'', u'size': 4, u'class': u'', u'unit': u'', u'quantity': u''}, {u'name': u'lambdaEff', u'dataType': u'smallint', u'summary': u'', u'remarks': u'', u'size': 2, u'class': u'', u'unit': u'', u'quantity': u''}, {u'name': u'fracNSigHi_8', u'dataType': u'real', u'summary': u'', u'remarks': u'', u'size': 4, u'class': u'', u'unit': u'', u'quantity': u''}, {u'name': u'legacyPrimary', u'dataType': u'bit', u'summary': u'', u'remarks': u'', u'size': 1, u'class': u'', u'unit': u'', u'quantity': u''}, {u'name': u'specObjID', u'dataType': u'bigint', u'summary': u'', u'remarks': u'', u'size': 8, u'class': u'', u'unit': u'', u'quantity': u''}, {u'name': u'fracNSigHi_10', u'dataType': u'bit', u'summary': u'', u'remarks': u'', u'size': 1, u'class': u'', u'unit': u'', u'quantity': u''}, {u'name': u'comments_person', u'dataType': u'bit', u'summary': u'', u'remarks': u'', u'size': 1, u'class': u'', u'unit': u'', u'quantity': u''}, {u'name': u'spectroSynFlux_i', u'dataType': u'real', u'summary': u'', u'remarks': u'', u'size': 4, u'class': u'', u'unit': u'', u'quantity': u''}, {u'name': u'ra', u'dataType': u'real', u'summary': u'', u'remarks': u'', u'size': 4, u'class': u'', u'unit': u'', u'quantity': u''}, {u'name': u'tColumn_5', u'dataType': u'smallint', u'summary': u'', u'remarks': u'', u'size': 2, u'class': u'', u'unit': u'', u'quantity': u''}, {u'name': u'spectroSkyFlux_r', u'dataType': u'real', u'summary': u'', u'remarks': u'', u'size': 4, u'class': u'', u'unit': u'', u'quantity': u''}, {u'name': u'segue1Primary', u'dataType': u'bit', u'summary': u'', u'remarks': u'', u'size': 1, u'class': u'', u'unit': u'', u'quantity': u''}, {u'name': u'spectroFluxIvar_g', u'dataType': u'real', u'summary': u'', u'remarks': u'', u'size': 4, u'class': u'', u'unit': u'', u'quantity': u''}, {u'name': u'survey', u'dataType': u'varchar(max)', u'summary': u'', u'remarks': u'', u'size': 1, u'class': u'', u'unit': u'', u'quantity': u''}, {u'name': u'subClass_noqso', u'dataType': u'varchar(max)', u'summary': u'', u'remarks': u'', u'size': 1, u'class': u'', u'unit': u'', u'quantity': u''}, {u'name': u'spectroFlux_z', u'dataType': u'real', u'summary': u'', u'remarks': u'', u'size': 4, u'class': u'', u'unit': u'', u'quantity': u''}, {u'name': u'nPoly', u'dataType': u'tinyint', u'summary': u'', u'remarks': u'', u'size': 1, u'class': u'', u'unit': u'', u'quantity': u''}, {u'name': u'fracNSigma_7', u'dataType': u'real', u'summary': u'', u'remarks': u'', u'size': 4, u'class': u'', u'unit': u'', u'quantity': u''}, {u'name': u'z_person', u'dataType': u'bit', u'summary': u'', u'remarks': u'', u'size': 1, u'class': u'', u'unit': u'', u'quantity': u''}, {u'name': u'anyAndMask', u'dataType': u'int', u'summary': u'', u'remarks': u'', u'size': 4, u'class': u'', u'unit': u'', u'quantity': u''}, {u'name': u'snMedian_g', u'dataType': u'real', u'summary': u'', u'remarks': u'', u'size': 4, u'class': u'', u'unit': u'', u'quantity': u''}, {u'name': u'targetObjID', u'dataType': u'bigint', u'summary': u'', u'remarks': u'', u'size': 8, u'class': u'', u'unit': u'', u'quantity': u''}, {u'name': u'fluxObjID', u'dataType': u'bigint', u'summary': u'', u'remarks': u'', u'size': 8, u'class': u'', u'unit': u'', u'quantity': u''}, {u'name': u'fracNSigHi_4', u'dataType': u'real', u'summary': u'', u'remarks': u'', u'size': 4, u'class': u'', u'unit': u'', u'quantity': u''}, {u'name': u'zOffset', u'dataType': u'tinyint', u'summary': u'', u'remarks': u'', u'size': 1, u'class': u'', u'unit': u'', u'quantity': u''}, {u'name': u'spectroFlux_r', u'dataType': u'real', u'summary': u'', u'remarks': u'', u'size': 4, u'class': u'', u'unit': u'', u'quantity': u''}, {u'name': u'eboss_target0', u'dataType': u'bit', u'summary': u'', u'remarks': u'', u'size': 1, u'class': u'', u'unit': u'', u'quantity': u''}, {u'name': u'velDispDOF', u'dataType': u'smallint', u'summary': u'', u'remarks': u'', u'size': 2, u'class': u'', u'unit': u'', u'quantity': u''}, {u'name': u'bossSpecObjID', u'dataType': u'int', u'summary': u'', u'remarks': u'', u'size': 4, u'class': u'', u'unit': u'', u'quantity': u''}, {u'name': u'primTarget', u'dataType': u'tinyint', u'summary': u'', u'remarks': u'', u'size': 1, u'class': u'', u'unit': u'', u'quantity': u''}, {u'name': u'spectroFluxIvar_z', u'dataType': u'real', u'summary': u'', u'remarks': u'', u'size': 4, u'class': u'', u'unit': u'', u'quantity': u''}, {u'name': u'fracNSigHi_9', u'dataType': u'real', u'summary': u'', u'remarks': u'', u'size': 4, u'class': u'', u'unit': u'', u'quantity': u''}, {u'name': u'elodieLogG', u'dataType': u'bit', u'summary': u'', u'remarks': u'', u'size': 1, u'class': u'', u'unit': u'', u'quantity': u''}, {u'name': u'loadVersion', u'dataType': u'smallint', u'summary': u'', u'remarks': u'', u'size': 2, u'class': u'', u'unit': u'', u'quantity': u''}, {u'name': u'velDispNPix', u'dataType': u'smallint', u'summary': u'', u'remarks': u'', u'size': 2, u'class': u'', u'unit': u'', u'quantity': u''}, {u'name': u'tColumn_6', u'dataType': u'smallint', u'summary': u'', u'remarks': u'', u'size': 2, u'class': u'', u'unit': u'', u'quantity': u''}, {u'name': u'tColumn_0', u'dataType': u'bit', u'summary': u'', u'remarks': u'', u'size': 1, u'class': u'', u'unit': u'', u'quantity': u''}, {u'name': u'zWarning_noqso', u'dataType': u'tinyint', u'summary': u'', u'remarks': u'', u'size': 1, u'class': u'', u'unit': u'', u'quantity': u''}, {u'name': u'plateSN2', u'dataType': u'real', u'summary': u'', u'remarks': u'', u'size': 4, u'class': u'', u'unit': u'', u'quantity': u''}, {u'name': u'elodieZ', u'dataType': u'bit', u'summary': u'', u'remarks': u'', u'size': 1, u'class': u'', u'unit': u'', u'quantity': u''}, {u'name': u'spectroSynFlux_z', u'dataType': u'real', u'summary': u'', u'remarks': u'', u'size': 4, u'class': u'', u'unit': u'', u'quantity': u''}, {u'name': u'fracNSigma_4', u'dataType': u'real', u'summary': u'', u'remarks': u'', u'size': 4, u'class': u'', u'unit': u'', u'quantity': u''}, {u'name': u'sn2_r', u'dataType': u'real', u'summary': u'', u'remarks': u'', u'size': 4, u'class': u'', u'unit': u'', u'quantity': u''}, {u'name': u'mjd', u'dataType': u'int', u'summary': u'', u'remarks': u'', u'size': 4, u'class': u'', u'unit': u'', u'quantity': u''}, {u'name': u'theta_4', u'dataType': u'real', u'summary': u'', u'remarks': u'', u'size': 4, u'class': u'', u'unit': u'', u'quantity': u''}, {u'name': u'run1d', u'dataType': u'varchar(max)', u'summary': u'', u'remarks': u'', u'size': 1, u'class': u'', u'unit': u'', u'quantity': u''}, {u'name': u'segue1_target1', u'dataType': u'bit', u'summary': u'', u'remarks': u'', u'size': 1, u'class': u'', u'unit': u'', u'quantity': u''}, {u'name': u'sn2_g', u'dataType': u'real', u'summary': u'', u'remarks': u'', u'size': 4, u'class': u'', u'unit': u'', u'quantity': u''}, {u'name': u'snMedian_i', u'dataType': u'real', u'summary': u'', u'remarks': u'', u'size': 4, u'class': u'', u'unit': u'', u'quantity': u''}, {u'name': u'fracNSigma_1', u'dataType': u'real', u'summary': u'', u'remarks': u'', u'size': 4, u'class': u'', u'unit': u'', u'quantity': u''}, {u'name': u'tColumn_8', u'dataType': u'smallint', u'summary': u'', u'remarks': u'', u'size': 2, u'class': u'', u'unit': u'', u'quantity': u''}, {u'name': u'spectroFlux_i', u'dataType': u'real', u'summary': u'', u'remarks': u'', u'size': 4, u'class': u'', u'unit': u'', u'quantity': u''}, {u'name': u'theta_7', u'dataType': u'bit', u'summary': u'', u'remarks': u'', u'size': 1, u'class': u'', u'unit': u'', u'quantity': u''}, {u'name': u'segue1_target2', u'dataType': u'bit', u'summary': u'', u'remarks': u'', u'size': 1, u'class': u'', u'unit': u'', u'quantity': u''}, {u'name': u'elodieFileName', u'dataType': u'bit', u'summary': u'', u'remarks': u'', u'size': 1, u'class': u'', u'unit': u'', u'quantity': u''}, {u'name': u'velDisp', u'dataType': u'real', u'summary': u'', u'remarks': u'', u'size': 4, u'class': u'', u'unit': u'', u'quantity': u''}, {u'name': u'fracNSigma_2', u'dataType': u'real', u'summary': u'', u'remarks': u'', u'size': 4, u'class': u'', u'unit': u'', u'quantity': u''}, {u'name': u'spectroSynFluxIvar_u', u'dataType': u'real', u'summary': u'', u'remarks': u'', u'size': 4, u'class': u'', u'unit': u'', u'quantity': u''}, {u'name': u'fracNSigLo_6', u'dataType': u'real', u'summary': u'', u'remarks': u'', u'size': 4, u'class': u'', u'unit': u'', u'quantity': u''}, {u'name': u'snMedian_u', u'dataType': u'real', u'summary': u'', u'remarks': u'', u'size': 4, u'class': u'', u'unit': u'', u'quantity': u''}, {u'name': u'sourceType', u'dataType': u'varchar(max)', u'summary': u'', u'remarks': u'', u'size': 1, u'class': u'', u'unit': u'', u'quantity': u''}, {u'name': u'fracNSigHi_1', u'dataType': u'real', u'summary': u'', u'remarks': u'', u'size': 4, u'class': u'', u'unit': u'', u'quantity': u''}, {u'name': u'seguePrimary', u'dataType': u'bit', u'summary': u'', u'remarks': u'', u'size': 1, u'class': u'', u'unit': u'', u'quantity': u''}, {u'name': u'elodieDOF', u'dataType': u'bit', u'summary': u'', u'remarks': u'', u'size': 1, u'class': u'', u'unit': u'', u'quantity': u''}, {u'name': u'spectroFlux_u', u'dataType': u'real', u'summary': u'', u'remarks': u'', u'size': 4, u'class': u'', u'unit': u'', u'quantity': u''}, {u'name': u'ancillary_target1', u'dataType': u'bit', u'summary': u'', u'remarks': u'', u'size': 1, u'class': u'', u'unit': u'', u'quantity': u''}, {u'name': u'tColumn_7', u'dataType': u'smallint', u'summary': u'', u'remarks': u'', u'size': 2, u'class': u'', u'unit': u'', u'quantity': u''}, {u'name': u'fracNSigLo_5', u'dataType': u'real', u'summary': u'', u'remarks': u'', u'size': 4, u'class': u'', u'unit': u'', u'quantity': u''}, {u'name': u'z_noqso', u'dataType': u'real', u'summary': u'', u'remarks': u'', u'size': 4, u'class': u'', u'unit': u'', u'quantity': u''}, {u'name': u'sn2_i', u'dataType': u'real', u'summary': u'', u'remarks': u'', u'size': 4, u'class': u'', u'unit': u'', u'quantity': u''}, {u'name': u'snMedian_z', u'dataType': u'real', u'summary': u'', u'remarks': u'', u'size': 4, u'class': u'', u'unit': u'', u'quantity': u''}, {u'name': u'spectroFluxIvar_u', u'dataType': u'real', u'summary': u'', u'remarks': u'', u'size': 4, u'class': u'', u'unit': u'', u'quantity': u''}, {u'name': u'tColumn_4', u'dataType': u'smallint', u'summary': u'', u'remarks': u'', u'size': 2, u'class': u'', u'unit': u'', u'quantity': u''}, {u'name': u'htmID', u'dataType': u'bigint', u'summary': u'', u'remarks': u'', u'size': 8, u'class': u'', u'unit': u'', u'quantity': u''}, {u'name': u'elodieTEff', u'dataType': u'bit', u'summary': u'', u'remarks': u'', u'size': 1, u'class': u'', u'unit': u'', u'quantity': u''}, {u'name': u'rChi2Diff_noqso', u'dataType': u'real', u'summary': u'', u'remarks': u'', u'size': 4, u'class': u'', u'unit': u'', u'quantity': u''}, {u'name': u'blueFiber', u'dataType': u'smallint', u'summary': u'', u'remarks': u'', u'size': 2, u'class': u'', u'unit': u'', u'quantity': u''}, {u'name': u'elodieObject', u'dataType': u'bit', u'summary': u'', u'remarks': u'', u'size': 1, u'class': u'', u'unit': u'', u'quantity': u''}, {u'name': u'tColumn_9', u'dataType': u'smallint', u'summary': u'', u'remarks': u'', u'size': 2, u'class': u'', u'unit': u'', u'quantity': u''}, {u'name': u'spectroSkyFlux_z', u'dataType': u'real', u'summary': u'', u'remarks': u'', u'size': 4, u'class': u'', u'unit': u'', u'quantity': u''}, {u'name': u'velDispZ', u'dataType': u'bit', u'summary': u'', u'remarks': u'', u'size': 1, u'class': u'', u'unit': u'', u'quantity': u''}, {u'name': u'rChi2', u'dataType': u'real', u'summary': u'', u'remarks': u'', u'size': 4, u'class': u'', u'unit': u'', u'quantity': u''}, {u'name': u'theta_6', u'dataType': u'real', u'summary': u'', u'remarks': u'', u'size': 4, u'class': u'', u'unit': u'', u'quantity': u''}, {u'name': u'theta_3', u'dataType': u'real', u'summary': u'', u'remarks': u'', u'size': 4, u'class': u'', u'unit': u'', u'quantity': u''}, {u'name': u'xFocal', u'dataType': u'real', u'summary': u'', u'remarks': u'', u'size': 4, u'class': u'', u'unit': u'', u'quantity': u''}, {u'name': u'programname', u'dataType': u'varchar(max)', u'summary': u'', u'remarks': u'', u'size': 1, u'class': u'', u'unit': u'', u'quantity': u''}, {u'name': u'fracNSigLo_9', u'dataType': u'bit', u'summary': u'', u'remarks': u'', u'size': 1, u'class': u'', u'unit': u'', u'quantity': u''}, {u'name': u'fracNSigHi_2', u'dataType': u'real', u'summary': u'', u'remarks': u'', u'size': 4, u'class': u'', u'unit': u'', u'quantity': u''}, {u'name': u'theta_9', u'dataType': u'bit', u'summary': u'', u'remarks': u'', u'size': 1, u'class': u'', u'unit': u'', u'quantity': u''}, {u'name': u'elodieRChi2', u'dataType': u'bit', u'summary': u'', u'remarks': u'', u'size': 1, u'class': u'', u'unit': u'', u'quantity': u''}, {u'name': u'legacy_target1', u'dataType': u'tinyint', u'summary': u'', u'remarks': u'', u'size': 1, u'class': u'', u'unit': u'', u'quantity': u''}, {u'name': u'class_person', u'dataType': u'bit', u'summary': u'', u'remarks': u'', u'size': 1, u'class': u'', u'unit': u'', u'quantity': u''}, {u'name': u'wCoverage', u'dataType': u'real', u'summary': u'', u'remarks': u'', u'size': 4, u'class': u'', u'unit': u'', u'quantity': u''}, {u'name': u'sdssPrimary', u'dataType': u'bit', u'summary': u'', u'remarks': u'', u'size': 1, u'class': u'', u'unit': u'', u'quantity': u''}, {u'name': u'ancillary_target2', u'dataType': u'bit', u'summary': u'', u'remarks': u'', u'size': 1, u'class': u'', u'unit': u'', u'quantity': u''}, {u'name': u'fracNSigLo_4', u'dataType': u'real', u'summary': u'', u'remarks': u'', u'size': 4, u'class': u'', u'unit': u'', u'quantity': u''}, {u'name': u'deredSN2', u'dataType': u'real', u'summary': u'', u'remarks': u'', u'size': 4, u'class': u'', u'unit': u'', u'quantity': u''}, {u'name': u'spectroFluxIvar_i', u'dataType': u'real', u'summary': u'', u'remarks': u'', u'size': 4, u'class': u'', u'unit': u'', u'quantity': u''}, {u'name': u'boss_target1', u'dataType': u'bigint', u'summary': u'', u'remarks': u'', u'size': 8, u'class': u'', u'unit': u'', u'quantity': u''}, {u'name': u'cy', u'dataType': u'real', u'summary': u'', u'remarks': u'', u'size': 4, u'class': u'', u'unit': u'', u'quantity': u''}, {u'name': u'elodieZModelErr', u'dataType': u'bit', u'summary': u'', u'remarks': u'', u'size': 1, u'class': u'', u'unit': u'', u'quantity': u''}, {u'name': u'elodieSpType', u'dataType': u'bit', u'summary': u'', u'remarks': u'', u'size': 1, u'class': u'', u'unit': u'', u'quantity': u''}, {u'name': u'sn1_r', u'dataType': u'real', u'summary': u'', u'remarks': u'', u'size': 4, u'class': u'', u'unit': u'', u'quantity': u''}, {u'name': u'elodieZErr', u'dataType': u'bit', u'summary': u'', u'remarks': u'', u'size': 1, u'class': u'', u'unit': u'', u'quantity': u''}, {u'name': u'fracNSigLo_3', u'dataType': u'real', u'summary': u'', u'remarks': u'', u'size': 4, u'class': u'', u'unit': u'', u'quantity': u''}, {u'name': u'tColumn_3', u'dataType': u'tinyint', u'summary': u'', u'remarks': u'', u'size': 1, u'class': u'', u'unit': u'', u'quantity': u''}, {u'name': u'fracNSigHi_7', u'dataType': u'real', u'summary': u'', u'remarks': u'', u'size': 4, u'class': u'', u'unit': u'', u'quantity': u''}, {u'name': u'spectroSkyFlux_g', u'dataType': u'real', u'summary': u'', u'remarks': u'', u'size': 4, u'class': u'', u'unit': u'', u'quantity': u''}, {u'name': u'spectroSkyFlux_i', u'dataType': u'real', u'summary': u'', u'remarks': u'', u'size': 4, u'class': u'', u'unit': u'', u'quantity': u''}, {u'name': u'spectroSynFluxIvar_z', u'dataType': u'real', u'summary': u'', u'remarks': u'', u'size': 4, u'class': u'', u'unit': u'', u'quantity': u''}, {u'name': u'platerun', u'dataType': u'varchar(max)', u'summary': u'', u'remarks': u'', u'size': 1, u'class': u'', u'unit': u'', u'quantity': u''}, {u'name': u'subClass', u'dataType': u'varchar(max)', u'summary': u'', u'remarks': u'', u'size': 1, u'class': u'', u'unit': u'', u'quantity': u''}, {u'name': u'run2d', u'dataType': u'varchar(max)', u'summary': u'', u'remarks': u'', u'size': 1, u'class': u'', u'unit': u'', u'quantity': u''}, {u'name': u'zErr', u'dataType': u'real', u'summary': u'', u'remarks': u'', u'size': 4, u'class': u'', u'unit': u'', u'quantity': u''}, {u'name': u'theta_5', u'dataType': u'real', u'summary': u'', u'remarks': u'', u'size': 4, u'class': u'', u'unit': u'', u'quantity': u''}, {u'name': u'elodieFeH', u'dataType': u'bit', u'summary': u'', u'remarks': u'', u'size': 1, u'class': u'', u'unit': u'', u'quantity': u''}, {u'name': u'theta_2', u'dataType': u'real', u'summary': u'', u'remarks': u'', u'size': 4, u'class': u'', u'unit': u'', u'quantity': u''}, {u'name': u'designID', u'dataType': u'smallint', u'summary': u'', u'remarks': u'', u'size': 2, u'class': u'', u'unit': u'', u'quantity': u''}, {u'name': u'chunk', u'dataType': u'varchar(max)', u'summary': u'', u'remarks': u'', u'size': 1, u'class': u'', u'unit': u'', u'quantity': u''}, {u'name': u'rChi2Diff', u'dataType': u'real', u'summary': u'', u'remarks': u'', u'size': 4, u'class': u'', u'unit': u'', u'quantity': u''}, {u'name': u'fracNSigLo_8', u'dataType': u'bit', u'summary': u'', u'remarks': u'', u'size': 1, u'class': u'', u'unit': u'', u'quantity': u''}, {u'name': u'bossPrimary', u'dataType': u'bit', u'summary': u'', u'remarks': u'', u'size': 1, u'class': u'', u'unit': u'', u'quantity': u''}, {u'name': u'class_noqso', u'dataType': u'varchar(max)', u'summary': u'', u'remarks': u'', u'size': 1, u'class': u'', u'unit': u'', u'quantity': u''}, {u'name': u'fracNSigHi_3', u'dataType': u'real', u'summary': u'', u'remarks': u'', u'size': 4, u'class': u'', u'unit': u'', u'quantity': u''}, {u'name': u'theta_8', u'dataType': u'bit', u'summary': u'', u'remarks': u'', u'size': 1, u'class': u'', u'unit': u'', u'quantity': u''}, {u'name': u'cx', u'dataType': u'real', u'summary': u'', u'remarks': u'', u'size': 4, u'class': u'', u'unit': u'', u'quantity': u''}, {u'name': u'anyOrMask', u'dataType': u'int', u'summary': u'', u'remarks': u'', u'size': 4, u'class': u'', u'unit': u'', u'quantity': u''}, {u'name': u'secTarget', u'dataType': u'bit', u'summary': u'', u'remarks': u'', u'size': 1, u'class': u'', u'unit': u'', u'quantity': u''}, {u'name': u'fracNSigLo_10', u'dataType': u'bit', u'summary': u'', u'remarks': u'', u'size': 1, u'class': u'', u'unit': u'', u'quantity': u''}, {u'name': u'bestObjID', u'dataType': u'bigint', u'summary': u'', u'remarks': u'', u'size': 8, u'class': u'', u'unit': u'', u'quantity': u''}, {u'name': u'fracNSigma_10', u'dataType': u'bit', u'summary': u'', u'remarks': u'', u'size': 1, u'class': u'', u'unit': u'', u'quantity': u''}, {u'name': u'fiberID', u'dataType': u'smallint', u'summary': u'', u'remarks': u'', u'size': 2, u'class': u'', u'unit': u'', u'quantity': u''}, {u'name': u'zErr_noqso', u'dataType': u'real', u'summary': u'', u'remarks': u'', u'size': 4, u'class': u'', u'unit': u'', u'quantity': u''}, {u'name': u'tFile', u'dataType': u'varchar(max)', u'summary': u'', u'remarks': u'', u'size': 1, u'class': u'', u'unit': u'', u'quantity': u''}, {u'name': u'fracNSigLo_7', u'dataType': u'real', u'summary': u'', u'remarks': u'', u'size': 4, u'class': u'', u'unit': u'', u'quantity': u''}, {u'name': u'snMedian_r', u'dataType': u'real', u'summary': u'', u'remarks': u'', u'size': 4, u'class': u'', u'unit': u'', u'quantity': u''}, {u'name': u'velDispErr', u'dataType': u'real', u'summary': u'', u'remarks': u'', u'size': 4, u'class': u'', u'unit': u'', u'quantity': u''}, {u'name': u'spectrographID', u'dataType': u'bit', u'summary': u'', u'remarks': u'', u'size': 1, u'class': u'', u'unit': u'', u'quantity': u''}, {u'name': u'zWarning', u'dataType': u'tinyint', u'summary': u'', u'remarks': u'', u'size': 1, u'class': u'', u'unit': u'', u'quantity': u''}, {u'name': u'sn1_i', u'dataType': u'real', u'summary': u'', u'remarks': u'', u'size': 4, u'class': u'', u'unit': u'', u'quantity': u''}, {u'name': u'plateID', u'dataType': u'bigint', u'summary': u'', u'remarks': u'', u'size': 8, u'class': u'', u'unit': u'', u'quantity': u''}]}, {u'name': u'webuser.MyTable', u'summary': u'', u'example': u'', u'remarks': u'', u'class': u'', u'columns': [{u'name': u'ra', u'dataType': u'float', u'summary': u'', u'remarks': u'', u'size': 8, u'class': u'', u'unit': u'', u'quantity': u''}, {u'name': u'dec', u'dataType': u'float', u'summary': u'', u'remarks': u'', u'size': 8, u'class': u'', u'unit': u'', u'quantity': u''}]}, {u'name': u'webuser.Results_1', u'summary': u'', u'example': u'', u'remarks': u'', u'class': u'', u'columns': [{u'name': u'Column2', u'dataType': u'decimal', u'summary': u'', u'remarks': u'', u'size': 16, u'class': u'', u'unit': u'', u'quantity': u''}, {u'name': u'Column1', u'dataType': u'decimal', u'summary': u'', u'remarks': u'', u'size': 16, u'class': u'', u'unit': u'', u'quantity': u''}]}, {u'name': u'webuser.skcsv1', u'summary': u'', u'example': u'', u'remarks': u'', u'class': u'', u'columns': [{u'name': u'ID', u'dataType': u'bigint', u'summary': u'', u'remarks': u'', u'size': 8, u'class': u'', u'unit': u'', u'quantity': u''}, {u'name': u'col1', u'dataType': u'float', u'summary': u'', u'remarks': u'', u'size': 8, u'class': u'', u'unit': u'', u'quantity': u''}, {u'name': u'col2', u'dataType': u'float', u'summary': u'', u'remarks': u'', u'size': 8, u'class': u'', u'unit': u'', u'quantity': u''}]}, {u'name': u'webuser.TestTableSciScriptR', u'summary': u'', u'example': u'', u'remarks': u'', u'class': u'', u'columns': [{u'name': u'Column2', u'dataType': u'float', u'summary': u'', u'remarks': u'', u'size': 8, u'class': u'', u'unit': u'', u'quantity': u''}, {u'name': u'ID', u'dataType': u'bigint', u'summary': u'', u'remarks': u'', u'size': 8, u'class': u'', u'unit': u'', u'quantity': u''}, {u'name': u'Column1', u'dataType': u'float', u'summary': u'', u'remarks': u'', u'size': 8, u'class': u'', u'unit': u'', u'quantity': u''}]}, {u'name': u'webuser.NewTableFromDataFrame4', u'summary': u'', u'example': u'', u'remarks': u'', u'class': u'', u'columns': [{u'name': u'specobjid', u'dataType': u'bigint', u'summary': u'', u'remarks': u'', u'size': 8, u'class': u'', u'unit': u'', u'quantity': u''}, {u'name': u'ra', u'dataType': u'real', u'summary': u'', u'remarks': u'', u'size': 4, u'class': u'', u'unit': u'', u'quantity': u''}, {u'name': u'index', u'dataType': u'tinyint', u'summary': u'', u'remarks': u'', u'size': 1, u'class': u'', u'unit': u'', u'quantity': u''}, {u'name': u'dec', u'dataType': u'real', u'summary': u'', u'remarks': u'', u'size': 4, u'class': u'', u'unit': u'', u'quantity': u''}]}, {u'name': u'webuser.twowayxmatch', u'summary': u'', u'example': u'', u'remarks': u'', u'class': u'', u'columns': [{u'name': u's_dec', u'dataType': u'float', u'summary': u'', u'remarks': u'', u'size': 8, u'class': u'', u'unit': u'', u'quantity': u''}, {u'name': u'g_ra', u'dataType': u'float', u'summary': u'', u'remarks': u'', u'size': 8, u'class': u'', u'unit': u'', u'quantity': u''}, {u'name': u'g_dec', u'dataType': u'float', u'summary': u'', u'remarks': u'', u'size': 8, u'class': u'', u'unit': u'', u'quantity': u''}, {u'name': u'x_RA', u'dataType': u'float', u'summary': u'', u'remarks': u'', u'size': 8, u'class': u'', u'unit': u'', u'quantity': u''}, {u'name': u's_objID', u'dataType': u'bigint', u'summary': u'', u'remarks': u'', u'size': 8, u'class': u'', u'unit': u'', u'quantity': u''}, {u'name': u's_ra', u'dataType': u'float', u'summary': u'', u'remarks': u'', u'size': 8, u'class': u'', u'unit': u'', u'quantity': u''}, {u'name': u'x_Dec', u'dataType': u'float', u'summary': u'', u'remarks': u'', u'size': 8, u'class': u'', u'unit': u'', u'quantity': u''}, {u'name': u'g_objid', u'dataType': u'bigint', u'summary': u'', u'remarks': u'', u'size': 8, u'class': u'', u'unit': u'', u'quantity': u''}]}, {u'name': u'webuser.MyTable_3', u'summary': u'', u'example': u'', u'remarks': u'', u'class': u'', u'columns': [{u'name': u'spectroSynFlux_g', u'dataType': u'real', u'summary': u'', u'remarks': u'', u'size': 4, u'class': u'', u'unit': u'', u'quantity': u''}, {u'name': u'fracNSigLo_2', u'dataType': u'real', u'summary': u'', u'remarks': u'', u'size': 4, u'class': u'', u'unit': u'', u'quantity': u''}, {u'name': u'spectroSkyFlux_u', u'dataType': u'real', u'summary': u'', u'remarks': u'', u'size': 4, u'class': u'', u'unit': u'', u'quantity': u''}, {u'name': u'spectroSynFluxIvar_i', u'dataType': u'real', u'summary': u'', u'remarks': u'', u'size': 4, u'class': u'', u'unit': u'', u'quantity': u''}, {u'name': u'yFocal', u'dataType': u'real', u'summary': u'', u'remarks': u'', u'size': 4, u'class': u'', u'unit': u'', u'quantity': u''}, {u'name': u'class', u'dataType': u'varchar(32)', u'summary': u'', u'remarks': u'', u'size': 1, u'class': u'', u'unit': u'', u'quantity': u''}, {u'name': u'firstRelease', u'dataType': u'varchar(32)', u'summary': u'', u'remarks': u'', u'size': 1, u'class': u'', u'unit': u'', u'quantity': u''}, {u'name': u'spectroFluxIvar_r', u'dataType': u'real', u'summary': u'', u'remarks': u'', u'size': 4, u'class': u'', u'unit': u'', u'quantity': u''}, {u'name': u'fracNSigLo_1', u'dataType': u'real', u'summary': u'', u'remarks': u'', u'size': 4, u'class': u'', u'unit': u'', u'quantity': u''}, {u'name': u'spectroFlux_g', u'dataType': u'real', u'summary': u'', u'remarks': u'', u'size': 4, u'class': u'', u'unit': u'', u'quantity': u''}, {u'name': u'tColumn_1', u'dataType': u'smallint', u'summary': u'', u'remarks': u'', u'size': 2, u'class': u'', u'unit': u'', u'quantity': u''}, {u'name': u'fracNSigHi_5', u'dataType': u'real', u'summary': u'', u'remarks': u'', u'size': 4, u'class': u'', u'unit': u'', u'quantity': u''}, {u'name': u'theta_1', u'dataType': u'real', u'summary': u'', u'remarks': u'', u'size': 4, u'class': u'', u'unit': u'', u'quantity': u''}, {u'name': u'theta_0', u'dataType': u'real', u'summary': u'', u'remarks': u'', u'size': 4, u'class': u'', u'unit': u'', u'quantity': u''}, {u'name': u'special_target1', u'dataType': u'bigint', u'summary': u'', u'remarks': u'', u'size': 8, u'class': u'', u'unit': u'', u'quantity': u''}, {u'name': u'z', u'dataType': u'real', u'summary': u'', u'remarks': u'', u'size': 4, u'class': u'', u'unit': u'', u'quantity': u''}, {u'name': u'spectroSynFluxIvar_r', u'dataType': u'real', u'summary': u'', u'remarks': u'', u'size': 4, u'class': u'', u'unit': u'', u'quantity': u''}, {u'name': u'segue2_target2', u'dataType': u'bigint', u'summary': u'', u'remarks': u'', u'size': 8, u'class': u'', u'unit': u'', u'quantity': u''}, {u'name': u'waveMin', u'dataType': u'real', u'summary': u'', u'remarks': u'', u'size': 4, u'class': u'', u'unit': u'', u'quantity': u''}, {u'name': u'DOF', u'dataType': u'real', u'summary': u'', u'remarks': u'', u'size': 4, u'class': u'', u'unit': u'', u'quantity': u''}, {u'name': u'targetType', u'dataType': u'varchar(128)', u'summary': u'', u'remarks': u'', u'size': 1, u'class': u'', u'unit': u'', u'quantity': u''}, {u'name': u'snMedian', u'dataType': u'real', u'summary': u'', u'remarks': u'', u'size': 4, u'class': u'', u'unit': u'', u'quantity': u''}, {u'name': u'fracNSigma_8', u'dataType': u'real', u'summary': u'', u'remarks': u'', u'size': 4, u'class': u'', u'unit': u'', u'quantity': u''}, {u'name': u'elodieBV', u'dataType': u'real', u'summary': u'', u'remarks': u'', u'size': 4, u'class': u'', u'unit': u'', u'quantity': u''}, {u'name': u'segue2_target1', u'dataType': u'bigint', u'summary': u'', u'remarks': u'', u'size': 8, u'class': u'', u'unit': u'', u'quantity': u''}, {u'name': u'dec', u'dataType': u'float', u'summary': u'', u'remarks': u'', u'size': 8, u'class': u'', u'unit': u'', u'quantity': u''}, {u'name': u'legacy_target2', u'dataType': u'bigint', u'summary': u'', u'remarks': u'', u'size': 8, u'class': u'', u'unit': u'', u'quantity': u''}, {u'name': u'snTurnoff', u'dataType': u'real', u'summary': u'', u'remarks': u'', u'size': 4, u'class': u'', u'unit': u'', u'quantity': u''}, {u'name': u'fracNSigma_5', u'dataType': u'real', u'summary': u'', u'remarks': u'', u'size': 4, u'class': u'', u'unit': u'', u'quantity': u''}, {u'name': u'instrument', u'dataType': u'varchar(32)', u'summary': u'', u'remarks': u'', u'size': 1, u'class': u'', u'unit': u'', u'quantity': u''}, {u'name': u'cz', u'dataType': u'float', u'summary': u'', u'remarks': u'', u'size': 8, u'class': u'', u'unit': u'', u'quantity': u''}, {u'name': u'tile', u'dataType': u'int', u'summary': u'', u'remarks': u'', u'size': 4, u'class': u'', u'unit': u'', u'quantity': u''}, {u'name': u'velDispZErr', u'dataType': u'real', u'summary': u'', u'remarks': u'', u'size': 4, u'class': u'', u'unit': u'', u'quantity': u''}, {u'name': u'plate', u'dataType': u'smallint', u'summary': u'', u'remarks': u'', u'size': 2, u'class': u'', u'unit': u'', u'quantity': u''}, {u'name': u'sciencePrimary', u'dataType': u'smallint', u'summary': u'', u'remarks': u'', u'size': 2, u'class': u'', u'unit': u'', u'quantity': u''}, {u'name': u'spectroSynFlux_r', u'dataType': u'real', u'summary': u'', u'remarks': u'', u'size': 4, u'class': u'', u'unit': u'', u'quantity': u''}, {u'name': u'img', u'dataType': u'varbinary(max)', u'summary': u'', u'remarks': u'', u'size': 1, u'class': u'', u'unit': u'', u'quantity': u''}, {u'name': u'fracNSigma_6', u'dataType': u'real', u'summary': u'', u'remarks': u'', u'size': 4, u'class': u'', u'unit': u'', u'quantity': u''}, {u'name': u'tColumn_2', u'dataType': u'smallint', u'summary': u'', u'remarks': u'', u'size': 2, u'class': u'', u'unit': u'', u'quantity': u''}, {u'name': u'velDispChi2', u'dataType': u'real', u'summary': u'', u'remarks': u'', u'size': 4, u'class': u'', u'unit': u'', u'quantity': u''}, {u'name': u'fracNSigHi_6', u'dataType': u'real', u'summary': u'', u'remarks': u'', u'size': 4, u'class': u'', u'unit': u'', u'quantity': u''}, {u'name': u'special_target2', u'dataType': u'bigint', u'summary': u'', u'remarks': u'', u'size': 8, u'class': u'', u'unit': u'', u'quantity': u''}, {u'name': u'fracNSigma_3', u'dataType': u'real', u'summary': u'', u'remarks': u'', u'size': 4, u'class': u'', u'unit': u'', u'quantity': u''}, {u'name': u'chi68p', u'dataType': u'real', u'summary': u'', u'remarks': u'', u'size': 4, u'class': u'', u'unit': u'', u'quantity': u''}, {u'name': u'segue2Primary', u'dataType': u'smallint', u'summary': u'', u'remarks': u'', u'size': 2, u'class': u'', u'unit': u'', u'quantity': u''}, {u'name': u'sn1_g', u'dataType': u'real', u'summary': u'', u'remarks': u'', u'size': 4, u'class': u'', u'unit': u'', u'quantity': u''}, {u'name': u'spectroSynFluxIvar_g', u'dataType': u'real', u'summary': u'', u'remarks': u'', u'size': 4, u'class': u'', u'unit': u'', u'quantity': u''}, {u'name': u'spectroSynFlux_u', u'dataType': u'real', u'summary': u'', u'remarks': u'', u'size': 4, u'class': u'', u'unit': u'', u'quantity': u''}, {u'name': u'fracNSigma_9', u'dataType': u'real', u'summary': u'', u'remarks': u'', u'size': 4, u'class': u'', u'unit': u'', u'quantity': u''}, {u'name': u'waveMax', u'dataType': u'real', u'summary': u'', u'remarks': u'', u'size': 4, u'class': u'', u'unit': u'', u'quantity': u''}, {u'name': u'lambdaEff', u'dataType': u'real', u'summary': u'', u'remarks': u'', u'size': 4, u'class': u'', u'unit': u'', u'quantity': u''}, {u'name': u'fracNSigHi_8', u'dataType': u'real', u'summary': u'', u'remarks': u'', u'size': 4, u'class': u'', u'unit': u'', u'quantity': u''}, {u'name': u'legacyPrimary', u'dataType': u'smallint', u'summary': u'', u'remarks': u'', u'size': 2, u'class': u'', u'unit': u'', u'quantity': u''}, {u'name': u'specObjID', u'dataType': u'bigint', u'summary': u'', u'remarks': u'', u'size': 8, u'class': u'', u'unit': u'', u'quantity': u''}, {u'name': u'fracNSigHi_10', u'dataType': u'real', u'summary': u'', u'remarks': u'', u'size': 4, u'class': u'', u'unit': u'', u'quantity': u''}, {u'name': u'comments_person', u'dataType': u'varchar(200)', u'summary': u'', u'remarks': u'', u'size': 1, u'class': u'', u'unit': u'', u'quantity': u''}, {u'name': u'spectroSynFlux_i', u'dataType': u'real', u'summary': u'', u'remarks': u'', u'size': 4, u'class': u'', u'unit': u'', u'quantity': u''}, {u'name': u'ra', u'dataType': u'float', u'summary': u'', u'remarks': u'', u'size': 8, u'class': u'', u'unit': u'', u'quantity': u''}, {u'name': u'tColumn_5', u'dataType': u'smallint', u'summary': u'', u'remarks': u'', u'size': 2, u'class': u'', u'unit': u'', u'quantity': u''}, {u'name': u'spectroSkyFlux_r', u'dataType': u'real', u'summary': u'', u'remarks': u'', u'size': 4, u'class': u'', u'unit': u'', u'quantity': u''}, {u'name': u'segue1Primary', u'dataType': u'smallint', u'summary': u'', u'remarks': u'', u'size': 2, u'class': u'', u'unit': u'', u'quantity': u''}, {u'name': u'spectroFluxIvar_g', u'dataType': u'real', u'summary': u'', u'remarks': u'', u'size': 4, u'class': u'', u'unit': u'', u'quantity': u''}, {u'name': u'survey', u'dataType': u'varchar(32)', u'summary': u'', u'remarks': u'', u'size': 1, u'class': u'', u'unit': u'', u'quantity': u''}, {u'name': u'subClass_noqso', u'dataType': u'varchar(32)', u'summary': u'', u'remarks': u'', u'size': 1, u'class': u'', u'unit': u'', u'quantity': u''}, {u'name': u'spectroFlux_z', u'dataType': u'real', u'summary': u'', u'remarks': u'', u'size': 4, u'class': u'', u'unit': u'', u'quantity': u''}, {u'name': u'nPoly', u'dataType': u'real', u'summary': u'', u'remarks': u'', u'size': 4, u'class': u'', u'unit': u'', u'quantity': u''}, {u'name': u'fracNSigma_7', u'dataType': u'real', u'summary': u'', u'remarks': u'', u'size': 4, u'class': u'', u'unit': u'', u'quantity': u''}, {u'name': u'z_person', u'dataType': u'real', u'summary': u'', u'remarks': u'', u'size': 4, u'class': u'', u'unit': u'', u'quantity': u''}, {u'name': u'anyAndMask', u'dataType': u'int', u'summary': u'', u'remarks': u'', u'size': 4, u'class': u'', u'unit': u'', u'quantity': u''}, {u'name': u'snMedian_g', u'dataType': u'real', u'summary': u'', u'remarks': u'', u'size': 4, u'class': u'', u'unit': u'', u'quantity': u''}, {u'name': u'targetObjID', u'dataType': u'bigint', u'summary': u'', u'remarks': u'', u'size': 8, u'class': u'', u'unit': u'', u'quantity': u''}, {u'name': u'fluxObjID', u'dataType': u'bigint', u'summary': u'', u'remarks': u'', u'size': 8, u'class': u'', u'unit': u'', u'quantity': u''}, {u'name': u'fracNSigHi_4', u'dataType': u'real', u'summary': u'', u'remarks': u'', u'size': 4, u'class': u'', u'unit': u'', u'quantity': u''}, {u'name': u'zOffset', u'dataType': u'real', u'summary': u'', u'remarks': u'', u'size': 4, u'class': u'', u'unit': u'', u'quantity': u''}, {u'name': u'spectroFlux_r', u'dataType': u'real', u'summary': u'', u'remarks': u'', u'size': 4, u'class': u'', u'unit': u'', u'quantity': u''}, {u'name': u'eboss_target0', u'dataType': u'bigint', u'summary': u'', u'remarks': u'', u'size': 8, u'class': u'', u'unit': u'', u'quantity': u''}, {u'name': u'velDispDOF', u'dataType': u'int', u'summary': u'', u'remarks': u'', u'size': 4, u'class': u'', u'unit': u'', u'quantity': u''}, {u'name': u'bossSpecObjID', u'dataType': u'int', u'summary': u'', u'remarks': u'', u'size': 4, u'class': u'', u'unit': u'', u'quantity': u''}, {u'name': u'primTarget', u'dataType': u'bigint', u'summary': u'', u'remarks': u'', u'size': 8, u'class': u'', u'unit': u'', u'quantity': u''}, {u'name': u'spectroFluxIvar_z', u'dataType': u'real', u'summary': u'', u'remarks': u'', u'size': 4, u'class': u'', u'unit': u'', u'quantity': u''}, {u'name': u'fracNSigHi_9', u'dataType': u'real', u'summary': u'', u'remarks': u'', u'size': 4, u'class': u'', u'unit': u'', u'quantity': u''}, {u'name': u'elodieLogG', u'dataType': u'real', u'summary': u'', u'remarks': u'', u'size': 4, u'class': u'', u'unit': u'', u'quantity': u''}, {u'name': u'loadVersion', u'dataType': u'int', u'summary': u'', u'remarks': u'', u'size': 4, u'class': u'', u'unit': u'', u'quantity': u''}, {u'name': u'velDispNPix', u'dataType': u'int', u'summary': u'', u'remarks': u'', u'size': 4, u'class': u'', u'unit': u'', u'quantity': u''}, {u'name': u'tColumn_6', u'dataType': u'smallint', u'summary': u'', u'remarks': u'', u'size': 2, u'class': u'', u'unit': u'', u'quantity': u''}, {u'name': u'tColumn_0', u'dataType': u'smallint', u'summary': u'', u'remarks': u'', u'size': 2, u'class': u'', u'unit': u'', u'quantity': u''}, {u'name': u'zWarning_noqso', u'dataType': u'int', u'summary': u'', u'remarks': u'', u'size': 4, u'class': u'', u'unit': u'', u'quantity': u''}, {u'name': u'plateSN2', u'dataType': u'real', u'summary': u'', u'remarks': u'', u'size': 4, u'class': u'', u'unit': u'', u'quantity': u''}, {u'name': u'elodieZ', u'dataType': u'real', u'summary': u'', u'remarks': u'', u'size': 4, u'class': u'', u'unit': u'', u'quantity': u''}, {u'name': u'spectroSynFlux_z', u'dataType': u'real', u'summary': u'', u'remarks': u'', u'size': 4, u'class': u'', u'unit': u'', u'quantity': u''}, {u'name': u'fracNSigma_4', u'dataType': u'real', u'summary': u'', u'remarks': u'', u'size': 4, u'class': u'', u'unit': u'', u'quantity': u''}, {u'name': u'sn2_r', u'dataType': u'real', u'summary': u'', u'remarks': u'', u'size': 4, u'class': u'', u'unit': u'', u'quantity': u''}, {u'name': u'mjd', u'dataType': u'int', u'summary': u'', u'remarks': u'', u'size': 4, u'class': u'', u'unit': u'', u'quantity': u''}, {u'name': u'theta_4', u'dataType': u'real', u'summary': u'', u'remarks': u'', u'size': 4, u'class': u'', u'unit': u'', u'quantity': u''}, {u'name': u'run1d', u'dataType': u'varchar(32)', u'summary': u'', u'remarks': u'', u'size': 1, u'class': u'', u'unit': u'', u'quantity': u''}, {u'name': u'segue1_target1', u'dataType': u'bigint', u'summary': u'', u'remarks': u'', u'size': 8, u'class': u'', u'unit': u'', u'quantity': u''}, {u'name': u'sn2_g', u'dataType': u'real', u'summary': u'', u'remarks': u'', u'size': 4, u'class': u'', u'unit': u'', u'quantity': u''}, {u'name': u'snMedian_i', u'dataType': u'real', u'summary': u'', u'remarks': u'', u'size': 4, u'class': u'', u'unit': u'', u'quantity': u''}, {u'name': u'fracNSigma_1', u'dataType': u'real', u'summary': u'', u'remarks': u'', u'size': 4, u'class': u'', u'unit': u'', u'quantity': u''}, {u'name': u'tColumn_8', u'dataType': u'smallint', u'summary': u'', u'remarks': u'', u'size': 2, u'class': u'', u'unit': u'', u'quantity': u''}, {u'name': u'spectroFlux_i', u'dataType': u'real', u'summary': u'', u'remarks': u'', u'size': 4, u'class': u'', u'unit': u'', u'quantity': u''}, {u'name': u'theta_7', u'dataType': u'real', u'summary': u'', u'remarks': u'', u'size': 4, u'class': u'', u'unit': u'', u'quantity': u''}, {u'name': u'segue1_target2', u'dataType': u'bigint', u'summary': u'', u'remarks': u'', u'size': 8, u'class': u'', u'unit': u'', u'quantity': u''}, {u'name': u'elodieFileName', u'dataType': u'varchar(32)', u'summary': u'', u'remarks': u'', u'size': 1, u'class': u'', u'unit': u'', u'quantity': u''}, {u'name': u'velDisp', u'dataType': u'real', u'summary': u'', u'remarks': u'', u'size': 4, u'class': u'', u'unit': u'', u'quantity': u''}, {u'name': u'fracNSigma_2', u'dataType': u'real', u'summary': u'', u'remarks': u'', u'size': 4, u'class': u'', u'unit': u'', u'quantity': u''}, {u'name': u'spectroSynFluxIvar_u', u'dataType': u'real', u'summary': u'', u'remarks': u'', u'size': 4, u'class': u'', u'unit': u'', u'quantity': u''}, {u'name': u'fracNSigLo_6', u'dataType': u'real', u'summary': u'', u'remarks': u'', u'size': 4, u'class': u'', u'unit': u'', u'quantity': u''}, {u'name': u'snMedian_u', u'dataType': u'real', u'summary': u'', u'remarks': u'', u'size': 4, u'class': u'', u'unit': u'', u'quantity': u''}, {u'name': u'sourceType', u'dataType': u'varchar(128)', u'summary': u'', u'remarks': u'', u'size': 1, u'class': u'', u'unit': u'', u'quantity': u''}, {u'name': u'fracNSigHi_1', u'dataType': u'real', u'summary': u'', u'remarks': u'', u'size': 4, u'class': u'', u'unit': u'', u'quantity': u''}, {u'name': u'seguePrimary', u'dataType': u'smallint', u'summary': u'', u'remarks': u'', u'size': 2, u'class': u'', u'unit': u'', u'quantity': u''}, {u'name': u'elodieDOF', u'dataType': u'real', u'summary': u'', u'remarks': u'', u'size': 4, u'class': u'', u'unit': u'', u'quantity': u''}, {u'name': u'spectroFlux_u', u'dataType': u'real', u'summary': u'', u'remarks': u'', u'size': 4, u'class': u'', u'unit': u'', u'quantity': u''}, {u'name': u'ancillary_target1', u'dataType': u'bigint', u'summary': u'', u'remarks': u'', u'size': 8, u'class': u'', u'unit': u'', u'quantity': u''}, {u'name': u'tColumn_7', u'dataType': u'smallint', u'summary': u'', u'remarks': u'', u'size': 2, u'class': u'', u'unit': u'', u'quantity': u''}, {u'name': u'fracNSigLo_5', u'dataType': u'real', u'summary': u'', u'remarks': u'', u'size': 4, u'class': u'', u'unit': u'', u'quantity': u''}, {u'name': u'z_noqso', u'dataType': u'real', u'summary': u'', u'remarks': u'', u'size': 4, u'class': u'', u'unit': u'', u'quantity': u''}, {u'name': u'sn2_i', u'dataType': u'real', u'summary': u'', u'remarks': u'', u'size': 4, u'class': u'', u'unit': u'', u'quantity': u''}, {u'name': u'snMedian_z', u'dataType': u'real', u'summary': u'', u'remarks': u'', u'size': 4, u'class': u'', u'unit': u'', u'quantity': u''}, {u'name': u'spectroFluxIvar_u', u'dataType': u'real', u'summary': u'', u'remarks': u'', u'size': 4, u'class': u'', u'unit': u'', u'quantity': u''}, {u'name': u'tColumn_4', u'dataType': u'smallint', u'summary': u'', u'remarks': u'', u'size': 2, u'class': u'', u'unit': u'', u'quantity': u''}, {u'name': u'htmID', u'dataType': u'bigint', u'summary': u'', u'remarks': u'', u'size': 8, u'class': u'', u'unit': u'', u'quantity': u''}, {u'name': u'elodieTEff', u'dataType': u'real', u'summary': u'', u'remarks': u'', u'size': 4, u'class': u'', u'unit': u'', u'quantity': u''}, {u'name': u'rChi2Diff_noqso', u'dataType': u'real', u'summary': u'', u'remarks': u'', u'size': 4, u'class': u'', u'unit': u'', u'quantity': u''}, {u'name': u'blueFiber', u'dataType': u'int', u'summary': u'', u'remarks': u'', u'size': 4, u'class': u'', u'unit': u'', u'quantity': u''}, {u'name': u'elodieObject', u'dataType': u'varchar(32)', u'summary': u'', u'remarks': u'', u'size': 1, u'class': u'', u'unit': u'', u'quantity': u''}, {u'name': u'tColumn_9', u'dataType': u'smallint', u'summary': u'', u'remarks': u'', u'size': 2, u'class': u'', u'unit': u'', u'quantity': u''}, {u'name': u'spectroSkyFlux_z', u'dataType': u'real', u'summary': u'', u'remarks': u'', u'size': 4, u'class': u'', u'unit': u'', u'quantity': u''}, {u'name': u'velDispZ', u'dataType': u'real', u'summary': u'', u'remarks': u'', u'size': 4, u'class': u'', u'unit': u'', u'quantity': u''}, {u'name': u'rChi2', u'dataType': u'real', u'summary': u'', u'remarks': u'', u'size': 4, u'class': u'', u'unit': u'', u'quantity': u''}, {u'name': u'theta_6', u'dataType': u'real', u'summary': u'', u'remarks': u'', u'size': 4, u'class': u'', u'unit': u'', u'quantity': u''}, {u'name': u'theta_3', u'dataType': u'real', u'summary': u'', u'remarks': u'', u'size': 4, u'class': u'', u'unit': u'', u'quantity': u''}, {u'name': u'xFocal', u'dataType': u'real', u'summary': u'', u'remarks': u'', u'size': 4, u'class': u'', u'unit': u'', u'quantity': u''}, {u'name': u'programname', u'dataType': u'varchar(32)', u'summary': u'', u'remarks': u'', u'size': 1, u'class': u'', u'unit': u'', u'quantity': u''}, {u'name': u'fracNSigLo_9', u'dataType': u'real', u'summary': u'', u'remarks': u'', u'size': 4, u'class': u'', u'unit': u'', u'quantity': u''}, {u'name': u'fracNSigHi_2', u'dataType': u'real', u'summary': u'', u'remarks': u'', u'size': 4, u'class': u'', u'unit': u'', u'quantity': u''}, {u'name': u'theta_9', u'dataType': u'real', u'summary': u'', u'remarks': u'', u'size': 4, u'class': u'', u'unit': u'', u'quantity': u''}, {u'name': u'elodieRChi2', u'dataType': u'real', u'summary': u'', u'remarks': u'', u'size': 4, u'class': u'', u'unit': u'', u'quantity': u''}, {u'name': u'legacy_target1', u'dataType': u'bigint', u'summary': u'', u'remarks': u'', u'size': 8, u'class': u'', u'unit': u'', u'quantity': u''}, {u'name': u'class_person', u'dataType': u'varchar(32)', u'summary': u'', u'remarks': u'', u'size': 1, u'class': u'', u'unit': u'', u'quantity': u''}, {u'name': u'wCoverage', u'dataType': u'real', u'summary': u'', u'remarks': u'', u'size': 4, u'class': u'', u'unit': u'', u'quantity': u''}, {u'name': u'sdssPrimary', u'dataType': u'smallint', u'summary': u'', u'remarks': u'', u'size': 2, u'class': u'', u'unit': u'', u'quantity': u''}, {u'name': u'ancillary_target2', u'dataType': u'bigint', u'summary': u'', u'remarks': u'', u'size': 8, u'class': u'', u'unit': u'', u'quantity': u''}, {u'name': u'fracNSigLo_4', u'dataType': u'real', u'summary': u'', u'remarks': u'', u'size': 4, u'class': u'', u'unit': u'', u'quantity': u''}, {u'name': u'deredSN2', u'dataType': u'real', u'summary': u'', u'remarks': u'', u'size': 4, u'class': u'', u'unit': u'', u'quantity': u''}, {u'name': u'spectroFluxIvar_i', u'dataType': u'real', u'summary': u'', u'remarks': u'', u'size': 4, u'class': u'', u'unit': u'', u'quantity': u''}, {u'name': u'boss_target1', u'dataType': u'bigint', u'summary': u'', u'remarks': u'', u'size': 8, u'class': u'', u'unit': u'', u'quantity': u''}, {u'name': u'cy', u'dataType': u'float', u'summary': u'', u'remarks': u'', u'size': 8, u'class': u'', u'unit': u'', u'quantity': u''}, {u'name': u'elodieZModelErr', u'dataType': u'real', u'summary': u'', u'remarks': u'', u'size': 4, u'class': u'', u'unit': u'', u'quantity': u''}, {u'name': u'elodieSpType', u'dataType': u'varchar(32)', u'summary': u'', u'remarks': u'', u'size': 1, u'class': u'', u'unit': u'', u'quantity': u''}, {u'name': u'sn1_r', u'dataType': u'real', u'summary': u'', u'remarks': u'', u'size': 4, u'class': u'', u'unit': u'', u'quantity': u''}, {u'name': u'elodieZErr', u'dataType': u'real', u'summary': u'', u'remarks': u'', u'size': 4, u'class': u'', u'unit': u'', u'quantity': u''}, {u'name': u'fracNSigLo_3', u'dataType': u'real', u'summary': u'', u'remarks': u'', u'size': 4, u'class': u'', u'unit': u'', u'quantity': u''}, {u'name': u'tColumn_3', u'dataType': u'smallint', u'summary': u'', u'remarks': u'', u'size': 2, u'class': u'', u'unit': u'', u'quantity': u''}, {u'name': u'fracNSigHi_7', u'dataType': u'real', u'summary': u'', u'remarks': u'', u'size': 4, u'class': u'', u'unit': u'', u'quantity': u''}, {u'name': u'spectroSkyFlux_g', u'dataType': u'real', u'summary': u'', u'remarks': u'', u'size': 4, u'class': u'', u'unit': u'', u'quantity': u''}, {u'name': u'spectroSkyFlux_i', u'dataType': u'real', u'summary': u'', u'remarks': u'', u'size': 4, u'class': u'', u'unit': u'', u'quantity': u''}, {u'name': u'spectroSynFluxIvar_z', u'dataType': u'real', u'summary': u'', u'remarks': u'', u'size': 4, u'class': u'', u'unit': u'', u'quantity': u''}, {u'name': u'platerun', u'dataType': u'varchar(32)', u'summary': u'', u'remarks': u'', u'size': 1, u'class': u'', u'unit': u'', u'quantity': u''}, {u'name': u'subClass', u'dataType': u'varchar(32)', u'summary': u'', u'remarks': u'', u'size': 1, u'class': u'', u'unit': u'', u'quantity': u''}, {u'name': u'run2d', u'dataType': u'varchar(32)', u'summary': u'', u'remarks': u'', u'size': 1, u'class': u'', u'unit': u'', u'quantity': u''}, {u'name': u'zErr', u'dataType': u'real', u'summary': u'', u'remarks': u'', u'size': 4, u'class': u'', u'unit': u'', u'quantity': u''}, {u'name': u'theta_5', u'dataType': u'real', u'summary': u'', u'remarks': u'', u'size': 4, u'class': u'', u'unit': u'', u'quantity': u''}, {u'name': u'elodieFeH', u'dataType': u'real', u'summary': u'', u'remarks': u'', u'size': 4, u'class': u'', u'unit': u'', u'quantity': u''}, {u'name': u'theta_2', u'dataType': u'real', u'summary': u'', u'remarks': u'', u'size': 4, u'class': u'', u'unit': u'', u'quantity': u''}, {u'name': u'designID', u'dataType': u'int', u'summary': u'', u'remarks': u'', u'size': 4, u'class': u'', u'unit': u'', u'quantity': u''}, {u'name': u'chunk', u'dataType': u'varchar(32)', u'summary': u'', u'remarks': u'', u'size': 1, u'class': u'', u'unit': u'', u'quantity': u''}, {u'name': u'rChi2Diff', u'dataType': u'real', u'summary': u'', u'remarks': u'', u'size': 4, u'class': u'', u'unit': u'', u'quantity': u''}, {u'name': u'fracNSigLo_8', u'dataType': u'real', u'summary': u'', u'remarks': u'', u'size': 4, u'class': u'', u'unit': u'', u'quantity': u''}, {u'name': u'bossPrimary', u'dataType': u'smallint', u'summary': u'', u'remarks': u'', u'size': 2, u'class': u'', u'unit': u'', u'quantity': u''}, {u'name': u'class_noqso', u'dataType': u'varchar(32)', u'summary': u'', u'remarks': u'', u'size': 1, u'class': u'', u'unit': u'', u'quantity': u''}, {u'name': u'fracNSigHi_3', u'dataType': u'real', u'summary': u'', u'remarks': u'', u'size': 4, u'class': u'', u'unit': u'', u'quantity': u''}, {u'name': u'theta_8', u'dataType': u'real', u'summary': u'', u'remarks': u'', u'size': 4, u'class': u'', u'unit': u'', u'quantity': u''}, {u'name': u'cx', u'dataType': u'float', u'summary': u'', u'remarks': u'', u'size': 8, u'class': u'', u'unit': u'', u'quantity': u''}, {u'name': u'anyOrMask', u'dataType': u'int', u'summary': u'', u'remarks': u'', u'size': 4, u'class': u'', u'unit': u'', u'quantity': u''}, {u'name': u'secTarget', u'dataType': u'bigint', u'summary': u'', u'remarks': u'', u'size': 8, u'class': u'', u'unit': u'', u'quantity': u''}, {u'name': u'fracNSigLo_10', u'dataType': u'real', u'summary': u'', u'remarks': u'', u'size': 4, u'class': u'', u'unit': u'', u'quantity': u''}, {u'name': u'bestObjID', u'dataType': u'bigint', u'summary': u'', u'remarks': u'', u'size': 8, u'class': u'', u'unit': u'', u'quantity': u''}, {u'name': u'fracNSigma_10', u'dataType': u'real', u'summary': u'', u'remarks': u'', u'size': 4, u'class': u'', u'unit': u'', u'quantity': u''}, {u'name': u'fiberID', u'dataType': u'smallint', u'summary': u'', u'remarks': u'', u'size': 2, u'class': u'', u'unit': u'', u'quantity': u''}, {u'name': u'zErr_noqso', u'dataType': u'real', u'summary': u'', u'remarks': u'', u'size': 4, u'class': u'', u'unit': u'', u'quantity': u''}, {u'name': u'tFile', u'dataType': u'varchar(32)', u'summary': u'', u'remarks': u'', u'size': 1, u'class': u'', u'unit': u'', u'quantity': u''}, {u'name': u'fracNSigLo_7', u'dataType': u'real', u'summary': u'', u'remarks': u'', u'size': 4, u'class': u'', u'unit': u'', u'quantity': u''}, {u'name': u'snMedian_r', u'dataType': u'real', u'summary': u'', u'remarks': u'', u'size': 4, u'class': u'', u'unit': u'', u'quantity': u''}, {u'name': u'velDispErr', u'dataType': u'real', u'summary': u'', u'remarks': u'', u'size': 4, u'class': u'', u'unit': u'', u'quantity': u''}, {u'name': u'spectrographID', u'dataType': u'smallint', u'summary': u'', u'remarks': u'', u'size': 2, u'class': u'', u'unit': u'', u'quantity': u''}, {u'name': u'zWarning', u'dataType': u'int', u'summary': u'', u'remarks': u'', u'size': 4, u'class': u'', u'unit': u'', u'quantity': u''}, {u'name': u'sn1_i', u'dataType': u'real', u'summary': u'', u'remarks': u'', u'size': 4, u'class': u'', u'unit': u'', u'quantity': u''}, {u'name': u'plateID', u'dataType': u'bigint', u'summary': u'', u'remarks': u'', u'size': 8, u'class': u'', u'unit': u'', u'quantity': u''}]}, {u'name': u'webuser.NewTableFromDataFrame22', u'summary': u'', u'example': u'', u'remarks': u'', u'class': u'', u'columns': [{u'name': u'specobjid', u'dataType': u'bigint', u'summary': u'', u'remarks': u'', u'size': 8, u'class': u'', u'unit': u'', u'quantity': u''}, {u'name': u'ra', u'dataType': u'real', u'summary': u'', u'remarks': u'', u'size': 4, u'class': u'', u'unit': u'', u'quantity': u''}, {u'name': u'dec', u'dataType': u'real', u'summary': u'', u'remarks': u'', u'size': 4, u'class': u'', u'unit': u'', u'quantity': u''}]}, {u'name': u'webuser.testTable2', u'summary': u'', u'example': u'', u'remarks': u'', u'class': u'', u'columns': [{u'name': u'Column2', u'dataType': u'tinyint', u'summary': u'', u'remarks': u'', u'size': 1, u'class': u'', u'unit': u'', u'quantity': u''}, {u'name': u'Column1', u'dataType': u'tinyint', u'summary': u'', u'remarks': u'', u'size': 1, u'class': u'', u'unit': u'', u'quantity': u''}]}, {u'name': u'webuser.Results', u'summary': u'', u'example': u'', u'remarks': u'', u'class': u'', u'columns': [{u'name': u'Col_0', u'dataType': u'int', u'summary': u'', u'remarks': u'', u'size': 4, u'class': u'', u'unit': u'', u'quantity': u''}]}, {u'name': u'webuser.MyNewtable3', u'summary': u'', u'example': u'', u'remarks': u'', u'class': u'', u'columns': [{u'name': u'fiberid', u'dataType': u'smallint', u'summary': u'', u'remarks': u'', u'size': 2, u'class': u'', u'unit': u'', u'quantity': u''}, {u'name': u'redshift', u'dataType': u'real', u'summary': u'', u'remarks': u'', u'size': 4, u'class': u'', u'unit': u'', u'quantity': u''}, {u'name': u'run', u'dataType': u'tinyint', u'summary': u'', u'remarks': u'', u'size': 1, u'class': u'', u'unit': u'', u'quantity': u''}, {u'name': u'u', u'dataType': u'real', u'summary': u'', u'remarks': u'', u'size': 4, u'class': u'', u'unit': u'', u'quantity': u''}, {u'name': u'camcol', u'dataType': u'tinyint', u'summary': u'', u'remarks': u'', u'size': 1, u'class': u'', u'unit': u'', u'quantity': u''}, {u'name': u'specobjid', u'dataType': u'bigint', u'summary': u'', u'remarks': u'', u'size': 8, u'class': u'', u'unit': u'', u'quantity': u''}, {u'name': u'rerun', u'dataType': u'smallint', u'summary': u'', u'remarks': u'', u'size': 2, u'class': u'', u'unit': u'', u'quantity': u''}, {u'name': u'class', u'dataType': u'varchar(max)', u'summary': u'', u'remarks': u'', u'size': 1, u'class': u'', u'unit': u'', u'quantity': u''}, {u'name': u'ra', u'dataType': u'real', u'summary': u'', u'remarks': u'', u'size': 4, u'class': u'', u'unit': u'', u'quantity': u''}, {u'name': u'z', u'dataType': u'real', u'summary': u'', u'remarks': u'', u'size': 4, u'class': u'', u'unit': u'', u'quantity': u''}, {u'name': u'g', u'dataType': u'real', u'summary': u'', u'remarks': u'', u'size': 4, u'class': u'', u'unit': u'', u'quantity': u''}, {u'name': u'objid', u'dataType': u'bigint', u'summary': u'', u'remarks': u'', u'size': 8, u'class': u'', u'unit': u'', u'quantity': u''}, {u'name': u'field', u'dataType': u'smallint', u'summary': u'', u'remarks': u'', u'size': 2, u'class': u'', u'unit': u'', u'quantity': u''}, {u'name': u'dec', u'dataType': u'real', u'summary': u'', u'remarks': u'', u'size': 4, u'class': u'', u'unit': u'', u'quantity': u''}, {u'name': u'mjd', u'dataType': u'int', u'summary': u'', u'remarks': u'', u'size': 4, u'class': u'', u'unit': u'', u'quantity': u''}, {u'name': u'r', u'dataType': u'real', u'summary': u'', u'remarks': u'', u'size': 4, u'class': u'', u'unit': u'', u'quantity': u''}, {u'name': u'plate', u'dataType': u'smallint', u'summary': u'', u'remarks': u'', u'size': 2, u'class': u'', u'unit': u'', u'quantity': u''}, {u'name': u'i', u'dataType': u'real', u'summary': u'', u'remarks': u'', u'size': 4, u'class': u'', u'unit': u'', u'quantity': u''}]}, {u'name': u'webuser.myTablecdcc', u'summary': u'', u'example': u'', u'remarks': u'', u'class': u'', u'columns': [{u'name': u'Column2', u'dataType': u'float', u'summary': u'', u'remarks': u'', u'size': 8, u'class': u'', u'unit': u'', u'quantity': u''}, {u'name': u'ID', u'dataType': u'bigint', u'summary': u'', u'remarks': u'', u'size': 8, u'class': u'', u'unit': u'', u'quantity': u''}, {u'name': u'Column1', u'dataType': u'float', u'summary': u'', u'remarks': u'', u'size': 8, u'class': u'', u'unit': u'', u'quantity': u''}]}, {u'name': u'webuser.myTablez2', u'summary': u'', u'example': u'', u'remarks': u'', u'class': u'', u'columns': [{u'name': u'ID', u'dataType': u'bigint', u'summary': u'', u'remarks': u'', u'size': 8, u'class': u'', u'unit': u'', u'quantity': u''}, {u'name': u'Column1,Column2', u'dataType': u'nvarchar(7)', u'summary': u'', u'remarks': u'', u'size': 2, u'class': u'', u'unit': u'', u'quantity': u''}]}, {u'name': u'webuser.MyCsvTable3', u'summary': u'', u'example': u'', u'remarks': u'', u'class': u'', u'columns': [{u'name': u'a', u'dataType': u'tinyint', u'summary': u'', u'remarks': u'', u'size': 1, u'class': u'', u'unit': u'', u'quantity': u''}, {u'name': u'v', u'dataType': u'tinyint', u'summary': u'', u'remarks': u'', u'size': 1, u'class': u'', u'unit': u'', u'quantity': u''}]}, {u'name': u'webuser.NewTableFromDataFrame2', u'summary': u'', u'example': u'', u'remarks': u'', u'class': u'', u'columns': [{u'name': u'specobjid', u'dataType': u'bigint', u'summary': u'', u'remarks': u'', u'size': 8, u'class': u'', u'unit': u'', u'quantity': u''}, {u'name': u'ra', u'dataType': u'real', u'summary': u'', u'remarks': u'', u'size': 4, u'class': u'', u'unit': u'', u'quantity': u''}, {u'name': u'dec', u'dataType': u'real', u'summary': u'', u'remarks': u'', u'size': 4, u'class': u'', u'unit': u'', u'quantity': u''}]}, {u'name': u'webuser.MyTable_1', u'summary': u'', u'example': u'', u'remarks': u'', u'class': u'', u'columns': [{u'name': u'fiberid', u'dataType': u'smallint', u'summary': u'', u'remarks': u'', u'size': 2, u'class': u'', u'unit': u'', u'quantity': u''}, {u'name': u'redshift', u'dataType': u'real', u'summary': u'', u'remarks': u'', u'size': 4, u'class': u'', u'unit': u'', u'quantity': u''}, {u'name': u'run', u'dataType': u'smallint', u'summary': u'', u'remarks': u'', u'size': 2, u'class': u'', u'unit': u'', u'quantity': u''}, {u'name': u'u', u'dataType': u'real', u'summary': u'', u'remarks': u'', u'size': 4, u'class': u'', u'unit': u'', u'quantity': u''}, {u'name': u'camcol', u'dataType': u'tinyint', u'summary': u'', u'remarks': u'', u'size': 1, u'class': u'', u'unit': u'', u'quantity': u''}, {u'name': u'specobjid', u'dataType': u'bigint', u'summary': u'', u'remarks': u'', u'size': 8, u'class': u'', u'unit': u'', u'quantity': u''}, {u'name': u'rerun', u'dataType': u'smallint', u'summary': u'', u'remarks': u'', u'size': 2, u'class': u'', u'unit': u'', u'quantity': u''}, {u'name': u'class', u'dataType': u'varchar(32)', u'summary': u'', u'remarks': u'', u'size': 1, u'class': u'', u'unit': u'', u'quantity': u''}, {u'name': u'ra', u'dataType': u'float', u'summary': u'', u'remarks': u'', u'size': 8, u'class': u'', u'unit': u'', u'quantity': u''}, {u'name': u'z', u'dataType': u'real', u'summary': u'', u'remarks': u'', u'size': 4, u'class': u'', u'unit': u'', u'quantity': u''}, {u'name': u'g', u'dataType': u'real', u'summary': u'', u'remarks': u'', u'size': 4, u'class': u'', u'unit': u'', u'quantity': u''}, {u'name': u'objid', u'dataType': u'bigint', u'summary': u'', u'remarks': u'', u'size': 8, u'class': u'', u'unit': u'', u'quantity': u''}, {u'name': u'field', u'dataType': u'smallint', u'summary': u'', u'remarks': u'', u'size': 2, u'class': u'', u'unit': u'', u'quantity': u''}, {u'name': u'dec', u'dataType': u'float', u'summary': u'', u'remarks': u'', u'size': 8, u'class': u'', u'unit': u'', u'quantity': u''}, {u'name': u'mjd', u'dataType': u'int', u'summary': u'', u'remarks': u'', u'size': 4, u'class': u'', u'unit': u'', u'quantity': u''}, {u'name': u'r', u'dataType': u'real', u'summary': u'', u'remarks': u'', u'size': 4, u'class': u'', u'unit': u'', u'quantity': u''}, {u'name': u'plate', u'dataType': u'smallint', u'summary': u'', u'remarks': u'', u'size': 2, u'class': u'', u'unit': u'', u'quantity': u''}, {u'name': u'i', u'dataType': u'real', u'summary': u'', u'remarks': u'', u'size': 4, u'class': u'', u'unit': u'', u'quantity': u''}]}, {u'name': u'webuser.myTable2', u'summary': u'', u'example': u'', u'remarks': u'', u'class': u'', u'columns': [{u'name': u'ID', u'dataType': u'bigint', u'summary': u'', u'remarks': u'', u'size': 8, u'class': u'', u'unit': u'', u'quantity': u''}, {u'name': u'Column1,Column2', u'dataType': u'datetime2', u'summary': u'', u'remarks': u'', u'size': 8, u'class': u'', u'unit': u'', u'quantity': u''}]}, {u'name': u'webuser.myTable21', u'summary': u'', u'example': u'', u'remarks': u'', u'class': u'', u'columns': [{u'name': u'ID', u'dataType': u'bigint', u'summary': u'', u'remarks': u'', u'size': 8, u'class': u'', u'unit': u'', u'quantity': u''}, {u'name': u'Column1,Column2', u'dataType': u'nvarchar(7)', u'summary': u'', u'remarks': u'', u'size': 2, u'class': u'', u'unit': u'', u'quantity': u''}]}, {u'name': u'webuser.crossid', u'summary': u'', u'example': u'', u'remarks': u'', u'class': u'', u'columns': [{u'name': u'modelMag_g', u'dataType': u'real', u'summary': u'', u'remarks': u'', u'size': 4, u'class': u'', u'unit': u'', u'quantity': u''}, {u'name': u'run', u'dataType': u'smallint', u'summary': u'', u'remarks': u'', u'size': 2, u'class': u'', u'unit': u'', u'quantity': u''}, {u'name': u'modelMag_z', u'dataType': u'real', u'summary': u'', u'remarks': u'', u'size': 4, u'class': u'', u'unit': u'', u'quantity': u''}, {u'name': u'camcol', u'dataType': u'tinyint', u'summary': u'', u'remarks': u'', u'size': 1, u'class': u'', u'unit': u'', u'quantity': u''}, {u'name': u'type', u'dataType': u'varchar(max)', u'summary': u'', u'remarks': u'', u'size': 1, u'class': u'', u'unit': u'', u'quantity': u''}, {u'name': u'objID1', u'dataType': u'bigint', u'summary': u'', u'remarks': u'', u'size': 8, u'class': u'', u'unit': u'', u'quantity': u''}, {u'name': u'modelMag_u', u'dataType': u'real', u'summary': u'', u'remarks': u'', u'size': 4, u'class': u'', u'unit': u'', u'quantity': u''}, {u'name': u'modelMag_r', u'dataType': u'real', u'summary': u'', u'remarks': u'', u'size': 4, u'class': u'', u'unit': u'', u'quantity': u''}, {u'name': u'rerun', u'dataType': u'smallint', u'summary': u'', u'remarks': u'', u'size': 2, u'class': u'', u'unit': u'', u'quantity': u''}, {u'name': u'ra', u'dataType': u'real', u'summary': u'', u'remarks': u'', u'size': 4, u'class': u'', u'unit': u'', u'quantity': u''}, {u'name': u'objid', u'dataType': u'bigint', u'summary': u'', u'remarks': u'', u'size': 8, u'class': u'', u'unit': u'', u'quantity': u''}, {u'name': u'field', u'dataType': u'tinyint', u'summary': u'', u'remarks': u'', u'size': 1, u'class': u'', u'unit': u'', u'quantity': u''}, {u'name': u'dec', u'dataType': u'real', u'summary': u'', u'remarks': u'', u'size': 4, u'class': u'', u'unit': u'', u'quantity': u''}, {u'name': u'modelMag_i', u'dataType': u'real', u'summary': u'', u'remarks': u'', u'size': 4, u'class': u'', u'unit': u'', u'quantity': u''}]}, {u'name': u'webuser.Table_20160809_090936_735', u'summary': u'', u'example': u'', u'remarks': u'', u'class': u'', u'columns': [{u'name': u'fe2', u'dataType': u'bit', u'summary': u'', u'remarks': u'', u'size': 1, u'class': u'', u'unit': u'', u'quantity': u''}, {u'name': u'dd2', u'dataType': u'varchar(max)', u'summary': u'', u'remarks': u'', u'size': 1, u'class': u'', u'unit': u'', u'quantity': u''}, {u'name': u'dd', u'dataType': u'bit', u'summary': u'', u'remarks': u'', u'size': 1, u'class': u'', u'unit': u'', u'quantity': u''}]}, {u'name': u'webuser.myTablez247', u'summary': u'', u'example': u'', u'remarks': u'', u'class': u'', u'columns': [{u'name': u'ID', u'dataType': u'bigint', u'summary': u'', u'remarks': u'', u'size': 8, u'class': u'', u'unit': u'', u'quantity': u''}, {u'name': u'col1', u'dataType': u'float', u'summary': u'', u'remarks': u'', u'size': 8, u'class': u'', u'unit': u'', u'quantity': u''}, {u'name': u'col2', u'dataType': u'float', u'summary': u'', u'remarks': u'', u'size': 8, u'class': u'', u'unit': u'', u'quantity': u''}]}, {u'name': u'webuser.TestTable_SciScript_R', u'summary': u'', u'example': u'', u'remarks': u'', u'class': u'', u'columns': [{u'name': u'Column2', u'dataType': u'float', u'summary': u'', u'remarks': u'', u'size': 8, u'class': u'', u'unit': u'', u'quantity': u''}, {u'name': u'ID', u'dataType': u'bigint', u'summary': u'', u'remarks': u'', u'size': 8, u'class': u'', u'unit': u'', u'quantity': u''}, {u'name': u'Column1', u'dataType': u'float', u'summary': u'', u'remarks': u'', u'size': 8, u'class': u'', u'unit': u'', u'quantity': u''}]}, {u'name': u'webuser.dw1', u'summary': u'', u'example': u'', u'remarks': u'', u'class': u'', u'columns': [{u'name': u'foo', u'dataType': u'int', u'summary': u'', u'remarks': u'', u'size': 4, u'class': u'', u'unit': u'', u'quantity': u''}]}, {u'name': u'webuser.TestTableSciScriptR2', u'summary': u'', u'example': u'', u'remarks': u'', u'class': u'', u'columns': [{u'name': u'Column2', u'dataType': u'float', u'summary': u'', u'remarks': u'', u'size': 8, u'class': u'', u'unit': u'', u'quantity': u''}, {u'name': u'ID', u'dataType': u'bigint', u'summary': u'', u'remarks': u'', u'size': 8, u'class': u'', u'unit': u'', u'quantity': u''}, {u'name': u'Column1', u'dataType': u'float', u'summary': u'', u'remarks': u'', u'size': 8, u'class': u'', u'unit': u'', u'quantity': u''}]}, {u'name': u'webuser.Results_5', u'summary': u'', u'example': u'', u'remarks': u'', u'class': u'', u'columns': [{u'name': u'Column2', u'dataType': u'decimal', u'summary': u'', u'remarks': u'', u'size': 16, u'class': u'', u'unit': u'', u'quantity': u''}, {u'name': u'Column1', u'dataType': u'decimal', u'summary': u'', u'remarks': u'', u'size': 16, u'class': u'', u'unit': u'', u'quantity': u''}]}, {u'name': u'webuser.testTable3', u'summary': u'', u'example': u'', u'remarks': u'', u'class': u'', u'columns': [{u'name': u'Column2', u'dataType': u'tinyint', u'summary': u'', u'remarks': u'', u'size': 1, u'class': u'', u'unit': u'', u'quantity': u''}]}, {u'name': u'webuser.sdssObjects', u'summary': u'', u'example': u'', u'remarks': u'', u'class': u'', u'columns': [{u'name': u'fiberid', u'dataType': u'smallint', u'summary': u'', u'remarks': u'', u'size': 2, u'class': u'', u'unit': u'', u'quantity': u''}, {u'name': u'redshift', u'dataType': u'real', u'summary': u'', u'remarks': u'', u'size': 4, u'class': u'', u'unit': u'', u'quantity': u''}, {u'name': u'run', u'dataType': u'tinyint', u'summary': u'', u'remarks': u'', u'size': 1, u'class': u'', u'unit': u'', u'quantity': u''}, {u'name': u'u', u'dataType': u'real', u'summary': u'', u'remarks': u'', u'size': 4, u'class': u'', u'unit': u'', u'quantity': u''}, {u'name': u'camcol', u'dataType': u'tinyint', u'summary': u'', u'remarks': u'', u'size': 1, u'class': u'', u'unit': u'', u'quantity': u''}, {u'name': u'specobjid', u'dataType': u'bigint', u'summary': u'', u'remarks': u'', u'size': 8, u'class': u'', u'unit': u'', u'quantity': u''}, {u'name': u'rerun', u'dataType': u'smallint', u'summary': u'', u'remarks': u'', u'size': 2, u'class': u'', u'unit': u'', u'quantity': u''}, {u'name': u'class', u'dataType': u'varchar(max)', u'summary': u'', u'remarks': u'', u'size': 1, u'class': u'', u'unit': u'', u'quantity': u''}, {u'name': u'ra', u'dataType': u'real', u'summary': u'', u'remarks': u'', u'size': 4, u'class': u'', u'unit': u'', u'quantity': u''}, {u'name': u'z', u'dataType': u'real', u'summary': u'', u'remarks': u'', u'size': 4, u'class': u'', u'unit': u'', u'quantity': u''}, {u'name': u'g', u'dataType': u'real', u'summary': u'', u'remarks': u'', u'size': 4, u'class': u'', u'unit': u'', u'quantity': u''}, {u'name': u'objid', u'dataType': u'bigint', u'summary': u'', u'remarks': u'', u'size': 8, u'class': u'', u'unit': u'', u'quantity': u''}, {u'name': u'field', u'dataType': u'smallint', u'summary': u'', u'remarks': u'', u'size': 2, u'class': u'', u'unit': u'', u'quantity': u''}, {u'name': u'dec', u'dataType': u'real', u'summary': u'', u'remarks': u'', u'size': 4, u'class': u'', u'unit': u'', u'quantity': u''}, {u'name': u'mjd', u'dataType': u'int', u'summary': u'', u'remarks': u'', u'size': 4, u'class': u'', u'unit': u'', u'quantity': u''}, {u'name': u'r', u'dataType': u'real', u'summary': u'', u'remarks': u'', u'size': 4, u'class': u'', u'unit': u'', u'quantity': u''}, {u'name': u'plate', u'dataType': u'smallint', u'summary': u'', u'remarks': u'', u'size': 2, u'class': u'', u'unit': u'', u'quantity': u''}, {u'name': u'i', u'dataType': u'real', u'summary': u'', u'remarks': u'', u'size': 4, u'class': u'', u'unit': u'', u'quantity': u''}]}, {u'name': u'webuser.Table_20160805_175010_984', u'summary': u'', u'example': u'', u'remarks': u'', u'class': u'', u'columns': [{u'name': u'ra', u'dataType': u'real', u'summary': u'', u'remarks': u'', u'size': 4, u'class': u'', u'unit': u'', u'quantity': u''}, {u'name': u'dec', u'dataType': u'real', u'summary': u'', u'remarks': u'', u'size': 4, u'class': u'', u'unit': u'', u'quantity': u''}]}, {u'name': u'webuser.myTable21ZA', u'summary': u'', u'example': u'', u'remarks': u'', u'class': u'', u'columns': [{u'name': u'Column2', u'dataType': u'float', u'summary': u'', u'remarks': u'', u'size': 8, u'class': u'', u'unit': u'', u'quantity': u''}, {u'name': u'ID', u'dataType': u'bigint', u'summary': u'', u'remarks': u'', u'size': 8, u'class': u'', u'unit': u'', u'quantity': u''}, {u'name': u'Column1', u'dataType': u'float', u'summary': u'', u'remarks': u'', u'size': 8, u'class': u'', u'unit': u'', u'quantity': u''}]}, {u'name': u'webuser.myTablez245', u'summary': u'', u'example': u'', u'remarks': u'', u'class': u'', u'columns': [{u'name': u'ID', u'dataType': u'bigint', u'summary': u'', u'remarks': u'', u'size': 8, u'class': u'', u'unit': u'', u'quantity': u''}, {u'name': u'Column1,Column2', u'dataType': u'nvarchar(7)', u'summary': u'', u'remarks': u'', u'size': 2, u'class': u'', u'unit': u'', u'quantity': u''}]}, {u'name': u'webuser.NewTableFromDataFrame256', u'summary': u'', u'example': u'', u'remarks': u'', u'class': u'', u'columns': [{u'name': u'Column2', u'dataType': u'tinyint', u'summary': u'', u'remarks': u'', u'size': 1, u'class': u'', u'unit': u'', u'quantity': u''}, {u'name': u'Column1', u'dataType': u'bit', u'summary': u'', u'remarks': u'', u'size': 1, u'class': u'', u'unit': u'', u'quantity': u''}]}, {u'name': u'webuser.myTabledsdd', u'summary': u'', u'example': u'', u'remarks': u'', u'class': u'', u'columns': [{u'name': u'Column2', u'dataType': u'float', u'summary': u'', u'remarks': u'', u'size': 8, u'class': u'', u'unit': u'', u'quantity': u''}, {u'name': u'ID', u'dataType': u'bigint', u'summary': u'', u'remarks': u'', u'size': 8, u'class': u'', u'unit': u'', u'quantity': u''}, {u'name': u'Column1', u'dataType': u'float', u'summary': u'', u'remarks': u'', u'size': 8, u'class': u'', u'unit': u'', u'quantity': u''}]}, {u'name': u'webuser.myTestTable', u'summary': u'', u'example': u'', u'remarks': u'', u'class': u'', u'columns': [{u'name': u'Column2', u'dataType': u'int', u'summary': u'', u'remarks': u'', u'size': 4, u'class': u'', u'unit': u'', u'quantity': u''}, {u'name': u'Column1', u'dataType': u'int', u'summary': u'', u'remarks': u'', u'size': 4, u'class': u'', u'unit': u'', u'quantity': u''}]}, {u'name': u'webuser.testTable1', u'summary': u'', u'example': u'', u'remarks': u'', u'class': u'', u'columns': [{u'name': u'Column2', u'dataType': u'tinyint', u'summary': u'', u'remarks': u'', u'size': 1, u'class': u'', u'unit': u'', u'quantity': u''}, {u'name': u'Column1', u'dataType': u'tinyint', u'summary': u'', u'remarks': u'', u'size': 1, u'class': u'', u'unit': u'', u'quantity': u''}]}, {u'name': u'webuser.mmj2', u'summary': u'', u'example': u'', u'remarks': u'', u'class': u'', u'columns': [{u'name': u'ff', u'dataType': u'int', u'summary': u'', u'remarks': u'', u'size': 4, u'class': u'', u'unit': u'', u'quantity': u''}]}, {u'name': u'webuser.MyTB', u'summary': u'', u'example': u'', u'remarks': u'', u'class': u'', u'columns': [{u'name': u'1', u'dataType': u'datetime', u'summary': u'', u'remarks': u'', u'size': 8, u'class': u'', u'unit': u'', u'quantity': u''}, {u'name': u'2', u'dataType': u'datetime', u'summary': u'', u'remarks': u'', u'size': 8, u'class': u'', u'unit': u'', u'quantity': u''}]}, {u'name': u'webuser.myTablez3', u'summary': u'', u'example': u'', u'remarks': u'', u'class': u'', u'columns': [{u'name': u'ID', u'dataType': u'bigint', u'summary': u'', u'remarks': u'', u'size': 8, u'class': u'', u'unit': u'', u'quantity': u''}, {u'name': u'Column1,Column2', u'dataType': u'nvarchar(7)', u'summary': u'', u'remarks': u'', u'size': 2, u'class': u'', u'unit': u'', u'quantity': u''}]}]\n"
     ]
    }
   ],
   "source": [
    "#list tables inside dataset\n",
    "\n",
    "tables = SkyQuery.listDatasetTables(\"MyDB\")\n",
    "print(tables)"
   ]
  },
  {
   "cell_type": "code",
   "execution_count": 70,
   "metadata": {
    "collapsed": false
   },
   "outputs": [
    {
     "name": "stdout",
     "output_type": "stream",
     "text": [
      "{u'name': u'webuser.TestTable_SciScript_R', u'summary': u'', u'example': u'', u'remarks': u'', u'class': u'', u'columns': [{u'name': u'Column2', u'dataType': u'float', u'summary': u'', u'remarks': u'', u'size': 8, u'class': u'', u'unit': u'', u'quantity': u''}, {u'name': u'ID', u'dataType': u'bigint', u'summary': u'', u'remarks': u'', u'size': 8, u'class': u'', u'unit': u'', u'quantity': u''}, {u'name': u'Column1', u'dataType': u'float', u'summary': u'', u'remarks': u'', u'size': 8, u'class': u'', u'unit': u'', u'quantity': u''}]}\n"
     ]
    }
   ],
   "source": [
    "#get dataset table info:\n",
    "\n",
    "info = SkyQuery.getTableInfo(tableName=\"webuser.\" + SkyQuery_TestTableName, datasetName=\"MyDB\")\n",
    "print(info)"
   ]
  },
  {
   "cell_type": "code",
   "execution_count": 71,
   "metadata": {
    "collapsed": false
   },
   "outputs": [
    {
     "name": "stdout",
     "output_type": "stream",
     "text": [
      "[{u'name': u'Column1', u'dataType': u'float', u'summary': u'', u'remarks': u'', u'size': 8, u'class': u'', u'unit': u'', u'quantity': u''}, {u'name': u'Column2', u'dataType': u'float', u'summary': u'', u'remarks': u'', u'size': 8, u'class': u'', u'unit': u'', u'quantity': u''}, {u'name': u'ID', u'dataType': u'bigint', u'summary': u'', u'remarks': u'', u'size': 8, u'class': u'', u'unit': u'', u'quantity': u''}]\n"
     ]
    }
   ],
   "source": [
    "#get dataset table columns info\n",
    "\n",
    "columns = SkyQuery.listTableColumns(tableName=\"webuser.\" + SkyQuery_TestTableName, datasetName=\"MyDB\")\n",
    "print(columns)"
   ]
  },
  {
   "cell_type": "code",
   "execution_count": 72,
   "metadata": {
    "collapsed": false
   },
   "outputs": [
    {
     "name": "stdout",
     "output_type": "stream",
     "text": [
      "True\n"
     ]
    }
   ],
   "source": [
    "#drop (or delete) table from dataset.\n",
    "\n",
    "result = SkyQuery.dropTable(tableName=SkyQuery_TestTableName, datasetName=\"MyDB\");\n",
    "print(result)"
   ]
  }
 ],
 "metadata": {
  "kernelspec": {
   "display_name": "Python 2",
   "language": "python",
   "name": "python2"
  },
  "language_info": {
   "codemirror_mode": {
    "name": "ipython",
    "version": 2
   },
   "file_extension": ".py",
   "mimetype": "text/x-python",
   "name": "python",
   "nbconvert_exporter": "python",
   "pygments_lexer": "ipython2",
   "version": "2.7.6"
  }
 },
 "nbformat": 4,
 "nbformat_minor": 0
}
