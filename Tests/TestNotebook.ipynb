{
 "cells": [
  {
   "cell_type": "code",
   "execution_count": null,
   "metadata": {
    "collapsed": true
   },
   "outputs": [],
   "source": [
    "import time;\n",
    "import random;\n",
    "import os;\n",
    "from datetime import datetime\n"
   ]
  },
  {
   "cell_type": "code",
   "execution_count": null,
   "metadata": {
    "collapsed": false
   },
   "outputs": [],
   "source": [
    "print(str(datetime.now()))\n",
    "\n",
    "# sleep times.\n",
    "sleepTime1 = 5;#5sec\n",
    "sleepTime2 = 300;#5min\n",
    "sleepTime3 = 3900;#1h5min, thought for testing the case of a job timeout of 1hr.\n",
    "#rand = random.random();\n",
    "rand = 0;#force fixed sleepTime   \n",
    "print(\"rand=\" + str(rand))"
   ]
  },
  {
   "cell_type": "code",
   "execution_count": null,
   "metadata": {
    "collapsed": false
   },
   "outputs": [],
   "source": [
    "now = str(datetime.now());\n",
    "print(now  + \" Starting Notebook execution...\")\n",
    "os.system(\"echo '\" + now + \" Starting Notebook execution...'\")"
   ]
  },
  {
   "cell_type": "code",
   "execution_count": null,
   "metadata": {
    "collapsed": true
   },
   "outputs": [],
   "source": [
    "if rand < 0.3:\n",
    "    time.sleep(sleepTime1);\n",
    "elif rand >= 0.3 and rand < 0.6:\n",
    "    time.sleep(sleepTime2);\n",
    "else:\n",
    "    time.sleep(sleepTime3);"
   ]
  },
  {
   "cell_type": "code",
   "execution_count": null,
   "metadata": {
    "collapsed": false
   },
   "outputs": [],
   "source": [
    "now = str(datetime.now());\n",
    "print(now  + \" Now writing HelloWorld.txt file into job directory.\");\n",
    "os.system(\"echo '\" + now + \" Now writing HelloWorld.txt file into job directory.'\");\n"
   ]
  },
  {
   "cell_type": "code",
   "execution_count": null,
   "metadata": {
    "collapsed": true
   },
   "outputs": [],
   "source": [
    "now = str(datetime.now());\n",
    "parameters = None;\n",
    "with open('parameters.txt') as f:\n",
    "    parameters = f.read().rstrip('\\n')\n",
    "\n",
    "if parameters is None:\n",
    "    raise Exception('Could not read /home/idies/jobs.path') \n",
    "    \n",
    "jobsPath = None\n",
    "with open('/home/idies/jobs.path') as f:\n",
    "    jobsPath = f.read().rstrip('\\n')\n",
    "\n",
    "if jobsPath == \"\" or jobsPath == None:  \n",
    "    raise Exception(now + ' Could not read /home/idies/jobs.path') \n",
    "    \n",
    "print(now  + \" Was able to read /home/idies/jobs.path : \" + jobsPath);\n",
    "os.system(\"echo '\" + now + \" Was able to read /home/idies/jobs.path : \" + jobsPath +\"'\");\n",
    "    \n",
    "target = open(jobsPath + \"HelloWorld.txt\", 'w')\n",
    "target.truncate()\n",
    "line1 =\"Hello world!\"\n",
    "target.write(line1)\n",
    "target.write(\"\\n\")\n",
    "target.close()"
   ]
  },
  {
   "cell_type": "code",
   "execution_count": null,
   "metadata": {
    "collapsed": false
   },
   "outputs": [],
   "source": [
    "now = str(datetime.now());\n",
    "rand2 = random.random();\n",
    "#rand2 = 0.1 # force one result type: python exception or not.\n",
    "\n",
    "if rand2 < 0.5:\n",
    "    print(now  + \" Ending TestNotebook execution with a python exception (dividing by zero).\");\n",
    "    os.system(\"echo '\" + now + \" Ending TestNotebook execution with a python exception (dividing by zero).'\");\n",
    "    a = 1/0;\n",
    "    print(a);\n",
    "else:\n",
    "    print(now  + \" Ending TestNotebook execution with no python exception.\");\n",
    "    os.system(\"echo '\" + now + \" Ending TestNotebook execution with no python exception.'\");"
   ]
  }
 ],
 "metadata": {
  "kernelspec": {
   "display_name": "Python 3",
   "language": "python",
   "name": "python3"
  },
  "language_info": {
   "codemirror_mode": {
    "name": "ipython",
    "version": 3
   },
   "file_extension": ".py",
   "mimetype": "text/x-python",
   "name": "python",
   "nbconvert_exporter": "python",
   "pygments_lexer": "ipython3",
   "version": "3.5.1"
  }
 },
 "nbformat": 4,
 "nbformat_minor": 0
}
